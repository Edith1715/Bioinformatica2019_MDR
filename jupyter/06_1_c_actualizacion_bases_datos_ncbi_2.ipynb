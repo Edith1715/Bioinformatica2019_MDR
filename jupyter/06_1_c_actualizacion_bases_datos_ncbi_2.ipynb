{
 "cells": [
  {
   "cell_type": "markdown",
   "metadata": {},
   "source": [
    "# Actualización de las bases de datos del NCBI"
   ]
  },
  {
   "cell_type": "markdown",
   "metadata": {},
   "source": [
    "### Se requiere tener instalado el blast\n",
    "https://blast.ncbi.nlm.nih.gov/Blast.cgi?CMD=Web&PAGE_TYPE=BlastDocs&DOC_TYPE=Download\n",
    "ejecutar en el cmd\n",
    "blastn -version\n",
    "\n",
    "### se requiere tener instalado el lenguaje perl\n",
    "https://www.perl.org\n",
    "ejecutar en el cmd\n",
    "perl -version \n",
    "\n"
   ]
  },
  {
   "cell_type": "markdown",
   "metadata": {},
   "source": [
    "### se actualiza la base de datos utilizando un comando de perl"
   ]
  },
  {
   "cell_type": "code",
   "execution_count": 1,
   "metadata": {},
   "outputs": [],
   "source": [
    "import os"
   ]
  },
  {
   "cell_type": "code",
   "execution_count": 2,
   "metadata": {},
   "outputs": [
    {
     "name": "stdout",
     "output_type": "stream",
     "text": [
      "C:\\Users\\SalaD26\\Desktop\\bigdata\n"
     ]
    }
   ],
   "source": [
    "cd ~/Desktop/bigdata/"
   ]
  },
  {
   "cell_type": "markdown",
   "metadata": {},
   "source": [
    "## verificar que está el archivo\n",
    "`update_blastdb.pl`\n"
   ]
  },
  {
   "cell_type": "markdown",
   "metadata": {},
   "source": [
    "### En el servidor está en \n",
    "### `/home/jupyter/miniconda3/bin`\n",
    "#### para buscar un archivo se usa\n",
    "`which update_blastdb.pl`\n",
    "`whereis update_blastdb.pl`"
   ]
  },
  {
   "cell_type": "code",
   "execution_count": null,
   "metadata": {
    "scrolled": true
   },
   "outputs": [],
   "source": [
    "ls"
   ]
  },
  {
   "cell_type": "markdown",
   "metadata": {},
   "source": [
    "# Descargue la base de datos 16Smicrobial desde el NCBI"
   ]
  },
  {
   "cell_type": "code",
   "execution_count": 3,
   "metadata": {},
   "outputs": [],
   "source": [
    "os.makedirs('16SMicrobial',exist_ok=True)"
   ]
  },
  {
   "cell_type": "code",
   "execution_count": 4,
   "metadata": {},
   "outputs": [
    {
     "name": "stdout",
     "output_type": "stream",
     "text": [
      "C:\\Users\\SalaD26\\Desktop\\bigdata\\16SMicrobial\n"
     ]
    }
   ],
   "source": [
    "cd ~/Desktop/bigdata/16SMicrobial"
   ]
  },
  {
   "cell_type": "raw",
   "metadata": {},
   "source": [
    "!perl ~/aplicaciones/update_blastdb.pl --passive 16SMicrobial"
   ]
  },
  {
   "cell_type": "raw",
   "metadata": {},
   "source": [
    "!perl /Users/migueldelrio/anaconda3/pkgs/blast-2.6.0-boost1.64_2/bin/update_blastdb.pl --passive 16SMicrobial"
   ]
  },
  {
   "cell_type": "markdown",
   "metadata": {},
   "source": [
    "En caso de no poder instalar mediante el `update_blastdb.pl` se descarga el archivo directamente desde la página del NCBI"
   ]
  },
  {
   "cell_type": "markdown",
   "metadata": {},
   "source": [
    "![](/Users/migueldelrio/Desktop/curso/jupyter/img/ncbi_descarga_bd.png)"
   ]
  },
  {
   "cell_type": "markdown",
   "metadata": {},
   "source": [
    "![](/Users/migueldelrio/Desktop/analisis/img/Gel.jpg)"
   ]
  },
  {
   "cell_type": "code",
   "execution_count": 8,
   "metadata": {},
   "outputs": [],
   "source": [
    "!mv ../16SMicrobial.tar.gz ./"
   ]
  },
  {
   "cell_type": "code",
   "execution_count": 10,
   "metadata": {},
   "outputs": [
    {
     "name": "stdout",
     "output_type": "stream",
     "text": [
      "16SMicrobial.tar.gz\n"
     ]
    }
   ],
   "source": [
    "ls "
   ]
  },
  {
   "cell_type": "code",
   "execution_count": 11,
   "metadata": {},
   "outputs": [
    {
     "name": "stdout",
     "output_type": "stream",
     "text": [
      "16SMicrobial.nhr\n",
      "16SMicrobial.nin\n",
      "16SMicrobial.nnd\n",
      "16SMicrobial.nni\n",
      "16SMicrobial.nog\n",
      "16SMicrobial.nsd\n",
      "16SMicrobial.nsi\n",
      "16SMicrobial.nsq\n",
      "taxdb.btd\n",
      "taxdb.bti\n"
     ]
    }
   ],
   "source": [
    "%%bash\n",
    "cd ~/Desktop/bigdata/16SMicrobial/\n",
    "gunzip 16SMicrobial.tar.gz\n",
    "tar xvf  16SMicrobial.tar"
   ]
  },
  {
   "cell_type": "code",
   "execution_count": 13,
   "metadata": {},
   "outputs": [
    {
     "name": "stdout",
     "output_type": "stream",
     "text": [
      "total 307M\n",
      "-rw-r--r-- 1 SalaD26 197121 3.2M ene. 12 23:03 16SMicrobial.nhr\n",
      "-rw-r--r-- 1 SalaD26 197121 244K ene. 12 23:03 16SMicrobial.nin\n",
      "-rw-r--r-- 1 SalaD26 197121 165K ene. 12 23:03 16SMicrobial.nnd\n",
      "-rw-r--r-- 1 SalaD26 197121  708 ene. 12 23:03 16SMicrobial.nni\n",
      "-rw-r--r-- 1 SalaD26 197121  82K ene. 12 23:03 16SMicrobial.nog\n",
      "-rw-r--r-- 1 SalaD26 197121 678K ene. 12 23:03 16SMicrobial.nsd\n",
      "-rw-r--r-- 1 SalaD26 197121  16K ene. 12 23:03 16SMicrobial.nsi\n",
      "-rw-r--r-- 1 SalaD26 197121 7.4M ene. 12 23:03 16SMicrobial.nsq\n",
      "-rw-r--r-- 1 SalaD26 197121 154M ene. 17 11:56 16SMicrobial.tar\n",
      "-rw-r--r-- 1 SalaD26 197121 129M ene. 12 23:03 taxdb.btd\n",
      "-rw-r--r-- 1 SalaD26 197121  14M ene. 12 23:03 taxdb.bti\n"
     ]
    }
   ],
   "source": [
    "!ls -lh"
   ]
  },
  {
   "cell_type": "code",
   "execution_count": null,
   "metadata": {},
   "outputs": [],
   "source": [
    "!rm 16SMicrobial.tar.gz.md5"
   ]
  },
  {
   "cell_type": "code",
   "execution_count": null,
   "metadata": {},
   "outputs": [],
   "source": [
    "ls -lh"
   ]
  },
  {
   "cell_type": "code",
   "execution_count": null,
   "metadata": {},
   "outputs": [],
   "source": [
    "cd .."
   ]
  },
  {
   "cell_type": "markdown",
   "metadata": {},
   "source": [
    "### Cómo sería el comando para descargar la base de datos taxonómica (taxdb)"
   ]
  },
  {
   "cell_type": "code",
   "execution_count": null,
   "metadata": {},
   "outputs": [],
   "source": [
    "cd ~/Desktop/bigdata/"
   ]
  },
  {
   "cell_type": "code",
   "execution_count": null,
   "metadata": {},
   "outputs": [],
   "source": [
    "!perl ~/aplicaciones/update_blastdb.pl --passive taxdb"
   ]
  },
  {
   "cell_type": "code",
   "execution_count": null,
   "metadata": {},
   "outputs": [],
   "source": [
    "%%bash\n",
    "gunzip taxdb.tar.gz\n",
    "tar xvf  taxdb.tar"
   ]
  },
  {
   "cell_type": "code",
   "execution_count": null,
   "metadata": {},
   "outputs": [],
   "source": [
    "ls -lh"
   ]
  },
  {
   "cell_type": "code",
   "execution_count": null,
   "metadata": {},
   "outputs": [],
   "source": [
    "cd "
   ]
  },
  {
   "cell_type": "markdown",
   "metadata": {},
   "source": [
    "### Cómo serían los comandos para descargar y descomprimir las proteinas de referencia (swissprot)?\n"
   ]
  },
  {
   "cell_type": "code",
   "execution_count": null,
   "metadata": {},
   "outputs": [],
   "source": [
    "cd ~/Desktop/bigdata/"
   ]
  },
  {
   "cell_type": "code",
   "execution_count": null,
   "metadata": {},
   "outputs": [],
   "source": [
    "ls"
   ]
  },
  {
   "cell_type": "code",
   "execution_count": null,
   "metadata": {},
   "outputs": [],
   "source": [
    "os.makedirs('swissprot',exist_ok=True)"
   ]
  },
  {
   "cell_type": "code",
   "execution_count": null,
   "metadata": {},
   "outputs": [],
   "source": [
    "%%bash\n",
    "cd ~/Desktop/bigdata/swissprot\n",
    "perl ~/aplicaciones/update_blastdb.pl --passive swissprot"
   ]
  },
  {
   "cell_type": "markdown",
   "metadata": {},
   "source": [
    "#### Si se descarga una actualización ejecutar la siguiente celda, no hacerlo si la base de datos está actualizada"
   ]
  },
  {
   "cell_type": "code",
   "execution_count": null,
   "metadata": {},
   "outputs": [],
   "source": [
    "%%bash\n",
    "cd ~/Desktop/bigdata/swissprot\n",
    "gunzip swissprot.tar.gz\n",
    "tar xvf  swissprot.tar"
   ]
  },
  {
   "cell_type": "code",
   "execution_count": null,
   "metadata": {},
   "outputs": [],
   "source": [
    "ls -lh swissprot/"
   ]
  },
  {
   "cell_type": "code",
   "execution_count": null,
   "metadata": {},
   "outputs": [],
   "source": [
    "!rm swissprot/swissprot.tar.gz.md5\n",
    "!rm swissprot/swissprot.tar"
   ]
  },
  {
   "cell_type": "markdown",
   "metadata": {},
   "source": [
    "# Hay algunas diferencias entre la base de datos que hay en el NCBI con respecto a la de Uniprot, por lo que será necesario descargar la base de datos original (Uniprot)\n",
    "https://www.uniprot.org/\n",
    "En el recuadro azul del lado izquierdo donde dice *Manually annotated and reviewed*"
   ]
  },
  {
   "cell_type": "markdown",
   "metadata": {},
   "source": [
    "<img src=\"img/uniprot_1.png\">"
   ]
  },
  {
   "cell_type": "markdown",
   "metadata": {},
   "source": [
    "# Mover el cursor a *Download* y dar clic"
   ]
  },
  {
   "cell_type": "markdown",
   "metadata": {},
   "source": [
    "<img src=\"img/uniprot_2.png\">"
   ]
  },
  {
   "cell_type": "markdown",
   "metadata": {},
   "source": [
    "# Descargar el archivo Fasta sin comprimir, si se tiene una conexión con cable, si es por inalámbrico, descargarlo comprimido"
   ]
  },
  {
   "cell_type": "markdown",
   "metadata": {},
   "source": [
    "<img src=\"img/uniprot_3.png\">"
   ]
  },
  {
   "cell_type": "markdown",
   "metadata": {},
   "source": [
    "## Una vez que se ha descargado el archivo, se necesita dar un formato para que blastx lo pueda interpretar adecuadamente"
   ]
  },
  {
   "cell_type": "markdown",
   "metadata": {},
   "source": [
    "# Para la creación de una base de datos a partir de un archivo fasta para la búsqueda con blast, se utiliza el comando\n",
    "`makeblastdb –in mydb.fsa –dbtype nucl –parse_seqids`\n",
    "\n",
    "donde `makeblastdb` es el comando para la creación de la base de datos, `–in` el archivo de entrada, en este caso `mydb.fsa`, `–dbtype` indica el tipo de base de datos, en este caso nucleótidos `nucl` y `–parse_seqids` es el indicador para que utilice los identificadores.\n"
   ]
  },
  {
   "cell_type": "code",
   "execution_count": null,
   "metadata": {},
   "outputs": [],
   "source": [
    "pwd"
   ]
  },
  {
   "cell_type": "code",
   "execution_count": null,
   "metadata": {},
   "outputs": [],
   "source": []
  },
  {
   "cell_type": "code",
   "execution_count": null,
   "metadata": {},
   "outputs": [],
   "source": [
    "os.makedirs('uniprot',exist_ok=True)"
   ]
  },
  {
   "cell_type": "code",
   "execution_count": null,
   "metadata": {},
   "outputs": [],
   "source": [
    "cd uniprot/"
   ]
  },
  {
   "cell_type": "code",
   "execution_count": null,
   "metadata": {},
   "outputs": [],
   "source": [
    "ls"
   ]
  },
  {
   "cell_type": "code",
   "execution_count": null,
   "metadata": {},
   "outputs": [],
   "source": [
    "%%bash\n",
    "cd ~/Desktop/bigdata/uniprot\n",
    "gunzip uniprot.fasta.gz"
   ]
  },
  {
   "cell_type": "code",
   "execution_count": null,
   "metadata": {},
   "outputs": [],
   "source": [
    "ls"
   ]
  },
  {
   "cell_type": "code",
   "execution_count": null,
   "metadata": {},
   "outputs": [],
   "source": [
    "!head uniprot.fasta"
   ]
  },
  {
   "cell_type": "markdown",
   "metadata": {},
   "source": [
    "# Qué tipo de secuencias contiene el archivo uniprot.fasta?"
   ]
  },
  {
   "cell_type": "markdown",
   "metadata": {},
   "source": [
    "# Corrija el siguiente comando de acuerdo a su respuesta"
   ]
  },
  {
   "cell_type": "code",
   "execution_count": null,
   "metadata": {},
   "outputs": [],
   "source": [
    "%%bash\n",
    "makeblastdb –in uniprot.fasta –dbtype nucl –parse_seqids -out uniprot"
   ]
  },
  {
   "cell_type": "code",
   "execution_count": null,
   "metadata": {},
   "outputs": [],
   "source": []
  },
  {
   "cell_type": "code",
   "execution_count": null,
   "metadata": {},
   "outputs": [],
   "source": []
  },
  {
   "cell_type": "markdown",
   "metadata": {},
   "source": [
    "# Si hay unos errores, verifique su comandos y explique qué pasó"
   ]
  },
  {
   "cell_type": "code",
   "execution_count": null,
   "metadata": {},
   "outputs": [],
   "source": [
    "%%bash\n",
    "makeblastdb -in uniprot.fasta -dbtype prot -parse_seqids -out uniprot"
   ]
  },
  {
   "cell_type": "code",
   "execution_count": null,
   "metadata": {
    "scrolled": false
   },
   "outputs": [],
   "source": [
    "ls"
   ]
  },
  {
   "cell_type": "code",
   "execution_count": null,
   "metadata": {},
   "outputs": [],
   "source": []
  }
 ],
 "metadata": {
  "kernelspec": {
   "display_name": "Python 3",
   "language": "python",
   "name": "python3"
  },
  "language_info": {
   "codemirror_mode": {
    "name": "ipython",
    "version": 3
   },
   "file_extension": ".py",
   "mimetype": "text/x-python",
   "name": "python",
   "nbconvert_exporter": "python",
   "pygments_lexer": "ipython3",
   "version": "3.7.1"
  }
 },
 "nbformat": 4,
 "nbformat_minor": 2
}
