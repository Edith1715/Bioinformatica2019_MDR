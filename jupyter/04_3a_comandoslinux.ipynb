{
 "cells": [
  {
   "cell_type": "markdown",
   "metadata": {},
   "source": [
    "# Bitácora para manejo de archivos y sistema operativo\n",
    "\n",
    "# <center> Comandos de *Linux* en Jupyter</center>"
   ]
  },
  {
   "cell_type": "markdown",
   "metadata": {
    "collapsed": true
   },
   "source": [
    "# Comandos de linux en Jupyter"
   ]
  },
  {
   "cell_type": "markdown",
   "metadata": {},
   "source": [
    "Todos los sistemas operativos tiene una opción de manejo a través de la línea de comando"
   ]
  },
  {
   "cell_type": "markdown",
   "metadata": {},
   "source": [
    "### <center>*Windows*</center>\n",
    " <p align=\"center\"><img src= \"img/cmd_windows.png\" width = 50%></p>"
   ]
  },
  {
   "cell_type": "markdown",
   "metadata": {},
   "source": [
    "###  <center>*Terminal de Jupyter*</center>\n",
    "<p align=\"center\"><img src= \"img/jupyter_terminal.png\" width = 50%></p>"
   ]
  },
  {
   "cell_type": "markdown",
   "metadata": {},
   "source": [
    "###  <center>*iOS*</center>\n",
    "<p align=\"center\"><img src= \"img/iOS.png\" width = 50%></p>"
   ]
  },
  {
   "cell_type": "markdown",
   "metadata": {},
   "source": [
    "# Comandos básicos del sistema operativo en la terminal (bash o cdm)"
   ]
  },
  {
   "cell_type": "markdown",
   "metadata": {},
   "source": [
    "|operación | linux/unix/iOS|Windows|\n",
    "|:----------:|:---------------|-------:|\n",
    "|lista de archivos|`ls` |`dir`|\n",
    "|cambio de directorio| `cd` nombre_del_diectorio| `cd` nombre_del_diectorio|\n",
    "|cd directorio por omisión (home)| `cd` |`cd` *|\n",
    "|crear un nuevo directorio| `mkdir` nombre del directorio| `md` nombre_del_directorio|\n",
    "|borrar un directorio | `rmdir` nombre_del_directorio (debe estar vacío)| `del` nombre_del_directorio|\n",
    "|copiar archivos|`cp` nombre_del_archivo lugar_a_donde_se_va_a_copiar|`copy` nombre_del_archivo lugar_a_donde_se_va_a_copiar|\n",
    "\n",
    "\n",
    "* solo dentro de jupyter, en caso de usar el `cmd` entonces el directorio por omisión es raíz `C:\\`"
   ]
  },
  {
   "cell_type": "markdown",
   "metadata": {},
   "source": [
    "# Comandos en linux útiles en el manejo de secuencias"
   ]
  },
  {
   "cell_type": "markdown",
   "metadata": {},
   "source": [
    "Comando|descripción|opciones|\n",
    "-------|-----------|--------|\n",
    "`wc -l`|conteo de lineas del archivo|  líneas|\n",
    "`grep`|búsqueda de un grupo de caracteres| -c contar|\n"
   ]
  },
  {
   "cell_type": "code",
   "execution_count": 3,
   "metadata": {},
   "outputs": [
    {
     "data": {
      "text/plain": [
       "'C:\\\\Users\\\\SalaD26\\\\Desktop\\\\jupyter'"
      ]
     },
     "execution_count": 3,
     "metadata": {},
     "output_type": "execute_result"
    }
   ],
   "source": [
    "pwd"
   ]
  },
  {
   "cell_type": "markdown",
   "metadata": {},
   "source": [
    "## Desplegar líneas de un archivo específico"
   ]
  },
  {
   "cell_type": "markdown",
   "metadata": {},
   "source": [
    "el comando head es para visualizar el encabezado"
   ]
  },
  {
   "cell_type": "code",
   "execution_count": 4,
   "metadata": {
    "scrolled": true
   },
   "outputs": [
    {
     "name": "stdout",
     "output_type": "stream",
     "text": [
      "especie,org,long_total,long_estandar,long_cefalica,diam_ojo,long_hocico,long_mandibular,long_postorbital,long_pedunculo_caudal,Long_base_aleta_anal,dist_hocico_1a_aleta_dorsal,dist_hocico_2a_aleta_dorsal,dist_hocico_aleta_pelvica,long_base_aleta_pelvica,alt_mÃ¡xima_cuerpo,alt_min_pedunculo_caudal,alt_aleta_anal,alt_aleta_pectoral,alt_1a_aleta_dorsal,alt_2a_aleta_dorsal\n",
      "especie1,1,100,86,22,6,8,9,9,19,18,44,56,36,3,17,7,14,16,8,13\n",
      "especie1,2,89,74,19,6,6,8,8,18,14,39,48,31,2,13,6,12,14,7,11\n",
      "especie1,3,114,95,24,7,9,11,11,20,21,49,61,40,6,20,8,15,18,7,16\n",
      "especie1,4,88,74,19,5,6,8,8,17,15,39,48,31,2,14,6,12,14,7,11\n",
      "especie1,5,124,103,30,8,11,14,14,22,21,57,73,45,3,19,10,19,19,10,16\n",
      "especie1,12,101,84,23,6,8,10,10,17,17,46,57,39,5,17,8,15,17,8,13\n",
      "especie1,13,100,86,23,6,8,10,9,19,18,47,57,38,5,18,9,16,20,8,13\n",
      "especie1,6,113,93,26,7,9,12,12,19,19,52,60,42,3,18,10,17,18,8,16\n",
      "especie1,7,109,93,25,7,8,10,10,20,19,48,60,37,5,16,8,15,16,8,13\n"
     ]
    }
   ],
   "source": [
    "!head  ../data/morfo/7sppMorfo.csv"
   ]
  },
  {
   "cell_type": "markdown",
   "metadata": {},
   "source": [
    "# conteo de lineas del archivo"
   ]
  },
  {
   "cell_type": "code",
   "execution_count": 5,
   "metadata": {},
   "outputs": [
    {
     "name": "stdout",
     "output_type": "stream",
     "text": [
      "  367   368 24460 ../data/morfo/7sppMorfo.csv\n"
     ]
    }
   ],
   "source": [
    "!wc ../data/morfo/7sppMorfo.csv"
   ]
  },
  {
   "cell_type": "code",
   "execution_count": 6,
   "metadata": {},
   "outputs": [
    {
     "name": "stdout",
     "output_type": "stream",
     "text": [
      "367 ../data/morfo/7sppMorfo.csv\n"
     ]
    }
   ],
   "source": [
    "!wc -l ../data/morfo/7sppMorfo.csv #número de lineas"
   ]
  },
  {
   "cell_type": "code",
   "execution_count": 7,
   "metadata": {},
   "outputs": [
    {
     "name": "stdout",
     "output_type": "stream",
     "text": [
      "368 ../data/morfo/7sppMorfo.csv\n"
     ]
    }
   ],
   "source": [
    "!wc -w ../data/morfo/7sppMorfo.csv #número de palabras"
   ]
  },
  {
   "cell_type": "code",
   "execution_count": 8,
   "metadata": {},
   "outputs": [
    {
     "name": "stdout",
     "output_type": "stream",
     "text": [
      "24460 ../data/morfo/7sppMorfo.csv\n"
     ]
    }
   ],
   "source": [
    "!wc -c ../data/morfo/7sppMorfo.csv #número de caracteres"
   ]
  },
  {
   "cell_type": "markdown",
   "metadata": {},
   "source": [
    "grep es un comando que te permite buscar el caracter"
   ]
  },
  {
   "cell_type": "code",
   "execution_count": 11,
   "metadata": {
    "scrolled": true
   },
   "outputs": [
    {
     "name": "stdout",
     "output_type": "stream",
     "text": [
      ">Nav1.2F\n",
      ">Nav1.8F\n",
      ">Nav2.2F\n",
      ">PET1.2F\n",
      ">PET1.8F\n",
      ">PET2.2F\n",
      ">PET2.8F\n",
      ">PETsn1.2F\n",
      ">PETsn1.8F\n",
      ">PHBb1.2F\n"
     ]
    }
   ],
   "source": [
    "!grep \">\" ../data/fasta/secuencias10.fasta "
   ]
  },
  {
   "cell_type": "code",
   "execution_count": 12,
   "metadata": {
    "collapsed": true
   },
   "outputs": [
    {
     "name": "stdout",
     "output_type": "stream",
     "text": [
      ">KF651987.1 Chirostoma humboldtianum isolate T1 D-loop, partial sequence; mitochondrial\n",
      ">KF651988.1 Chirostoma humboldtianum isolate VV1 D-loop, partial sequence; mitochondrial\n",
      ">KF651989.1 Chirostoma humboldtianum isolate VV4 D-loop, partial sequence; mitochondrial\n",
      ">KF651990.1 Chirostoma humboldtianum isolate VV9 D-loop, partial sequence; mitochondrial\n",
      ">KF651991.1 Chirostoma humboldtianum isolate VV12 D-loop, partial sequence; mitochondrial\n",
      ">KF651992.1 Chirostoma humboldtianum isolate VV14 D-loop, partial sequence; mitochondrial\n",
      ">KF651993.1 Chirostoma humboldtianum isolate VV15 D-loop, partial sequence; mitochondrial\n",
      ">KF651994.1 Chirostoma humboldtianum isolate VV16 D-loop, partial sequence; mitochondrial\n",
      ">KF651995.1 Chirostoma humboldtianum isolate VV17 D-loop, partial sequence; mitochondrial\n",
      ">KF651996.1 Chirostoma humboldtianum isolate Tx1 D-loop, partial sequence; mitochondrial\n",
      ">KF651997.1 Chirostoma humboldtianum isolate Tx2 D-loop, partial sequence; mitochondrial\n",
      ">KF651998.1 Chirostoma humboldtianum isolate Tx4 D-loop, partial sequence; mitochondrial\n",
      ">KF651999.1 Chirostoma humboldtianum isolate Tx5 D-loop, partial sequence; mitochondrial\n",
      ">KF652000.1 Chirostoma humboldtianum isolate Tx6 D-loop, partial sequence; mitochondrial\n",
      ">KF652001.1 Chirostoma humboldtianum isolate Tx7 D-loop, partial sequence; mitochondrial\n",
      ">KF652002.1 Chirostoma humboldtianum isolate Tx9 D-loop, partial sequence; mitochondrial\n",
      ">KF652003.1 Chirostoma humboldtianum isolate Tx11 D-loop, partial sequence; mitochondrial\n",
      ">KF652004.1 Chirostoma humboldtianum isolate Tx15 D-loop, partial sequence; mitochondrial\n",
      ">KF652005.1 Chirostoma humboldtianum isolate Tx20 D-loop, partial sequence; mitochondrial\n",
      ">KF652006.1 Chirostoma humboldtianum isolate Z1 D-loop, partial sequence; mitochondrial\n",
      ">KF652007.1 Chirostoma humboldtianum isolate Z2 D-loop, partial sequence; mitochondrial\n",
      ">KF652008.1 Chirostoma humboldtianum isolate Z5 D-loop, partial sequence; mitochondrial\n",
      ">KF652009.1 Chirostoma humboldtianum isolate Z6 D-loop, partial sequence; mitochondrial\n",
      ">KF652010.1 Chirostoma humboldtianum isolate Z9 D-loop, partial sequence; mitochondrial\n",
      ">KF652011.1 Chirostoma humboldtianum isolate Z10 D-loop, partial sequence; mitochondrial\n",
      ">KF652012.1 Chirostoma humboldtianum isolate Z11 D-loop, partial sequence; mitochondrial\n",
      ">KF652013.1 Chirostoma humboldtianum isolate Z20 D-loop, partial sequence; mitochondrial\n",
      ">KF652014.1 Chirostoma humboldtianum isolate SJ1 D-loop, partial sequence; mitochondrial\n",
      ">KF652015.1 Chirostoma humboldtianum isolate SJ2 D-loop, partial sequence; mitochondrial\n",
      ">KF652016.1 Chirostoma humboldtianum isolate SJ3 D-loop, partial sequence; mitochondrial\n",
      ">KF652017.1 Chirostoma humboldtianum isolate SJ4 D-loop, partial sequence; mitochondrial\n",
      ">KF652018.1 Chirostoma humboldtianum isolate SJ5 D-loop, partial sequence; mitochondrial\n",
      ">KF652019.1 Chirostoma humboldtianum isolate SJ6 D-loop, partial sequence; mitochondrial\n",
      ">KF652020.1 Chirostoma humboldtianum isolate SJ8 D-loop, partial sequence; mitochondrial\n",
      ">KF652021.1 Chirostoma humboldtianum isolate SJ11 D-loop, partial sequence; mitochondrial\n",
      ">KF652022.1 Chirostoma humboldtianum isolate SJ14 D-loop, partial sequence; mitochondrial\n",
      ">KF652023.1 Chirostoma humboldtianum isolate SJ16 D-loop, partial sequence; mitochondrial\n",
      ">KF652024.1 Chirostoma humboldtianum isolate SJ17 D-loop, partial sequence; mitochondrial\n",
      ">KF652025.1 Chirostoma humboldtianum isolate SJ18 D-loop, partial sequence; mitochondrial\n",
      ">KF652026.1 Chirostoma humboldtianum isolate SP1 D-loop, partial sequence; mitochondrial\n",
      ">KF652027.1 Chirostoma humboldtianum isolate SP2 D-loop, partial sequence; mitochondrial\n",
      ">KF652028.1 Chirostoma humboldtianum isolate SP3 D-loop, partial sequence; mitochondrial\n",
      ">KF652029.1 Chirostoma humboldtianum isolate SP4 D-loop, partial sequence; mitochondrial\n",
      ">KF652030.1 Chirostoma humboldtianum isolate SP5 D-loop, partial sequence; mitochondrial\n",
      ">KF652031.1 Chirostoma humboldtianum isolate SP6 D-loop, partial sequence; mitochondrial\n",
      ">KF652032.1 Chirostoma humboldtianum isolate SP7 D-loop, partial sequence; mitochondrial\n",
      ">KF652033.1 Chirostoma humboldtianum isolate SP8 D-loop, partial sequence; mitochondrial\n",
      ">KF652034.1 Chirostoma humboldtianum isolate SP9 D-loop, partial sequence; mitochondrial\n",
      ">KF652035.1 Chirostoma humboldtianum isolate SP12 D-loop, partial sequence; mitochondrial\n",
      ">KF652036.1 Chirostoma humboldtianum isolate SP13 D-loop, partial sequence; mitochondrial\n",
      ">KF652037.1 Chirostoma humboldtianum isolate SP14 D-loop, partial sequence; mitochondrial\n",
      ">KF652038.1 Chirostoma humboldtianum isolate SP15 D-loop, partial sequence; mitochondrial\n",
      ">KF652039.1 Chirostoma humboldtianum isolate SP16 D-loop, partial sequence; mitochondrial\n",
      ">KF652040.1 Chirostoma humboldtianum isolate SP17 D-loop, partial sequence; mitochondrial\n",
      ">KF652041.1 Chirostoma humboldtianum isolate SP20 D-loop, partial sequence; mitochondrial\n"
     ]
    }
   ],
   "source": [
    "!grep \">\" ../data/fasta/c_h_dloop.fasta"
   ]
  },
  {
   "cell_type": "markdown",
   "metadata": {},
   "source": [
    "### Los comandos se pueden enlazar unos con otros para formar una línea de comandos también conocida como *pipeline*"
   ]
  },
  {
   "cell_type": "code",
   "execution_count": 13,
   "metadata": {},
   "outputs": [
    {
     "name": "stdout",
     "output_type": "stream",
     "text": [
      "10\n"
     ]
    }
   ],
   "source": [
    "!grep \">\" ../data/fasta/secuencias10.fasta| wc -l"
   ]
  },
  {
   "cell_type": "code",
   "execution_count": 14,
   "metadata": {},
   "outputs": [
    {
     "name": "stdout",
     "output_type": "stream",
     "text": [
      "55\n"
     ]
    }
   ],
   "source": [
    "!grep \">\" ../data/fasta/c_h_dloop.fasta| wc -l"
   ]
  },
  {
   "cell_type": "markdown",
   "metadata": {},
   "source": [
    "### De manera similar se pueden contar los caracteres con el fin de conocer cuántas letras hay"
   ]
  },
  {
   "cell_type": "code",
   "execution_count": 16,
   "metadata": {},
   "outputs": [
    {
     "name": "stdout",
     "output_type": "stream",
     "text": [
      "3238\n"
     ]
    }
   ],
   "source": [
    "!grep \"AT\" ../data/fasta/secuencias10.fasta| wc -c"
   ]
  },
  {
   "cell_type": "code",
   "execution_count": 17,
   "metadata": {},
   "outputs": [
    {
     "name": "stdout",
     "output_type": "stream",
     "text": [
      "55\n"
     ]
    }
   ],
   "source": [
    "!grep \"Chirostoma\" ../data/fasta/c_h_dloop.fasta| wc -l"
   ]
  },
  {
   "cell_type": "code",
   "execution_count": 20,
   "metadata": {},
   "outputs": [
    {
     "name": "stdout",
     "output_type": "stream",
     "text": [
      "0\n"
     ]
    }
   ],
   "source": [
    "!grep \"^Chirostoma\" ../data/fasta/c_h_dloop.fasta| wc -l"
   ]
  },
  {
   "cell_type": "code",
   "execution_count": 22,
   "metadata": {},
   "outputs": [
    {
     "name": "stdout",
     "output_type": "stream",
     "text": [
      "10\n"
     ]
    }
   ],
   "source": [
    "!grep \"^>\" ../data/fasta/secuencias10.fasta| wc -l"
   ]
  },
  {
   "cell_type": "code",
   "execution_count": 19,
   "metadata": {},
   "outputs": [
    {
     "name": "stdout",
     "output_type": "stream",
     "text": [
      "368\n"
     ]
    }
   ],
   "source": [
    "!grep \"especie\" ../data/morfo/7sppMorfo_largototal.csv| wc -l"
   ]
  },
  {
   "cell_type": "markdown",
   "metadata": {
    "collapsed": true
   },
   "source": [
    "# Describa qué hace grep y wc"
   ]
  },
  {
   "cell_type": "markdown",
   "metadata": {},
   "source": [
    "**grep** es un comando que busca los caracteres"
   ]
  },
  {
   "cell_type": "markdown",
   "metadata": {},
   "source": [
    "# Puede utilizar \"ls\" desde la terminal? "
   ]
  },
  {
   "cell_type": "code",
   "execution_count": null,
   "metadata": {},
   "outputs": [],
   "source": []
  },
  {
   "cell_type": "markdown",
   "metadata": {},
   "source": [
    "# qué opciones tiene?"
   ]
  },
  {
   "cell_type": "code",
   "execution_count": null,
   "metadata": {},
   "outputs": [],
   "source": []
  },
  {
   "cell_type": "code",
   "execution_count": null,
   "metadata": {},
   "outputs": [],
   "source": []
  }
 ],
 "metadata": {
  "kernelspec": {
   "display_name": "Python 3",
   "language": "python",
   "name": "python3"
  },
  "language_info": {
   "codemirror_mode": {
    "name": "ipython",
    "version": 3
   },
   "file_extension": ".py",
   "mimetype": "text/x-python",
   "name": "python",
   "nbconvert_exporter": "python",
   "pygments_lexer": "ipython3",
   "version": "3.7.1"
  }
 },
 "nbformat": 4,
 "nbformat_minor": 2
}
