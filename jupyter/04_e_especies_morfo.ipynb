{
 "cells": [
  {
   "cell_type": "markdown",
   "metadata": {},
   "source": [
    "# Analisis de los datos morfologicos de siete especies\n",
    "## Bitácora hecha con R y datos morfológicos"
   ]
  },
  {
   "cell_type": "code",
   "execution_count": null,
   "metadata": {},
   "outputs": [],
   "source": [
    "# renglones con informacion completa\n",
    "morfo <-read.csv(\"~/Desktop/data/morfo/7sppMorfo.csv\", header = TRUE)"
   ]
  },
  {
   "cell_type": "code",
   "execution_count": null,
   "metadata": {
    "scrolled": false
   },
   "outputs": [],
   "source": [
    "head(morfo)"
   ]
  },
  {
   "cell_type": "code",
   "execution_count": null,
   "metadata": {},
   "outputs": [],
   "source": [
    "library(psych)\n",
    "library(ggplot2)\n",
    "library(car)\n",
    "library(gplots)\n",
    "library(corrplot)"
   ]
  },
  {
   "cell_type": "code",
   "execution_count": null,
   "metadata": {},
   "outputs": [],
   "source": [
    "library(devtools)\n"
   ]
  },
  {
   "cell_type": "code",
   "execution_count": null,
   "metadata": {},
   "outputs": [],
   "source": [
    "library(devtools)\n",
    "library(ggbiplot)"
   ]
  },
  {
   "cell_type": "code",
   "execution_count": null,
   "metadata": {},
   "outputs": [],
   "source": [
    "#Tomado de\n",
    "#https://stats.idre.ucla.edu/r/faq/how-can-i-get-a-table-of-basic-descriptive-statistics-for-my-variables/\n",
    "#install.packages(\"pastecs\", dependencies=TRUE, repos='http://cran.us.r-project.org')\n",
    "library(pastecs)"
   ]
  },
  {
   "cell_type": "code",
   "execution_count": null,
   "metadata": {},
   "outputs": [],
   "source": [
    "options(scipen=100)\n",
    "options(digits=2)"
   ]
  },
  {
   "cell_type": "code",
   "execution_count": null,
   "metadata": {},
   "outputs": [],
   "source": [
    "stat.desc(morfo)"
   ]
  },
  {
   "cell_type": "markdown",
   "metadata": {},
   "source": [
    "## Estadistica básica para las variables morfológicas"
   ]
  },
  {
   "cell_type": "markdown",
   "metadata": {},
   "source": [
    "## datos simplificados"
   ]
  },
  {
   "cell_type": "code",
   "execution_count": null,
   "metadata": {
    "scrolled": true
   },
   "outputs": [],
   "source": [
    "stat.desc(morfo[3:21], basic = F)"
   ]
  },
  {
   "cell_type": "code",
   "execution_count": null,
   "metadata": {},
   "outputs": [],
   "source": [
    "describe(morfo[3:21])"
   ]
  },
  {
   "cell_type": "markdown",
   "metadata": {},
   "source": [
    "# descripcion por especie"
   ]
  },
  {
   "cell_type": "code",
   "execution_count": null,
   "metadata": {
    "scrolled": false
   },
   "outputs": [],
   "source": [
    "describeBy(morfo[3:21], group=morfo$especie,digits=15, mat = T)"
   ]
  },
  {
   "cell_type": "markdown",
   "metadata": {},
   "source": [
    "# Graficado de los promedios por especie"
   ]
  },
  {
   "cell_type": "code",
   "execution_count": null,
   "metadata": {},
   "outputs": [],
   "source": [
    "attach(morfo)\n",
    "plotmeans(long_total ~especie)"
   ]
  },
  {
   "cell_type": "markdown",
   "metadata": {},
   "source": [
    "# Análisis de la longitud total"
   ]
  },
  {
   "cell_type": "code",
   "execution_count": null,
   "metadata": {
    "scrolled": false
   },
   "outputs": [],
   "source": [
    "plot(long_total)"
   ]
  },
  {
   "cell_type": "code",
   "execution_count": null,
   "metadata": {},
   "outputs": [],
   "source": [
    "lontotal_anova <- aov(long_total ~especie)\n",
    "summary (lontotal_anova)"
   ]
  },
  {
   "cell_type": "code",
   "execution_count": null,
   "metadata": {
    "scrolled": false
   },
   "outputs": [],
   "source": [
    "plot(lontotal_anova)"
   ]
  },
  {
   "cell_type": "code",
   "execution_count": null,
   "metadata": {},
   "outputs": [],
   "source": [
    "bartlett.test(long_total ~especie)"
   ]
  },
  {
   "cell_type": "code",
   "execution_count": null,
   "metadata": {},
   "outputs": [],
   "source": [
    "TukeyHSD(lontotal_anova)"
   ]
  },
  {
   "cell_type": "code",
   "execution_count": null,
   "metadata": {},
   "outputs": [],
   "source": []
  },
  {
   "cell_type": "code",
   "execution_count": null,
   "metadata": {},
   "outputs": [],
   "source": []
  },
  {
   "cell_type": "markdown",
   "metadata": {},
   "source": [
    "# Longitud estándar"
   ]
  },
  {
   "cell_type": "code",
   "execution_count": null,
   "metadata": {
    "scrolled": false
   },
   "outputs": [],
   "source": [
    "plotmeans(long_estandar ~especie)"
   ]
  },
  {
   "cell_type": "code",
   "execution_count": null,
   "metadata": {
    "scrolled": false
   },
   "outputs": [],
   "source": [
    "plot(long_estandar)"
   ]
  },
  {
   "cell_type": "code",
   "execution_count": null,
   "metadata": {},
   "outputs": [],
   "source": [
    "lonestan_anova <- aov(long_estandar ~especie)\n",
    "summary (lonestan_anova)"
   ]
  },
  {
   "cell_type": "code",
   "execution_count": null,
   "metadata": {
    "scrolled": false
   },
   "outputs": [],
   "source": [
    "plot(lonestan_anova)"
   ]
  },
  {
   "cell_type": "code",
   "execution_count": null,
   "metadata": {},
   "outputs": [],
   "source": [
    "bartlett.test(long_estandar ~especie)"
   ]
  },
  {
   "cell_type": "markdown",
   "metadata": {},
   "source": [
    "# Escriba sus conclusiones"
   ]
  },
  {
   "cell_type": "code",
   "execution_count": null,
   "metadata": {},
   "outputs": [],
   "source": []
  },
  {
   "cell_type": "markdown",
   "metadata": {},
   "source": [
    "# podría hacer alguna transformación?"
   ]
  },
  {
   "cell_type": "code",
   "execution_count": null,
   "metadata": {},
   "outputs": [],
   "source": [
    "lonestan_anova <- aov(long_estandar ~especie)\n",
    "summary (lonestan_anova)"
   ]
  },
  {
   "cell_type": "code",
   "execution_count": null,
   "metadata": {},
   "outputs": [],
   "source": [
    "bartlett.test(long_estandar ~especie)"
   ]
  },
  {
   "cell_type": "code",
   "execution_count": null,
   "metadata": {
    "scrolled": false
   },
   "outputs": [],
   "source": [
    "plot(long_estandar)"
   ]
  },
  {
   "cell_type": "code",
   "execution_count": null,
   "metadata": {},
   "outputs": [],
   "source": []
  },
  {
   "cell_type": "code",
   "execution_count": null,
   "metadata": {
    "scrolled": false
   },
   "outputs": [],
   "source": [
    "ggplot(morfo, aes(x=especie, y=long_total)) + geom_boxplot()"
   ]
  },
  {
   "cell_type": "code",
   "execution_count": null,
   "metadata": {
    "scrolled": false
   },
   "outputs": [],
   "source": [
    "ggplot(morfo, aes(x=especie, y=long_estandar)) + geom_boxplot()"
   ]
  },
  {
   "cell_type": "markdown",
   "metadata": {},
   "source": [
    "# Para guardar las imágenes obtenidas con ggplot se puede usar"
   ]
  },
  {
   "cell_type": "code",
   "execution_count": null,
   "metadata": {},
   "outputs": [],
   "source": [
    "ggplot(morfo, aes(x=especie, y=long_estandar)) + geom_boxplot()\n",
    "ggsave(\"img/morfo_long_est.png\", width = 6, height = 6)"
   ]
  },
  {
   "cell_type": "code",
   "execution_count": null,
   "metadata": {},
   "outputs": [],
   "source": [
    "plotmeans(long_cefalica ~especie)"
   ]
  },
  {
   "cell_type": "code",
   "execution_count": null,
   "metadata": {},
   "outputs": [],
   "source": [
    "ggplot(morfo, aes(x=especie, y=long_cefalica)) + geom_boxplot()"
   ]
  },
  {
   "cell_type": "code",
   "execution_count": null,
   "metadata": {},
   "outputs": [],
   "source": [
    "ggplot(morfo, aes(x=especie, y=diam_ojo)) + geom_boxplot()"
   ]
  },
  {
   "cell_type": "code",
   "execution_count": null,
   "metadata": {},
   "outputs": [],
   "source": [
    "plotmeans(long_hocico ~especie)"
   ]
  },
  {
   "cell_type": "code",
   "execution_count": null,
   "metadata": {},
   "outputs": [],
   "source": [
    "ggplot(morfo, aes(x=especie, y=long_mandibular)) + geom_boxplot()"
   ]
  },
  {
   "cell_type": "raw",
   "metadata": {
    "scrolled": false
   },
   "source": [
    "plotmeans(pH ~CXc_fago)"
   ]
  },
  {
   "cell_type": "raw",
   "metadata": {},
   "source": [
    "png(\"img/ph_CXc_fago_amarillo.png\", width = 800, height = 800)\n",
    "plotmeans(pH ~CXc_fago)\n",
    "dev.off()"
   ]
  },
  {
   "cell_type": "raw",
   "metadata": {},
   "source": [
    "pH_anova <- aov(pH ~CXc_fago)\n",
    "summary (pH_anova)"
   ]
  },
  {
   "cell_type": "raw",
   "metadata": {
    "scrolled": false
   },
   "source": [
    "bartlett.test(pH ~CXc_fago)\n",
    "plot(pH_anova)"
   ]
  },
  {
   "cell_type": "raw",
   "metadata": {},
   "source": [
    "kruskal.test(pH ~CXc_fago)"
   ]
  },
  {
   "cell_type": "raw",
   "metadata": {},
   "source": [
    "ggplot(fisiologia2, aes(x=CXc, y=pH, fill = fago)) + geom_boxplot()"
   ]
  },
  {
   "cell_type": "raw",
   "metadata": {},
   "source": [
    "plotmeans(Glucosa ~CXc_fago)"
   ]
  },
  {
   "cell_type": "raw",
   "metadata": {},
   "source": [
    "Glucosa_anova <- aov(Glucosa ~CXc_fago)\n",
    "summary (Glucosa_anova)"
   ]
  },
  {
   "cell_type": "raw",
   "metadata": {
    "scrolled": false
   },
   "source": [
    "bartlett.test(Glucosa ~CXc_fago)\n",
    "plot(Glucosa_anova)"
   ]
  },
  {
   "cell_type": "raw",
   "metadata": {},
   "source": [
    "TukeyHSD(Glucosa_anova)"
   ]
  },
  {
   "cell_type": "raw",
   "metadata": {},
   "source": [
    "kruskal.test(Glucosa ~CXc_fago)"
   ]
  },
  {
   "cell_type": "raw",
   "metadata": {},
   "source": [
    "ggplot(fisiologia2, aes(x=CXc, y=Glucosa, fill = fago)) + geom_boxplot()"
   ]
  },
  {
   "cell_type": "raw",
   "metadata": {},
   "source": [
    "plotmeans(Proteina ~CXc_fago)"
   ]
  },
  {
   "cell_type": "raw",
   "metadata": {},
   "source": [
    "Proteina_anova <- aov(Proteina ~CXc_fago)\n",
    "summary (Proteina_anova)"
   ]
  },
  {
   "cell_type": "raw",
   "metadata": {
    "scrolled": false
   },
   "source": [
    "bartlett.test(Proteina ~CXc_fago)\n",
    "plot(Proteina_anova)"
   ]
  },
  {
   "cell_type": "raw",
   "metadata": {},
   "source": [
    "ggplot(fisiologia2, aes(x=CXc, y=Proteina, fill = fago)) + geom_boxplot()"
   ]
  },
  {
   "cell_type": "raw",
   "metadata": {
    "scrolled": false
   },
   "source": [
    "plotmeans(ALT ~CXc_fago)"
   ]
  },
  {
   "cell_type": "raw",
   "metadata": {},
   "source": [
    "ALT_anova <- aov(ALT ~CXc_fago)\n",
    "summary (ALT_anova)"
   ]
  },
  {
   "cell_type": "raw",
   "metadata": {
    "scrolled": false
   },
   "source": [
    "bartlett.test(ALT ~CXc_fago)\n",
    "plot(ALT_anova)"
   ]
  },
  {
   "cell_type": "raw",
   "metadata": {},
   "source": [
    "ggplot(fisiologia2, aes(x=CXc, y=ALT, fill = fago)) + geom_boxplot()"
   ]
  },
  {
   "cell_type": "raw",
   "metadata": {
    "scrolled": false
   },
   "source": [
    "plotmeans(AST ~CXc_fago)"
   ]
  },
  {
   "cell_type": "raw",
   "metadata": {},
   "source": [
    "AST_anova <- aov(AST ~CXc_fago)\n",
    "summary (AST_anova)"
   ]
  },
  {
   "cell_type": "raw",
   "metadata": {
    "scrolled": false
   },
   "source": [
    "bartlett.test(AST ~CXc_fago)\n",
    "plot(AST_anova)"
   ]
  },
  {
   "cell_type": "raw",
   "metadata": {},
   "source": [
    "TukeyHSD(AST_anova)"
   ]
  },
  {
   "cell_type": "raw",
   "metadata": {},
   "source": [
    "ggplot(fisiologia2, aes(x=CXc, y=AST, fill = fago)) + geom_boxplot()"
   ]
  },
  {
   "cell_type": "code",
   "execution_count": null,
   "metadata": {},
   "outputs": [],
   "source": [
    "M <- cor(morfo[,3:21])\n",
    "\n",
    "# Plot the correlation plot with `M`\n",
    "corrplot(M, method=\"ellipse\", title=\"\\nCorrelacion entre las variables morfologicas de especies\", \n",
    "         type = c(\"lower\"), order= \"FPC\")\n"
   ]
  },
  {
   "cell_type": "code",
   "execution_count": null,
   "metadata": {},
   "outputs": [],
   "source": [
    "png(\"img/morfo_corrplot_.png\", width = 800, height = 800)\n",
    "corrplot(M, method=\"ellipse\", title=\"\\nDispersion variables entre las variables morfologicas de especies\",\n",
    "         type = c(\"lower\"))\n",
    "dev.off()"
   ]
  },
  {
   "cell_type": "markdown",
   "metadata": {},
   "source": [
    "# Análisis de Componentes Principales"
   ]
  },
  {
   "cell_type": "code",
   "execution_count": null,
   "metadata": {},
   "outputs": [],
   "source": [
    "ir.pca <- prcomp(morfo[3:21],\n",
    "                 center = TRUE,\n",
    "                 scale. = TRUE) \n",
    "print(ir.pca)"
   ]
  },
  {
   "cell_type": "code",
   "execution_count": null,
   "metadata": {},
   "outputs": [],
   "source": [
    "plot(ir.pca, type = \"l\", main= \"Varianza explicada de PCA en morfo\")\n",
    "summary(ir.pca)"
   ]
  },
  {
   "cell_type": "code",
   "execution_count": null,
   "metadata": {},
   "outputs": [],
   "source": [
    "png(\"img/morfo_pca_varianza.png\", width = 800, height = 800)\n",
    "plot(ir.pca, type = \"l\", main= \"Varianza explicada de PCA en variables morfologicas\")\n",
    "dev.off()"
   ]
  },
  {
   "cell_type": "markdown",
   "metadata": {},
   "source": [
    "# PCA agrupando los datos de especies"
   ]
  },
  {
   "cell_type": "code",
   "execution_count": null,
   "metadata": {
    "scrolled": false
   },
   "outputs": [],
   "source": [
    "g <- ggbiplot(ir.pca, obs.scale = 1, var.scale = 1, \n",
    "              groups = morfo$especie, ellipse = TRUE, \n",
    "              circle = TRUE)\n",
    "g <- g + scale_color_discrete(name = '')\n",
    "g <- g + theme(legend.direction = 'horizontal', \n",
    "               legend.position = 'top')\n",
    "print(g)\n",
    "# el circulo morado representa por donde están todos las variables con respecto a la media general\n",
    "# las elipses (circulos) representan los valores por dond están los grupos negativo y positivo a CXc"
   ]
  },
  {
   "cell_type": "code",
   "execution_count": null,
   "metadata": {
    "scrolled": false
   },
   "outputs": [],
   "source": [
    "g <- ggbiplot(ir.pca, obs.scale = 1, var.scale = 1, \n",
    "              groups = morfo$especie, ellipse = TRUE, \n",
    "              circle = TRUE)\n",
    "g <- g + scale_color_discrete(name = '')\n",
    "g <- g + theme(legend.direction = 'horizontal', \n",
    "               legend.position = 'bottom')\n",
    "print(g)\n",
    "# el circulo morado representa por donde están todos las variables con respecto a la media general\n",
    "# las elipses (circulos) representan los valores por dond están los grupos negativo y positivo a CXc"
   ]
  },
  {
   "cell_type": "code",
   "execution_count": null,
   "metadata": {},
   "outputs": [],
   "source": [
    "?ggbiplot"
   ]
  },
  {
   "cell_type": "markdown",
   "metadata": {},
   "source": [
    "# PCA agrupando los datos morfológicos\n",
    "### sin circulos, ni elipses"
   ]
  },
  {
   "cell_type": "code",
   "execution_count": null,
   "metadata": {},
   "outputs": [],
   "source": [
    "g <- ggbiplot(ir.pca, obs.scale = 1, var.scale = 1, \n",
    "              groups = morfo$especie, ellipse = FALSE, \n",
    "              circle = FALSE)\n",
    "g <- g + scale_color_discrete(name = '')\n",
    "g <- g + theme(legend.direction = 'horizontal', \n",
    "               legend.position = 'top')\n",
    "print(g)"
   ]
  },
  {
   "cell_type": "code",
   "execution_count": null,
   "metadata": {},
   "outputs": [],
   "source": [
    "png(\"img/morfo_PCA.png\", width = 800, height = 800)\n",
    "print(g)\n",
    "dev.off()"
   ]
  },
  {
   "cell_type": "code",
   "execution_count": null,
   "metadata": {},
   "outputs": [],
   "source": []
  },
  {
   "cell_type": "code",
   "execution_count": null,
   "metadata": {},
   "outputs": [],
   "source": []
  },
  {
   "cell_type": "code",
   "execution_count": null,
   "metadata": {},
   "outputs": [],
   "source": []
  },
  {
   "cell_type": "code",
   "execution_count": null,
   "metadata": {},
   "outputs": [],
   "source": []
  },
  {
   "cell_type": "markdown",
   "metadata": {},
   "source": [
    "# Escriba qué es lo que aprendió en esta bitácora y en qué le podría ayudar en su trabajo, sea tan explícito como le sea posible"
   ]
  },
  {
   "cell_type": "code",
   "execution_count": null,
   "metadata": {},
   "outputs": [],
   "source": []
  },
  {
   "cell_type": "code",
   "execution_count": null,
   "metadata": {},
   "outputs": [],
   "source": []
  },
  {
   "cell_type": "code",
   "execution_count": null,
   "metadata": {},
   "outputs": [],
   "source": []
  },
  {
   "cell_type": "code",
   "execution_count": null,
   "metadata": {},
   "outputs": [],
   "source": []
  }
 ],
 "metadata": {
  "kernelspec": {
   "display_name": "R",
   "language": "R",
   "name": "ir"
  },
  "language_info": {
   "codemirror_mode": "r",
   "file_extension": ".r",
   "mimetype": "text/x-r-source",
   "name": "R",
   "pygments_lexer": "r",
   "version": "3.4.3"
  }
 },
 "nbformat": 4,
 "nbformat_minor": 2
}
