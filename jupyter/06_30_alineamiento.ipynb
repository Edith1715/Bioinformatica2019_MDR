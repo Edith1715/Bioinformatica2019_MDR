{
 "cells": [
  {
   "cell_type": "markdown",
   "metadata": {},
   "source": [
    "# Alineamiento de diferentes secuencias de un mismo locus con Biopython"
   ]
  },
  {
   "cell_type": "code",
   "execution_count": 1,
   "metadata": {},
   "outputs": [],
   "source": [
    "import os, pylab\n",
    "from Bio.Align.Applications import ClustalwCommandline\n",
    "from Bio import pairwise2, SeqIO, AlignIO, Phylo\n"
   ]
  },
  {
   "cell_type": "code",
   "execution_count": 2,
   "metadata": {},
   "outputs": [
    {
     "data": {
      "text/plain": [
       "'/Users/migueldelrio/Desktop/bioinformatica2019/jupyter'"
      ]
     },
     "execution_count": 2,
     "metadata": {},
     "output_type": "execute_result"
    }
   ],
   "source": [
    "pwd"
   ]
  },
  {
   "cell_type": "code",
   "execution_count": 3,
   "metadata": {},
   "outputs": [
    {
     "name": "stdout",
     "output_type": "stream",
     "text": [
      "/Users/migueldelrio/Desktop/bioinformatica2019/data/fasta\n"
     ]
    }
   ],
   "source": [
    "cd ../data/fasta/"
   ]
  },
  {
   "cell_type": "code",
   "execution_count": 5,
   "metadata": {},
   "outputs": [
    {
     "name": "stdout",
     "output_type": "stream",
     "text": [
      "PET1.8F \t PET1.8F\n",
      "PHBb1.2F \t PHBb1.2F\n",
      "PET1.2F \t PET1.2F\n",
      "Nav2.2F \t Nav2.2F\n",
      "PETsn1.2F \t PETsn1.2F\n",
      "Nav1.8F \t Nav1.8F\n",
      "PET2.8F \t PET2.8F\n",
      "PETsn1.8F \t PETsn1.8F\n",
      "Nav1.2F \t Nav1.2F\n",
      "PET2.2F \t PET2.2F\n"
     ]
    }
   ],
   "source": [
    "# visualización de los nombres de las secuencias\n",
    "\n",
    "f= open(\"secuencias10.fasta\")\n",
    "n=0\n",
    "secuencias=[]\n",
    "for rec in SeqIO.parse(f, \"fasta\"):\n",
    "    print (rec.id, \"\\t\", rec.description)"
   ]
  },
  {
   "cell_type": "markdown",
   "metadata": {},
   "source": [
    "# Alineamiento"
   ]
  },
  {
   "cell_type": "code",
   "execution_count": 8,
   "metadata": {},
   "outputs": [],
   "source": [
    "# es necesario saber en qué directorio se localiza el programa clustalw2 que se instaló con conda\n",
    "# la mac mdelrio\n",
    "clustalw_exe = r\"/Users/migueldelrio/Desktop/analisis/scripts/clustalw2\"\n",
    "clustalw_cline = ClustalwCommandline(clustalw_exe, infile=\"secuencias10.fasta\")\n",
    "assert os.path.isfile(clustalw_exe), \"Clustal W executable missing\"\n",
    "stdout, stderr = clustalw_cline()"
   ]
  },
  {
   "cell_type": "raw",
   "metadata": {},
   "source": [
    "# es necesario saber en qué directorio se localiza el programa clustalw2 que se instaló con conda\n",
    "# en este caso se encuentra en /home/jupyter/miniconda3/bin/clustalw2\n",
    "clustalw_exe = r\"/home/jupyter/miniconda3/bin/clustalw2\"\n",
    "clustalw_cline = ClustalwCommandline(clustalw_exe, infile=\"secuencias_anotadas.fasta\")\n",
    "assert os.path.isfile(clustalw_exe), \"Clustal W executable missing\"\n",
    "stdout, stderr = clustalw_cline()"
   ]
  },
  {
   "cell_type": "markdown",
   "metadata": {},
   "source": [
    "#### Se verifica la presencia de los archivos .aln y .dnd"
   ]
  },
  {
   "cell_type": "code",
   "execution_count": 9,
   "metadata": {},
   "outputs": [
    {
     "name": "stdout",
     "output_type": "stream",
     "text": [
      "Nav1.2F.fa          PET1.2F.fasta       PETsn1.2F.fasta     secuencias10.dnd\r\n",
      "Nav1.2F.fasta       PET1.8F.fasta       PETsn1.8F.fasta     secuencias10.fasta\r\n",
      "Nav1.8F.fasta       PET2.2F.fasta       PHBb1.2F.fasta\r\n",
      "Nav2.2F.fasta       PET2.8F.fasta       secuencias10.aln\r\n"
     ]
    }
   ],
   "source": [
    "ls "
   ]
  },
  {
   "cell_type": "code",
   "execution_count": 10,
   "metadata": {},
   "outputs": [
    {
     "name": "stdout",
     "output_type": "stream",
     "text": [
      "SingleLetterAlphabet() alignment with 10 rows and 346 columns\n",
      "--------------------CCCCCAGTCATGAA-TCACACCGT...--- PET1.8F\n",
      "---------------ACTTCACCCCAGTCATGAA-TCACACCGT...--- PET1.2F\n",
      "-----------------TTCACCCCAGTCATGAA-ACACAAAGT...--- PETsn1.2F\n",
      "-------------------CACCCCAGTCATGAA-ACACAAAGT...TAA PET2.2F\n",
      "------------------TTCCCCCTTTCATGAA-ACACAAAGT...T-- Nav2.2F\n",
      "GGATTTTGCCGGCTTCTCTCTCCTATTTCATGTATACACAAAGT...TA- PETsn1.8F\n",
      "------------------TTCCCCCAGTCATGAT-ACACAAAGT...T-- PET2.8F\n",
      "---------------ACTTC-CCCCAATCATCTG-TCCCACCTT...--- Nav1.8F\n",
      "----------------CTTC-CCCCAATCATCTG-TCCCACCTT...--- Nav1.2F\n",
      "------------TCGACTTCACCCCAGTCGCTGA-TCCTACCGT...--- PHBb1.2F\n",
      "\n"
     ]
    }
   ],
   "source": [
    "# para visualizar el alineamiento se ve el contenido del archivo .aln\n",
    "alignments = AlignIO.parse(\"secuencias10.aln\", \"clustal\")\n",
    "for alignment in alignments:\n",
    "    print(alignment)\n",
    "    print(\"\")"
   ]
  },
  {
   "cell_type": "code",
   "execution_count": 11,
   "metadata": {},
   "outputs": [
    {
     "name": "stdout",
     "output_type": "stream",
     "text": [
      "                       ___ PET1.8F\n",
      "                     ,|\n",
      "                     ||____ PET1.2F\n",
      "    _________________|\n",
      "   |                 |             ____________ PHBb1.2F\n",
      "   |                 |____________|\n",
      "  _|                              |                  __ Nav1.8F\n",
      " | |                              |_________________|\n",
      " | |                                                |______________ Nav1.2F\n",
      " | |\n",
      " | | PET2.8F\n",
      " |\n",
      " | , Nav2.2F\n",
      "_|_|\n",
      " | |__ PETsn1.8F\n",
      " |\n",
      " | PETsn1.2F\n",
      " |\n",
      " | PET2.2F\n",
      "\n"
     ]
    }
   ],
   "source": [
    "# para visualizar el árbol generado en formato ascii, se ve el contenido del archivo .dnd\n",
    "tree = Phylo.read(\"secuencias10.dnd\", \"newick\")\n",
    "Phylo.draw_ascii(tree, file=None, column_width=80)"
   ]
  },
  {
   "cell_type": "code",
   "execution_count": 12,
   "metadata": {},
   "outputs": [
    {
     "data": {
      "image/png": "[encoded data removed]",
      "text/plain": [
       "<Figure size 432x288 with 1 Axes>"
      ]
     },
     "metadata": {},
     "output_type": "display_data"
    }
   ],
   "source": [
    "# La visualización del arbol en formato \n",
    "tree.rooted = True\n",
    "Phylo.draw(tree)"
   ]
  },
  {
   "cell_type": "markdown",
   "metadata": {},
   "source": [
    "### En caso de observar un mensaje parecido a \n",
    "`<Figure size 640x480 with 1 Axes>`\n",
    "### es necesario ejecutar de nuevo la celda"
   ]
  },
  {
   "cell_type": "code",
   "execution_count": null,
   "metadata": {},
   "outputs": [],
   "source": []
  },
  {
   "cell_type": "code",
   "execution_count": null,
   "metadata": {},
   "outputs": [],
   "source": []
  },
  {
   "cell_type": "code",
   "execution_count": null,
   "metadata": {},
   "outputs": [],
   "source": []
  },
  {
   "cell_type": "code",
   "execution_count": null,
   "metadata": {},
   "outputs": [],
   "source": []
  },
  {
   "cell_type": "code",
   "execution_count": null,
   "metadata": {},
   "outputs": [],
   "source": []
  }
 ],
 "metadata": {
  "kernelspec": {
   "display_name": "Python 3",
   "language": "python",
   "name": "python3"
  },
  "language_info": {
   "codemirror_mode": {
    "name": "ipython",
    "version": 3
   },
   "file_extension": ".py",
   "mimetype": "text/x-python",
   "name": "python",
   "nbconvert_exporter": "python",
   "pygments_lexer": "ipython3",
   "version": "3.6.6"
  }
 },
 "nbformat": 4,
 "nbformat_minor": 2
}
