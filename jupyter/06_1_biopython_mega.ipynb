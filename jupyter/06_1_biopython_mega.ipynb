{
 "cells": [
  {
   "cell_type": "markdown",
   "metadata": {},
   "source": [
    "# Bitácora para cambiar el nombre a las secuencias descargadas del GenBank y se usen en Mega"
   ]
  },
  {
   "cell_type": "markdown",
   "metadata": {},
   "source": [
    "Se cargan los paquetes correspondientes"
   ]
  },
  {
   "cell_type": "code",
   "execution_count": 26,
   "metadata": {},
   "outputs": [],
   "source": [
    "from Bio import SeqIO, SeqFeature\n",
    "from Bio.Seq import Seq\n",
    "from Bio.SeqRecord import SeqRecord"
   ]
  },
  {
   "cell_type": "code",
   "execution_count": 27,
   "metadata": {},
   "outputs": [
    {
     "name": "stdout",
     "output_type": "stream",
     "text": [
      "C:\\Users\\SalaD26\\Desktop\\data\\fasta\n"
     ]
    }
   ],
   "source": [
    "cd ~/Desktop/data/fasta/"
   ]
  },
  {
   "cell_type": "code",
   "execution_count": 28,
   "metadata": {},
   "outputs": [
    {
     "name": "stdout",
     "output_type": "stream",
     "text": [
      ">KF651987.1 Chirostoma humboldtianum isolate T1 D-loop, partial sequence; mitochondrial\n",
      "TCTAACTCCCAAAGCTAGGATTCTTACTAAACTACTCTTTGCCGGACTCCGCCCTGTATGTACTTATGTA\n",
      "CATATATGTATTATCACCATTATTATATATTAAGCATTTAATAATACTAATATGGATGTTGAACATTAAT\n",
      "GGTACATAATGTCATAACCAACAAACGATGTAAGTAAACACAGTACACAATAATAAGGTCCGACAAACGT\n",
      "TCAAGCAAGGATTATTCTCACAGGAACAACATGCCGCCCATCAAAATTACTTAATGTATGAGAAACCATC\n",
      "ATCAGTTGATAACTTAATAAAAACTCTTATTGATGGTCAGGGACAGCAATCGTGGGGGTTA\n",
      ">KF651988.1 Chirostoma humboldtianum isolate VV1 D-loop, partial sequence; mitochondrial\n",
      "TCTAACTCCCAAAGCTAGGATTCTTACTAAACTACTCTTTGCCGGACTCCGCCCTGTATGTACTTATGTA\n",
      "CATATATGTATTATCACCATTATCATATATTAAGCATTTAATAATACTAATATGGATATTGAACATTAAT\n",
      "TGTACATAATGTCATGATCAACAGACAATGTAAGCGAACACAATACACAATAATAAGGTCCGACAAACGT\n"
     ]
    }
   ],
   "source": [
    "!head c_h_dloop.fasta"
   ]
  },
  {
   "cell_type": "markdown",
   "metadata": {},
   "source": [
    "### Despliega el identificador y la descriptción de las secuencias"
   ]
  },
  {
   "cell_type": "code",
   "execution_count": 29,
   "metadata": {
    "scrolled": true
   },
   "outputs": [
    {
     "name": "stdout",
     "output_type": "stream",
     "text": [
      "1 KF651987.1 KF651987.1 Chirostoma humboldtianum isolate T1 D-loop, partial sequence; mitochondrial\n",
      "2 KF651988.1 KF651988.1 Chirostoma humboldtianum isolate VV1 D-loop, partial sequence; mitochondrial\n",
      "3 KF651989.1 KF651989.1 Chirostoma humboldtianum isolate VV4 D-loop, partial sequence; mitochondrial\n",
      "4 KF651990.1 KF651990.1 Chirostoma humboldtianum isolate VV9 D-loop, partial sequence; mitochondrial\n",
      "5 KF651991.1 KF651991.1 Chirostoma humboldtianum isolate VV12 D-loop, partial sequence; mitochondrial\n",
      "6 KF651992.1 KF651992.1 Chirostoma humboldtianum isolate VV14 D-loop, partial sequence; mitochondrial\n",
      "7 KF651993.1 KF651993.1 Chirostoma humboldtianum isolate VV15 D-loop, partial sequence; mitochondrial\n",
      "8 KF651994.1 KF651994.1 Chirostoma humboldtianum isolate VV16 D-loop, partial sequence; mitochondrial\n",
      "9 KF651995.1 KF651995.1 Chirostoma humboldtianum isolate VV17 D-loop, partial sequence; mitochondrial\n",
      "10 KF651996.1 KF651996.1 Chirostoma humboldtianum isolate Tx1 D-loop, partial sequence; mitochondrial\n",
      "11 KF651997.1 KF651997.1 Chirostoma humboldtianum isolate Tx2 D-loop, partial sequence; mitochondrial\n",
      "12 KF651998.1 KF651998.1 Chirostoma humboldtianum isolate Tx4 D-loop, partial sequence; mitochondrial\n",
      "13 KF651999.1 KF651999.1 Chirostoma humboldtianum isolate Tx5 D-loop, partial sequence; mitochondrial\n",
      "14 KF652000.1 KF652000.1 Chirostoma humboldtianum isolate Tx6 D-loop, partial sequence; mitochondrial\n",
      "15 KF652001.1 KF652001.1 Chirostoma humboldtianum isolate Tx7 D-loop, partial sequence; mitochondrial\n",
      "16 KF652002.1 KF652002.1 Chirostoma humboldtianum isolate Tx9 D-loop, partial sequence; mitochondrial\n",
      "17 KF652003.1 KF652003.1 Chirostoma humboldtianum isolate Tx11 D-loop, partial sequence; mitochondrial\n",
      "18 KF652004.1 KF652004.1 Chirostoma humboldtianum isolate Tx15 D-loop, partial sequence; mitochondrial\n",
      "19 KF652005.1 KF652005.1 Chirostoma humboldtianum isolate Tx20 D-loop, partial sequence; mitochondrial\n",
      "20 KF652006.1 KF652006.1 Chirostoma humboldtianum isolate Z1 D-loop, partial sequence; mitochondrial\n",
      "21 KF652007.1 KF652007.1 Chirostoma humboldtianum isolate Z2 D-loop, partial sequence; mitochondrial\n",
      "22 KF652008.1 KF652008.1 Chirostoma humboldtianum isolate Z5 D-loop, partial sequence; mitochondrial\n",
      "23 KF652009.1 KF652009.1 Chirostoma humboldtianum isolate Z6 D-loop, partial sequence; mitochondrial\n",
      "24 KF652010.1 KF652010.1 Chirostoma humboldtianum isolate Z9 D-loop, partial sequence; mitochondrial\n",
      "25 KF652011.1 KF652011.1 Chirostoma humboldtianum isolate Z10 D-loop, partial sequence; mitochondrial\n",
      "26 KF652012.1 KF652012.1 Chirostoma humboldtianum isolate Z11 D-loop, partial sequence; mitochondrial\n",
      "27 KF652013.1 KF652013.1 Chirostoma humboldtianum isolate Z20 D-loop, partial sequence; mitochondrial\n",
      "28 KF652014.1 KF652014.1 Chirostoma humboldtianum isolate SJ1 D-loop, partial sequence; mitochondrial\n",
      "29 KF652015.1 KF652015.1 Chirostoma humboldtianum isolate SJ2 D-loop, partial sequence; mitochondrial\n",
      "30 KF652016.1 KF652016.1 Chirostoma humboldtianum isolate SJ3 D-loop, partial sequence; mitochondrial\n",
      "31 KF652017.1 KF652017.1 Chirostoma humboldtianum isolate SJ4 D-loop, partial sequence; mitochondrial\n",
      "32 KF652018.1 KF652018.1 Chirostoma humboldtianum isolate SJ5 D-loop, partial sequence; mitochondrial\n",
      "33 KF652019.1 KF652019.1 Chirostoma humboldtianum isolate SJ6 D-loop, partial sequence; mitochondrial\n",
      "34 KF652020.1 KF652020.1 Chirostoma humboldtianum isolate SJ8 D-loop, partial sequence; mitochondrial\n",
      "35 KF652021.1 KF652021.1 Chirostoma humboldtianum isolate SJ11 D-loop, partial sequence; mitochondrial\n",
      "36 KF652022.1 KF652022.1 Chirostoma humboldtianum isolate SJ14 D-loop, partial sequence; mitochondrial\n",
      "37 KF652023.1 KF652023.1 Chirostoma humboldtianum isolate SJ16 D-loop, partial sequence; mitochondrial\n",
      "38 KF652024.1 KF652024.1 Chirostoma humboldtianum isolate SJ17 D-loop, partial sequence; mitochondrial\n",
      "39 KF652025.1 KF652025.1 Chirostoma humboldtianum isolate SJ18 D-loop, partial sequence; mitochondrial\n",
      "40 KF652026.1 KF652026.1 Chirostoma humboldtianum isolate SP1 D-loop, partial sequence; mitochondrial\n",
      "41 KF652027.1 KF652027.1 Chirostoma humboldtianum isolate SP2 D-loop, partial sequence; mitochondrial\n",
      "42 KF652028.1 KF652028.1 Chirostoma humboldtianum isolate SP3 D-loop, partial sequence; mitochondrial\n",
      "43 KF652029.1 KF652029.1 Chirostoma humboldtianum isolate SP4 D-loop, partial sequence; mitochondrial\n",
      "44 KF652030.1 KF652030.1 Chirostoma humboldtianum isolate SP5 D-loop, partial sequence; mitochondrial\n",
      "45 KF652031.1 KF652031.1 Chirostoma humboldtianum isolate SP6 D-loop, partial sequence; mitochondrial\n",
      "46 KF652032.1 KF652032.1 Chirostoma humboldtianum isolate SP7 D-loop, partial sequence; mitochondrial\n",
      "47 KF652033.1 KF652033.1 Chirostoma humboldtianum isolate SP8 D-loop, partial sequence; mitochondrial\n",
      "48 KF652034.1 KF652034.1 Chirostoma humboldtianum isolate SP9 D-loop, partial sequence; mitochondrial\n",
      "49 KF652035.1 KF652035.1 Chirostoma humboldtianum isolate SP12 D-loop, partial sequence; mitochondrial\n",
      "50 KF652036.1 KF652036.1 Chirostoma humboldtianum isolate SP13 D-loop, partial sequence; mitochondrial\n",
      "51 KF652037.1 KF652037.1 Chirostoma humboldtianum isolate SP14 D-loop, partial sequence; mitochondrial\n",
      "52 KF652038.1 KF652038.1 Chirostoma humboldtianum isolate SP15 D-loop, partial sequence; mitochondrial\n",
      "53 KF652039.1 KF652039.1 Chirostoma humboldtianum isolate SP16 D-loop, partial sequence; mitochondrial\n",
      "54 KF652040.1 KF652040.1 Chirostoma humboldtianum isolate SP17 D-loop, partial sequence; mitochondrial\n",
      "55 KF652041.1 KF652041.1 Chirostoma humboldtianum isolate SP20 D-loop, partial sequence; mitochondrial\n"
     ]
    }
   ],
   "source": [
    "f = open('c_h_dloop.fasta', 'r')\n",
    "n=1\n",
    "for rec in SeqIO.parse(f, \"fasta\"):\n",
    "    print (n, rec.id, rec.description)\n",
    "    n+=1"
   ]
  },
  {
   "cell_type": "markdown",
   "metadata": {},
   "source": [
    "## Se desea cambiar: \n",
    "1. El nombre científico *Chirostoma humboldtianum* a *C. h.* (sin itálicas)\n",
    "2. quitar **isolate**\n",
    "3. quitar **, partial sequence; mitochondrial**\n"
   ]
  },
  {
   "cell_type": "markdown",
   "metadata": {},
   "source": [
    "La siguiente función realiza los tres pasos anteriores"
   ]
  },
  {
   "cell_type": "code",
   "execution_count": 30,
   "metadata": {},
   "outputs": [],
   "source": [
    "def nombrecorto(descripcion):\n",
    "    desc = descripcion.replace(\"Chirostoma humboldtianum isolate\", \"C. h.\").replace(\", partial sequence; mitochondrial\",\"\")\n",
    "    return(desc)"
   ]
  },
  {
   "cell_type": "code",
   "execution_count": 31,
   "metadata": {
    "scrolled": true
   },
   "outputs": [
    {
     "data": {
      "text/plain": [
       "'KF652041.1'"
      ]
     },
     "execution_count": 31,
     "metadata": {},
     "output_type": "execute_result"
    }
   ],
   "source": [
    "rec.id"
   ]
  },
  {
   "cell_type": "code",
   "execution_count": 32,
   "metadata": {},
   "outputs": [
    {
     "data": {
      "text/plain": [
       "'KF652041.1 Chirostoma humboldtianum isolate SP20 D-loop, partial sequence; mitochondrial'"
      ]
     },
     "execution_count": 32,
     "metadata": {},
     "output_type": "execute_result"
    }
   ],
   "source": [
    "rec.description"
   ]
  },
  {
   "cell_type": "code",
   "execution_count": 33,
   "metadata": {},
   "outputs": [
    {
     "data": {
      "text/plain": [
       "Seq('TCTAACTCCCAAAGCTAGGATTCTTACTAAACTACTCTTTGCCGGACTCCGCCC...TTA', SingleLetterAlphabet())"
      ]
     },
     "execution_count": 33,
     "metadata": {},
     "output_type": "execute_result"
    }
   ],
   "source": [
    "rec.seq"
   ]
  },
  {
   "cell_type": "code",
   "execution_count": 34,
   "metadata": {},
   "outputs": [
    {
     "data": {
      "text/plain": [
       "'KF652041.1 C. h. SP20 D-loop'"
      ]
     },
     "execution_count": 34,
     "metadata": {},
     "output_type": "execute_result"
    }
   ],
   "source": [
    "nombrecorto(rec.description)"
   ]
  },
  {
   "cell_type": "code",
   "execution_count": 35,
   "metadata": {},
   "outputs": [
    {
     "name": "stdout",
     "output_type": "stream",
     "text": [
      "C. h. T1 D-loop   KF651987.1\n",
      "C. h. VV1 D-loop  KF651988.1\n",
      "C. h. VV4 D-loop  KF651989.1\n",
      "C. h. VV9 D-loop  KF651990.1\n",
      "C. h. VV12 D-loop KF651991.1\n",
      "C. h. VV14 D-loop KF651992.1\n",
      "C. h. VV15 D-loop KF651993.1\n",
      "C. h. VV16 D-loop KF651994.1\n",
      "C. h. VV17 D-loop KF651995.1\n",
      "C. h. Tx1 D-loop  KF651996.1\n",
      "C. h. Tx2 D-loop  KF651997.1\n",
      "C. h. Tx4 D-loop  KF651998.1\n",
      "C. h. Tx5 D-loop  KF651999.1\n",
      "C. h. Tx6 D-loop  KF652000.1\n",
      "C. h. Tx7 D-loop  KF652001.1\n",
      "C. h. Tx9 D-loop  KF652002.1\n",
      "C. h. Tx11 D-loop KF652003.1\n",
      "C. h. Tx15 D-loop KF652004.1\n",
      "C. h. Tx20 D-loop KF652005.1\n",
      "C. h. Z1 D-loop   KF652006.1\n",
      "C. h. Z2 D-loop   KF652007.1\n",
      "C. h. Z5 D-loop   KF652008.1\n",
      "C. h. Z6 D-loop   KF652009.1\n",
      "C. h. Z9 D-loop   KF652010.1\n",
      "C. h. Z10 D-loop  KF652011.1\n",
      "C. h. Z11 D-loop  KF652012.1\n",
      "C. h. Z20 D-loop  KF652013.1\n",
      "C. h. SJ1 D-loop  KF652014.1\n",
      "C. h. SJ2 D-loop  KF652015.1\n",
      "C. h. SJ3 D-loop  KF652016.1\n",
      "C. h. SJ4 D-loop  KF652017.1\n",
      "C. h. SJ5 D-loop  KF652018.1\n",
      "C. h. SJ6 D-loop  KF652019.1\n",
      "C. h. SJ8 D-loop  KF652020.1\n",
      "C. h. SJ11 D-loop KF652021.1\n",
      "C. h. SJ14 D-loop KF652022.1\n",
      "C. h. SJ16 D-loop KF652023.1\n",
      "C. h. SJ17 D-loop KF652024.1\n",
      "C. h. SJ18 D-loop KF652025.1\n",
      "C. h. SP1 D-loop  KF652026.1\n",
      "C. h. SP2 D-loop  KF652027.1\n",
      "C. h. SP3 D-loop  KF652028.1\n",
      "C. h. SP4 D-loop  KF652029.1\n",
      "C. h. SP5 D-loop  KF652030.1\n",
      "C. h. SP6 D-loop  KF652031.1\n",
      "C. h. SP7 D-loop  KF652032.1\n",
      "C. h. SP8 D-loop  KF652033.1\n",
      "C. h. SP9 D-loop  KF652034.1\n",
      "C. h. SP12 D-loop KF652035.1\n",
      "C. h. SP13 D-loop KF652036.1\n",
      "C. h. SP14 D-loop KF652037.1\n",
      "C. h. SP15 D-loop KF652038.1\n",
      "C. h. SP16 D-loop KF652039.1\n",
      "C. h. SP17 D-loop KF652040.1\n",
      "C. h. SP20 D-loop KF652041.1\n"
     ]
    }
   ],
   "source": [
    "f = open('c_h_dloop.fasta', 'r')\n",
    "secuencias = []\n",
    "n=0\n",
    "for rec in SeqIO.parse(f, \"fasta\"):\n",
    "    nombre = nombrecorto(rec.description)\n",
    "    if len(nombre[11:])<16:\n",
    "        espacio=\"  \"\n",
    "    elif len(nombre[11:])==16:\n",
    "        espacio= \" \"\n",
    "    else:\n",
    "        espacio= \"\"\n",
    "    linea = SeqRecord((rec.seq), id=nombre[11:]+espacio, description=rec.id )\n",
    "    \n",
    "    n+=1\n",
    "    print (linea.id, linea.description)\n",
    "    secuencias.append(linea)"
   ]
  },
  {
   "cell_type": "code",
   "execution_count": 36,
   "metadata": {
    "scrolled": true
   },
   "outputs": [
    {
     "name": "stdout",
     "output_type": "stream",
     "text": [
      "C. h. T1 D-loop   KF651987.1\n",
      "C. h. VV1 D-loop  KF651988.1\n",
      "C. h. VV4 D-loop  KF651989.1\n",
      "C. h. VV9 D-loop  KF651990.1\n",
      "C. h. VV12 D-loop KF651991.1\n",
      "C. h. VV14 D-loop KF651992.1\n",
      "C. h. VV15 D-loop KF651993.1\n",
      "C. h. VV16 D-loop KF651994.1\n",
      "C. h. VV17 D-loop KF651995.1\n",
      "C. h. Tx1 D-loop  KF651996.1\n",
      "C. h. Tx2 D-loop  KF651997.1\n",
      "C. h. Tx4 D-loop  KF651998.1\n",
      "C. h. Tx5 D-loop  KF651999.1\n",
      "C. h. Tx6 D-loop  KF652000.1\n",
      "C. h. Tx7 D-loop  KF652001.1\n",
      "C. h. Tx9 D-loop  KF652002.1\n",
      "C. h. Tx11 D-loop KF652003.1\n",
      "C. h. Tx15 D-loop KF652004.1\n",
      "C. h. Tx20 D-loop KF652005.1\n",
      "C. h. Z1 D-loop   KF652006.1\n",
      "C. h. Z2 D-loop   KF652007.1\n",
      "C. h. Z5 D-loop   KF652008.1\n",
      "C. h. Z6 D-loop   KF652009.1\n",
      "C. h. Z9 D-loop   KF652010.1\n",
      "C. h. Z10 D-loop  KF652011.1\n",
      "C. h. Z11 D-loop  KF652012.1\n",
      "C. h. Z20 D-loop  KF652013.1\n",
      "C. h. SJ1 D-loop  KF652014.1\n",
      "C. h. SJ2 D-loop  KF652015.1\n",
      "C. h. SJ3 D-loop  KF652016.1\n",
      "C. h. SJ4 D-loop  KF652017.1\n",
      "C. h. SJ5 D-loop  KF652018.1\n",
      "C. h. SJ6 D-loop  KF652019.1\n",
      "C. h. SJ8 D-loop  KF652020.1\n",
      "C. h. SJ11 D-loop KF652021.1\n",
      "C. h. SJ14 D-loop KF652022.1\n",
      "C. h. SJ16 D-loop KF652023.1\n",
      "C. h. SJ17 D-loop KF652024.1\n",
      "C. h. SJ18 D-loop KF652025.1\n",
      "C. h. SP1 D-loop  KF652026.1\n",
      "C. h. SP2 D-loop  KF652027.1\n",
      "C. h. SP3 D-loop  KF652028.1\n",
      "C. h. SP4 D-loop  KF652029.1\n",
      "C. h. SP5 D-loop  KF652030.1\n",
      "C. h. SP6 D-loop  KF652031.1\n",
      "C. h. SP7 D-loop  KF652032.1\n",
      "C. h. SP8 D-loop  KF652033.1\n",
      "C. h. SP9 D-loop  KF652034.1\n",
      "C. h. SP12 D-loop KF652035.1\n",
      "C. h. SP13 D-loop KF652036.1\n",
      "C. h. SP14 D-loop KF652037.1\n",
      "C. h. SP15 D-loop KF652038.1\n",
      "C. h. SP16 D-loop KF652039.1\n",
      "C. h. SP17 D-loop KF652040.1\n",
      "C. h. SP20 D-loop KF652041.1\n"
     ]
    }
   ],
   "source": [
    "for rec in secuencias:\n",
    "    print (rec.id,rec.description)"
   ]
  },
  {
   "cell_type": "markdown",
   "metadata": {},
   "source": [
    "### Se guardan las secuencias con un nombre de archivo diferente"
   ]
  },
  {
   "cell_type": "code",
   "execution_count": 37,
   "metadata": {},
   "outputs": [
    {
     "data": {
      "text/plain": [
       "55"
      ]
     },
     "execution_count": 37,
     "metadata": {},
     "output_type": "execute_result"
    }
   ],
   "source": [
    "SeqIO.write(secuencias, 'c_h_dloop_mega.fasta', 'fasta')"
   ]
  },
  {
   "cell_type": "code",
   "execution_count": 38,
   "metadata": {
    "scrolled": true
   },
   "outputs": [
    {
     "name": "stdout",
     "output_type": "stream",
     "text": [
      "total 910K\n",
      "-rw-r--r-- 1 SalaD26 197121  684 ene. 14 12:13 abalone_vasa_jp2015186454.fasta\n",
      "-rw-r--r-- 1 SalaD26 197121  24K ene. 14 12:37 c_h_dloop.fasta\n",
      "-rw-r--r-- 1 SalaD26 197121  24K ene. 16 09:06 c_h_dloop.meg\n",
      "-rw-r--r-- 1 SalaD26 197121  21K ene. 16 17:35 c_h_dloop_mega.fasta\n",
      "-rw-r--r-- 1 SalaD26 197121  22K ene. 16 08:58 c_h_dloop_mega.mas\n",
      "-rw-r--r-- 1 SalaD26 197121  23K ene. 16 08:59 c_h_dloop_mega.mdsx\n",
      "-rw-r--r-- 1 SalaD26 197121  21K ene. 16 08:58 c_h_dloop_mega.meg\n",
      "-rw-r--r-- 1 SalaD26 197121  20K ene. 16 09:23 c_h_dloop_mod.fasta\n",
      "-rw-r--r-- 1 SalaD26 197121  21K ene. 16 09:24 c_h_dloop_mod.mas\n",
      "-rw-r--r-- 1 SalaD26 197121  21K ene. 16 09:24 c_h_dloop_mod.meg\n",
      "-rw-r--r-- 1 SalaD26 197121 3.9K ene. 14 15:28 ejercicio1.txt\n",
      "-rw-r--r-- 1 SalaD26 197121  16K ene. 14 15:31 ejercicio1_arbol.pdf\n",
      "-rw-r--r-- 1 SalaD26 197121 4.0K ene. 14 15:43 ejercicio1_blast16s.txt\n",
      "-rw-r--r-- 1 SalaD26 197121  20K ene. 14 15:47 ejercicio1_blast16s_arbol.pdf\n",
      "-rw-r--r-- 1 SalaD26 197121 554K ene. 14 15:32 ejercicio1_blastn.pdf\n",
      "-rw-r--r-- 1 SalaD26 197121  785 ene. 14 12:11 JP 2015186454-A_8  Abalone vasa gene marker and Method for producing a - Nucleotide - NCBI.txt\n",
      "-rw-r--r-- 1 SalaD26 197121  330 ene. 16 09:02 Nav1.2F.fasta\n",
      "-rw-r--r-- 1 SalaD26 197121  331 ene. 16 09:02 Nav1.8F.fasta\n",
      "-rw-r--r-- 1 SalaD26 197121  345 ene. 16 09:02 Nav2.2F.fasta\n",
      "-rw-r--r-- 1 SalaD26 197121  328 ene. 16 09:02 PET1.2F.fasta\n",
      "-rw-r--r-- 1 SalaD26 197121  325 ene. 16 09:02 PET1.8F.fasta\n",
      "-rw-r--r-- 1 SalaD26 197121  347 ene. 16 09:02 PET2.2F.fasta\n",
      "-rw-r--r-- 1 SalaD26 197121  345 ene. 16 09:02 PET2.8F.fasta\n",
      "-rw-r--r-- 1 SalaD26 197121  328 ene. 16 09:02 PETsn1.2F.fasta\n",
      "-rw-r--r-- 1 SalaD26 197121  368 ene. 16 09:02 PETsn1.8F.fasta\n",
      "-rw-r--r-- 1 SalaD26 197121  310 ene. 16 09:02 PHBb1.2F.fasta\n",
      "-rw-r--r-- 1 SalaD26 197121 3.3K ene. 16 09:02 secuencias10.fasta\n",
      "-rw-r--r-- 1 SalaD26 197121  22K ene. 14 12:31 tyro3_mus.gb\n",
      "-rw-r--r-- 1 SalaD26 197121  13K ene. 14 12:22 vasa_haliotis.fasta\n",
      "-rw-r--r-- 1 SalaD26 197121  34K ene. 14 12:20 vasa_haliotis.gb\n"
     ]
    }
   ],
   "source": [
    "!ls -lh"
   ]
  },
  {
   "cell_type": "code",
   "execution_count": 39,
   "metadata": {
    "scrolled": true
   },
   "outputs": [
    {
     "name": "stdout",
     "output_type": "stream",
     "text": [
      ">C. h. T1 D-loop  KF651987.1\n",
      "TCTAACTCCCAAAGCTAGGATTCTTACTAAACTACTCTTTGCCGGACTCCGCCCTGTATG\n",
      "TACTTATGTACATATATGTATTATCACCATTATTATATATTAAGCATTTAATAATACTAA\n",
      "TATGGATGTTGAACATTAATGGTACATAATGTCATAACCAACAAACGATGTAAGTAAACA\n",
      "CAGTACACAATAATAAGGTCCGACAAACGTTCAAGCAAGGATTATTCTCACAGGAACAAC\n",
      "ATGCCGCCCATCAAAATTACTTAATGTATGAGAAACCATCATCAGTTGATAACTTAATAA\n",
      "AAACTCTTATTGATGGTCAGGGACAGCAATCGTGGGGGTTA\n",
      ">C. h. VV1 D-loop  KF651988.1\n",
      "TCTAACTCCCAAAGCTAGGATTCTTACTAAACTACTCTTTGCCGGACTCCGCCCTGTATG\n",
      "TACTTATGTACATATATGTATTATCACCATTATCATATATTAAGCATTTAATAATACTAA\n"
     ]
    }
   ],
   "source": [
    "!head c_h_dloop_mega.fasta"
   ]
  },
  {
   "cell_type": "markdown",
   "metadata": {},
   "source": [
    "## Indique en qué condiciones tendría que modificar los comandos en la función: \n",
    "`nombrecorto`\n",
    "# para que le dé la descripción de diferente manera."
   ]
  },
  {
   "cell_type": "code",
   "execution_count": 48,
   "metadata": {},
   "outputs": [],
   "source": [
    "def nombrecorto(descripcion):\n",
    "    desc = descripcion.replace(\"Chirostoma humboldtianum isolate\", \"C. h.\").replace(\", partial sequence; mitochondrial\",\"\").replace(\"D-loop\",\"\")\n",
    "    return(desc)"
   ]
  },
  {
   "cell_type": "code",
   "execution_count": 56,
   "metadata": {
    "scrolled": true
   },
   "outputs": [
    {
     "name": "stdout",
     "output_type": "stream",
     "text": [
      "C. h. T1    KF651987.1\n",
      "C. h. VV1   KF651988.1\n",
      "C. h. VV4   KF651989.1\n",
      "C. h. VV9   KF651990.1\n",
      "C. h. VV12  KF651991.1\n",
      "C. h. VV14  KF651992.1\n",
      "C. h. VV15  KF651993.1\n",
      "C. h. VV16  KF651994.1\n",
      "C. h. VV17  KF651995.1\n",
      "C. h. Tx1   KF651996.1\n",
      "C. h. Tx2   KF651997.1\n",
      "C. h. Tx4   KF651998.1\n",
      "C. h. Tx5   KF651999.1\n",
      "C. h. Tx6   KF652000.1\n",
      "C. h. Tx7   KF652001.1\n",
      "C. h. Tx9   KF652002.1\n",
      "C. h. Tx11  KF652003.1\n",
      "C. h. Tx15  KF652004.1\n",
      "C. h. Tx20  KF652005.1\n",
      "C. h. Z1    KF652006.1\n",
      "C. h. Z2    KF652007.1\n",
      "C. h. Z5    KF652008.1\n",
      "C. h. Z6    KF652009.1\n",
      "C. h. Z9    KF652010.1\n",
      "C. h. Z10   KF652011.1\n",
      "C. h. Z11   KF652012.1\n",
      "C. h. Z20   KF652013.1\n",
      "C. h. SJ1   KF652014.1\n",
      "C. h. SJ2   KF652015.1\n",
      "C. h. SJ3   KF652016.1\n",
      "C. h. SJ4   KF652017.1\n",
      "C. h. SJ5   KF652018.1\n",
      "C. h. SJ6   KF652019.1\n",
      "C. h. SJ8   KF652020.1\n",
      "C. h. SJ11  KF652021.1\n",
      "C. h. SJ14  KF652022.1\n",
      "C. h. SJ16  KF652023.1\n",
      "C. h. SJ17  KF652024.1\n",
      "C. h. SJ18  KF652025.1\n",
      "C. h. SP1   KF652026.1\n",
      "C. h. SP2   KF652027.1\n",
      "C. h. SP3   KF652028.1\n",
      "C. h. SP4   KF652029.1\n",
      "C. h. SP5   KF652030.1\n",
      "C. h. SP6   KF652031.1\n",
      "C. h. SP7   KF652032.1\n",
      "C. h. SP8   KF652033.1\n",
      "C. h. SP9   KF652034.1\n",
      "C. h. SP12  KF652035.1\n",
      "C. h. SP13  KF652036.1\n",
      "C. h. SP14  KF652037.1\n",
      "C. h. SP15  KF652038.1\n",
      "C. h. SP16  KF652039.1\n",
      "C. h. SP17  KF652040.1\n",
      "C. h. SP20  KF652041.1\n"
     ]
    }
   ],
   "source": [
    "f = open('c_h_dloop.fasta', 'r')\n",
    "secuencias = []\n",
    "n=0\n",
    "for rec in SeqIO.parse(f, \"fasta\"):\n",
    "    nombre = nombrecorto(rec.description)\n",
    "    if len(nombre[11:])<10:\n",
    "        espacio=\"  \"\n",
    "    elif len(nombre[11:])==10:\n",
    "        espacio= \" \"\n",
    "    else:\n",
    "        espacio= \"\"\n",
    "    linea = SeqRecord((rec.seq), id=nombre[11:]+espacio, description=rec.id )\n",
    "    \n",
    "    n+=1\n",
    "    print (linea.id, linea.description)\n",
    "    secuencias.append(linea)"
   ]
  },
  {
   "cell_type": "code",
   "execution_count": null,
   "metadata": {},
   "outputs": [],
   "source": []
  },
  {
   "cell_type": "code",
   "execution_count": 57,
   "metadata": {},
   "outputs": [
    {
     "data": {
      "text/plain": [
       "55"
      ]
     },
     "execution_count": 57,
     "metadata": {},
     "output_type": "execute_result"
    }
   ],
   "source": [
    "SeqIO.write(secuencias, 'c_h_dloop_mega1.fasta', 'fasta')"
   ]
  },
  {
   "cell_type": "code",
   "execution_count": 58,
   "metadata": {
    "scrolled": true
   },
   "outputs": [
    {
     "name": "stdout",
     "output_type": "stream",
     "text": [
      "total 934K\n",
      "-rw-r--r-- 1 SalaD26 197121  684 ene. 14 12:13 abalone_vasa_jp2015186454.fasta\n",
      "-rw-r--r-- 1 SalaD26 197121  24K ene. 14 12:37 c_h_dloop.fasta\n",
      "-rw-r--r-- 1 SalaD26 197121  24K ene. 16 09:06 c_h_dloop.meg\n",
      "-rw-r--r-- 1 SalaD26 197121  21K ene. 16 17:35 c_h_dloop_mega.fasta\n",
      "-rw-r--r-- 1 SalaD26 197121  22K ene. 16 08:58 c_h_dloop_mega.mas\n",
      "-rw-r--r-- 1 SalaD26 197121  23K ene. 16 08:59 c_h_dloop_mega.mdsx\n",
      "-rw-r--r-- 1 SalaD26 197121  21K ene. 16 08:58 c_h_dloop_mega.meg\n",
      "-rw-r--r-- 1 SalaD26 197121  21K ene. 16 17:43 c_h_dloop_mega1.fasta\n",
      "-rw-r--r-- 1 SalaD26 197121  20K ene. 16 09:23 c_h_dloop_mod.fasta\n",
      "-rw-r--r-- 1 SalaD26 197121  21K ene. 16 09:24 c_h_dloop_mod.mas\n",
      "-rw-r--r-- 1 SalaD26 197121  21K ene. 16 09:24 c_h_dloop_mod.meg\n",
      "-rw-r--r-- 1 SalaD26 197121 3.9K ene. 14 15:28 ejercicio1.txt\n",
      "-rw-r--r-- 1 SalaD26 197121  16K ene. 14 15:31 ejercicio1_arbol.pdf\n",
      "-rw-r--r-- 1 SalaD26 197121 4.0K ene. 14 15:43 ejercicio1_blast16s.txt\n",
      "-rw-r--r-- 1 SalaD26 197121  20K ene. 14 15:47 ejercicio1_blast16s_arbol.pdf\n",
      "-rw-r--r-- 1 SalaD26 197121 554K ene. 14 15:32 ejercicio1_blastn.pdf\n",
      "-rw-r--r-- 1 SalaD26 197121  785 ene. 14 12:11 JP 2015186454-A_8  Abalone vasa gene marker and Method for producing a - Nucleotide - NCBI.txt\n",
      "-rw-r--r-- 1 SalaD26 197121  330 ene. 16 09:02 Nav1.2F.fasta\n",
      "-rw-r--r-- 1 SalaD26 197121  331 ene. 16 09:02 Nav1.8F.fasta\n",
      "-rw-r--r-- 1 SalaD26 197121  345 ene. 16 09:02 Nav2.2F.fasta\n",
      "-rw-r--r-- 1 SalaD26 197121  328 ene. 16 09:02 PET1.2F.fasta\n",
      "-rw-r--r-- 1 SalaD26 197121  325 ene. 16 09:02 PET1.8F.fasta\n",
      "-rw-r--r-- 1 SalaD26 197121  347 ene. 16 09:02 PET2.2F.fasta\n",
      "-rw-r--r-- 1 SalaD26 197121  345 ene. 16 09:02 PET2.8F.fasta\n",
      "-rw-r--r-- 1 SalaD26 197121  328 ene. 16 09:02 PETsn1.2F.fasta\n",
      "-rw-r--r-- 1 SalaD26 197121  368 ene. 16 09:02 PETsn1.8F.fasta\n",
      "-rw-r--r-- 1 SalaD26 197121  310 ene. 16 09:02 PHBb1.2F.fasta\n",
      "-rw-r--r-- 1 SalaD26 197121 3.3K ene. 16 09:02 secuencias10.fasta\n",
      "-rw-r--r-- 1 SalaD26 197121  22K ene. 14 12:31 tyro3_mus.gb\n",
      "-rw-r--r-- 1 SalaD26 197121  13K ene. 14 12:22 vasa_haliotis.fasta\n",
      "-rw-r--r-- 1 SalaD26 197121  34K ene. 14 12:20 vasa_haliotis.gb\n"
     ]
    }
   ],
   "source": [
    "!ls -lh"
   ]
  },
  {
   "cell_type": "code",
   "execution_count": 59,
   "metadata": {
    "scrolled": true
   },
   "outputs": [
    {
     "name": "stdout",
     "output_type": "stream",
     "text": [
      ">C. h. T1   KF651987.1\n",
      "TCTAACTCCCAAAGCTAGGATTCTTACTAAACTACTCTTTGCCGGACTCCGCCCTGTATG\n",
      "TACTTATGTACATATATGTATTATCACCATTATTATATATTAAGCATTTAATAATACTAA\n",
      "TATGGATGTTGAACATTAATGGTACATAATGTCATAACCAACAAACGATGTAAGTAAACA\n",
      "CAGTACACAATAATAAGGTCCGACAAACGTTCAAGCAAGGATTATTCTCACAGGAACAAC\n",
      "ATGCCGCCCATCAAAATTACTTAATGTATGAGAAACCATCATCAGTTGATAACTTAATAA\n",
      "AAACTCTTATTGATGGTCAGGGACAGCAATCGTGGGGGTTA\n",
      ">C. h. VV1  KF651988.1\n",
      "TCTAACTCCCAAAGCTAGGATTCTTACTAAACTACTCTTTGCCGGACTCCGCCCTGTATG\n",
      "TACTTATGTACATATATGTATTATCACCATTATCATATATTAAGCATTTAATAATACTAA\n"
     ]
    }
   ],
   "source": [
    "!head c_h_dloop_mega1.fasta"
   ]
  },
  {
   "cell_type": "code",
   "execution_count": null,
   "metadata": {},
   "outputs": [],
   "source": []
  }
 ],
 "metadata": {
  "kernelspec": {
   "display_name": "Python 3",
   "language": "python",
   "name": "python3"
  },
  "language_info": {
   "codemirror_mode": {
    "name": "ipython",
    "version": 3
   },
   "file_extension": ".py",
   "mimetype": "text/x-python",
   "name": "python",
   "nbconvert_exporter": "python",
   "pygments_lexer": "ipython3",
   "version": "3.7.1"
  }
 },
 "nbformat": 4,
 "nbformat_minor": 2
}
