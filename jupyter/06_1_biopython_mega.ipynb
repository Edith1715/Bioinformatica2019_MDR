{
 "cells": [
  {
   "cell_type": "markdown",
   "metadata": {},
   "source": [
    "# Bitácora para cambiar el nombre a las secuencias descargadas del GenBank y se usen en Mega"
   ]
  },
  {
   "cell_type": "markdown",
   "metadata": {},
   "source": [
    "Se cargan los paquetes correspondientes"
   ]
  },
  {
   "cell_type": "code",
   "execution_count": null,
   "metadata": {},
   "outputs": [],
   "source": [
    "from Bio import SeqIO, SeqFeature\n",
    "from Bio.Seq import Seq\n",
    "from Bio.SeqRecord import SeqRecord"
   ]
  },
  {
   "cell_type": "code",
   "execution_count": null,
   "metadata": {},
   "outputs": [],
   "source": [
    "cd ~/Desktop/data/fasta/"
   ]
  },
  {
   "cell_type": "markdown",
   "metadata": {},
   "source": [
    "### Despliega el identificador y la descriptción de las secuencias"
   ]
  },
  {
   "cell_type": "code",
   "execution_count": null,
   "metadata": {
    "scrolled": false
   },
   "outputs": [],
   "source": [
    "f = open('c_h_dloop.fasta', 'r')\n",
    "n=1\n",
    "for rec in SeqIO.parse(f, \"fasta\"):\n",
    "    print (n, rec.id, rec.description)"
   ]
  },
  {
   "cell_type": "markdown",
   "metadata": {},
   "source": [
    "## Se desea cambiar: \n",
    "1. El nombre científico *Chirostoma humboldtianum* a *C. h.* (sin itálicas)\n",
    "2. quitar **isolate**\n",
    "3. quitar **, partial sequence; mitochondrial**\n"
   ]
  },
  {
   "cell_type": "markdown",
   "metadata": {},
   "source": [
    "La siguiente función realiza los tres pasos anteriores"
   ]
  },
  {
   "cell_type": "code",
   "execution_count": null,
   "metadata": {},
   "outputs": [],
   "source": [
    "def nombrecorto(descripcion):\n",
    "    desc = descripcion.replace(\"Chirostoma humboldtianum isolate\", \"C. h.\").replace(\", partial sequence; mitochondrial\",\"\")\n",
    "    return(desc)"
   ]
  },
  {
   "cell_type": "code",
   "execution_count": null,
   "metadata": {},
   "outputs": [],
   "source": [
    "f = open('c_h_dloop.fasta', 'r')\n",
    "secuencias = []\n",
    "n=0\n",
    "for rec in SeqIO.parse(f, \"fasta\"):\n",
    "    nombre = nombrecorto(rec.description)\n",
    "    if len(nombre[11:])<16:\n",
    "        espacio=\"  \"\n",
    "    elif len(nombre[11:])==16:\n",
    "        espacio= \" \"\n",
    "    else:\n",
    "        espacio= \"\"\n",
    "    linea = SeqRecord((rec.seq), id=nombre[11:]+espacio, description=rec.id )\n",
    "    \n",
    "    n+=1\n",
    "    print (linea.id, linea.description)\n",
    "    secuencias.append(linea)"
   ]
  },
  {
   "cell_type": "markdown",
   "metadata": {},
   "source": [
    "### Se guardan las secuencias con un nombre de archivo diferente"
   ]
  },
  {
   "cell_type": "code",
   "execution_count": null,
   "metadata": {},
   "outputs": [],
   "source": [
    "SeqIO.write(secuencias, 'c_h_dloop_mega.fasta', 'fasta')"
   ]
  },
  {
   "cell_type": "code",
   "execution_count": null,
   "metadata": {},
   "outputs": [],
   "source": []
  }
 ],
 "metadata": {
  "kernelspec": {
   "display_name": "Python 3",
   "language": "python",
   "name": "python3"
  },
  "language_info": {
   "codemirror_mode": {
    "name": "ipython",
    "version": 3
   },
   "file_extension": ".py",
   "mimetype": "text/x-python",
   "name": "python",
   "nbconvert_exporter": "python",
   "pygments_lexer": "ipython3",
   "version": "3.6.6"
  }
 },
 "nbformat": 4,
 "nbformat_minor": 2
}
