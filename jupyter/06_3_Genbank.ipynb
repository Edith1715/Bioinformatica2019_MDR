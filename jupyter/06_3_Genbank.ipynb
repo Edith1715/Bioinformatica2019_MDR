{
 "cells": [
  {
   "cell_type": "markdown",
   "metadata": {},
   "source": [
    "# Bitacora electronica para descargar secuencias del Genbank (NCBI)"
   ]
  },
  {
   "cell_type": "markdown",
   "metadata": {},
   "source": [
    "# para descargar una sola secuencia"
   ]
  },
  {
   "cell_type": "markdown",
   "metadata": {},
   "source": [
    "es necesario cargar las bibliotecas de Biopython "
   ]
  },
  {
   "cell_type": "code",
   "execution_count": null,
   "metadata": {},
   "outputs": [],
   "source": [
    "from Bio import SeqIO, Entrez"
   ]
  },
  {
   "cell_type": "code",
   "execution_count": null,
   "metadata": {},
   "outputs": [],
   "source": [
    "cd ~/Desktop/data/"
   ]
  },
  {
   "cell_type": "markdown",
   "metadata": {},
   "source": [
    "la variable \"lista\" contendrá los números de acceso de las secuencias a descargar"
   ]
  },
  {
   "cell_type": "markdown",
   "metadata": {},
   "source": [
    "En este caso sera una sola secuencia"
   ]
  },
  {
   "cell_type": "code",
   "execution_count": null,
   "metadata": {},
   "outputs": [],
   "source": [
    "lista = \"HZ391319.1\""
   ]
  },
  {
   "cell_type": "markdown",
   "metadata": {},
   "source": [
    "### Es indispensable dar el correo electronico para identificarse en el Genbank\n",
    "### Por favor ponga su correo electrónico"
   ]
  },
  {
   "cell_type": "code",
   "execution_count": null,
   "metadata": {},
   "outputs": [],
   "source": [
    "Entrez.email = \"mdelrio@xanum.uam.mx\"\n",
    "handle = Entrez.efetch(db=\"nucleotide\", rettype=\"gb\", retmode=\"text\", id=lista)\n",
    "seq_record = SeqIO.read(handle, \"genbank\")\n",
    "SeqIO.write(seq_record, \"Abalone_vasa_HZ391319.gb\", \"genbank\")\n",
    "SeqIO.write(seq_record, \"Abalone_vasa_HZ391319.fa\", \"fasta\")\n",
    "handle.close()\n",
    "print(\"%s %s \\nwith %i features\" % (seq_record.id, seq_record.description, len(seq_record.features)))\n",
    "\n"
   ]
  },
  {
   "cell_type": "markdown",
   "metadata": {},
   "source": [
    "Con lo anterior se han creado dos archivo en el directorio ```Desktop/data```"
   ]
  },
  {
   "cell_type": "code",
   "execution_count": null,
   "metadata": {},
   "outputs": [],
   "source": [
    "ls ~/Desktop/data/"
   ]
  },
  {
   "cell_type": "code",
   "execution_count": null,
   "metadata": {},
   "outputs": [],
   "source": [
    "!head Abalone_vasa_HZ391319.fa"
   ]
  },
  {
   "cell_type": "code",
   "execution_count": null,
   "metadata": {},
   "outputs": [],
   "source": [
    "!head Abalone_vasa_HZ391319.gb"
   ]
  },
  {
   "cell_type": "markdown",
   "metadata": {},
   "source": [
    "# Descarga de varias secuencias"
   ]
  },
  {
   "cell_type": "markdown",
   "metadata": {},
   "source": [
    "## Si se requieren descargar secuencias de un artículo, se asigna a una variable los números de acceso de las secuencias deseadas. \n",
    "Como ejemplo, del artículo:\n",
    "\n",
    "López-Wilchis, R. M. Á. Del Río-Portilla y L M Guevara-Chumacero. 2017. Mitochondrial genome of *Pteronotus personatus* (Chiroptera: Mormoopidae): comparison with selected bats and phylogenetic considerations. Genetica. 145:27–35. DOI 10.1007/s10709-016-9943-9\n",
    "\n",
    "https://link.springer.com/article/10.1007%2Fs10709-016-9943-9\n",
    "\n",
    "se utilizaron diferentes organismos para comparar, por lo que, para descargar las secuencias:\n",
    "\n",
    "*Tonatia saurophila* (HG003315), *Carollia perspicillata* (HG003309), *Micronycteris megalotis* (HF947304), *Nyctalus noctula* (NC_027237), *Eptesicus serotinus* (NC_022474), *Rhinolophus sinicus* (KR106992), *Rhinolophus macrotis* (NC_026460), *Hipposideros armiger* (NC_018540), *Pteropus vampyrus* (NC_026542), *Pteropus alecto* (NC_023122), *Rousettus aegyptiacus* (KC702803), and *Epomophorus gambianus* (KT963027)  \n",
    "Se asignarán a la variable *lista*"
   ]
  },
  {
   "cell_type": "code",
   "execution_count": null,
   "metadata": {},
   "outputs": [],
   "source": [
    "lista = \"HG003315, HG003309, HF947304, NC_027237, NC_022474, KR106992, NC_026460, NC_018540, NC_026542, NC_023122, KC702803, KT963027\""
   ]
  },
  {
   "cell_type": "code",
   "execution_count": null,
   "metadata": {},
   "outputs": [],
   "source": [
    "#nucleotidos\n",
    "secuencias= []\n",
    "Entrez.email = \"mdelrio@xanum.uam.mx\"\n",
    "handle = Entrez.efetch(db=\"nucleotide\", rettype=\"gb\", retmode=\"text\", id=lista)\n",
    "for seq_record in SeqIO.parse(handle, \"gb\"):\n",
    "    print(\"%s %s...\" % (seq_record.id, seq_record.description[:50]))\n",
    "    print(\"Sequence length %i, %i features, from: %s\"\n",
    "          % (len(seq_record), len(seq_record.features), seq_record.annotations[\"source\"]))\n",
    "    secuencias.append(seq_record)\n",
    "\n",
    "handle.close()"
   ]
  },
  {
   "cell_type": "markdown",
   "metadata": {},
   "source": [
    "### si se desea guardar la informacion se puede guardar en el formato deseado"
   ]
  },
  {
   "cell_type": "code",
   "execution_count": null,
   "metadata": {},
   "outputs": [],
   "source": [
    "SeqIO.write(secuencias, \"murcielagos.gb\", \"genbank\")\n",
    "SeqIO.write(secuencias, \"murcielagos.fasta\", \"fasta\")"
   ]
  },
  {
   "cell_type": "code",
   "execution_count": null,
   "metadata": {},
   "outputs": [],
   "source": [
    "!head -20 ~/Desktop/data/murcielagos.fasta"
   ]
  },
  {
   "cell_type": "code",
   "execution_count": null,
   "metadata": {},
   "outputs": [],
   "source": [
    "!tail -20 ~/Desktop/data/murcielagos.fasta"
   ]
  },
  {
   "cell_type": "markdown",
   "metadata": {},
   "source": [
    "# Despliege el identificador y la descripción de las secuencias descargadas\n",
    "No olvide contar las secuencias"
   ]
  },
  {
   "cell_type": "raw",
   "metadata": {},
   "source": [
    "n=1\n",
    "for rec in secuencias:\n",
    "    print (n,rec.id, \"\\t\", rec.description)\n",
    "    n+=1"
   ]
  },
  {
   "cell_type": "code",
   "execution_count": null,
   "metadata": {},
   "outputs": [],
   "source": []
  }
 ],
 "metadata": {
  "kernelspec": {
   "display_name": "Python [conda env:bioconda-py36]",
   "language": "python",
   "name": "conda-env-bioconda-py36-py"
  },
  "language_info": {
   "codemirror_mode": {
    "name": "ipython",
    "version": 3
   },
   "file_extension": ".py",
   "mimetype": "text/x-python",
   "name": "python",
   "nbconvert_exporter": "python",
   "pygments_lexer": "ipython3",
   "version": "3.6.7"
  }
 },
 "nbformat": 4,
 "nbformat_minor": 2
}
