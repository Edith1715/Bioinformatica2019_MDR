{
 "cells": [
  {
   "cell_type": "markdown",
   "metadata": {},
   "source": [
    "# Obtención de secuencia complementaria y secuencia reverso complementaria.\n",
    "## Método largo"
   ]
  },
  {
   "cell_type": "code",
   "execution_count": 1,
   "metadata": {},
   "outputs": [],
   "source": [
    "from Bio import SeqIO, SeqFeature\n",
    "from Bio.Seq import Seq\n",
    "from Bio.SeqRecord import SeqRecord"
   ]
  },
  {
   "cell_type": "code",
   "execution_count": 2,
   "metadata": {},
   "outputs": [],
   "source": [
    "sec = \"AATGCGTAGCTCGT\""
   ]
  },
  {
   "cell_type": "markdown",
   "metadata": {},
   "source": [
    "_secuencia complementaria_  \n",
    "3´TTACGCATCGAGCA 5´  \n",
    "_secuencia reverso complementaria_  \n",
    "5´ACGAGCTACGCATT 3´"
   ]
  },
  {
   "cell_type": "code",
   "execution_count": 3,
   "metadata": {},
   "outputs": [
    {
     "data": {
      "text/plain": [
       "'ttTGCGTtGCTCGT'"
      ]
     },
     "execution_count": 3,
     "metadata": {},
     "output_type": "execute_result"
    }
   ],
   "source": [
    "sec2 = sec.replace(\"A\", \"t\")\n",
    "sec2"
   ]
  },
  {
   "cell_type": "code",
   "execution_count": 4,
   "metadata": {},
   "outputs": [
    {
     "data": {
      "text/plain": [
       "'ttaGCGatGCaCGa'"
      ]
     },
     "execution_count": 4,
     "metadata": {},
     "output_type": "execute_result"
    }
   ],
   "source": [
    "sec2 = sec2.replace(\"T\", \"a\")\n",
    "sec2"
   ]
  },
  {
   "cell_type": "code",
   "execution_count": 5,
   "metadata": {},
   "outputs": [
    {
     "data": {
      "text/plain": [
       "'ttaGgGatGgagGa'"
      ]
     },
     "execution_count": 5,
     "metadata": {},
     "output_type": "execute_result"
    }
   ],
   "source": [
    "sec2 = sec2.replace(\"C\", \"g\")\n",
    "sec2"
   ]
  },
  {
   "cell_type": "code",
   "execution_count": 6,
   "metadata": {},
   "outputs": [
    {
     "data": {
      "text/plain": [
       "'ttacgcatcgagca'"
      ]
     },
     "execution_count": 6,
     "metadata": {},
     "output_type": "execute_result"
    }
   ],
   "source": [
    "sec2 = sec2.replace(\"G\", \"c\")\n",
    "sec2"
   ]
  },
  {
   "cell_type": "code",
   "execution_count": 7,
   "metadata": {},
   "outputs": [
    {
     "data": {
      "text/plain": [
       "'TTACGCATCGAGCA'"
      ]
     },
     "execution_count": 7,
     "metadata": {},
     "output_type": "execute_result"
    }
   ],
   "source": [
    "sec2 = sec2.upper()\n",
    "sec2"
   ]
  },
  {
   "cell_type": "markdown",
   "metadata": {},
   "source": [
    "## La secuencia complementaria de sec es sec2"
   ]
  },
  {
   "cell_type": "code",
   "execution_count": 8,
   "metadata": {},
   "outputs": [
    {
     "data": {
      "text/plain": [
       "'ACGAGCTACGCATT'"
      ]
     },
     "execution_count": 8,
     "metadata": {},
     "output_type": "execute_result"
    }
   ],
   "source": [
    "sec3 = sec2[::-1]\n",
    "sec3"
   ]
  },
  {
   "cell_type": "code",
   "execution_count": 9,
   "metadata": {},
   "outputs": [
    {
     "name": "stdout",
     "output_type": "stream",
     "text": [
      "la secuencia original es:\t\t AATGCGTAGCTCGT\n",
      "la secuencia complementaria es:\t\t TTACGCATCGAGCA\n",
      "la secuencia reverso complementaria es:\t ACGAGCTACGCATT\n"
     ]
    }
   ],
   "source": [
    "sec2 = sec.replace(\"A\", \"t\").replace(\"T\", \"a\").replace(\"C\", \"g\").replace(\"G\", \"c\").upper()\n",
    "sec3 = sec2[::-1]\n",
    "print (\"la secuencia original es:\\t\\t\",sec)\n",
    "print (\"la secuencia complementaria es:\\t\\t\",sec2)\n",
    "print (\"la secuencia reverso complementaria es:\\t\",sec3)\n"
   ]
  },
  {
   "cell_type": "markdown",
   "metadata": {},
   "source": [
    "# Método corto"
   ]
  },
  {
   "cell_type": "code",
   "execution_count": 10,
   "metadata": {},
   "outputs": [
    {
     "data": {
      "text/plain": [
       "Seq('AATGCGTAGCTCGT')"
      ]
     },
     "execution_count": 10,
     "metadata": {},
     "output_type": "execute_result"
    }
   ],
   "source": [
    "sec = Seq(\"AATGCGTAGCTCGT\")\n",
    "sec"
   ]
  },
  {
   "cell_type": "code",
   "execution_count": 11,
   "metadata": {},
   "outputs": [
    {
     "data": {
      "text/plain": [
       "Seq('TTACGCATCGAGCA')"
      ]
     },
     "execution_count": 11,
     "metadata": {},
     "output_type": "execute_result"
    }
   ],
   "source": [
    "sec2 = sec.complement()\n",
    "sec2"
   ]
  },
  {
   "cell_type": "code",
   "execution_count": 12,
   "metadata": {},
   "outputs": [
    {
     "data": {
      "text/plain": [
       "Seq('ACGAGCTACGCATT')"
      ]
     },
     "execution_count": 12,
     "metadata": {},
     "output_type": "execute_result"
    }
   ],
   "source": [
    "sec3 = sec.reverse_complement()\n",
    "sec3"
   ]
  },
  {
   "cell_type": "code",
   "execution_count": 13,
   "metadata": {},
   "outputs": [
    {
     "name": "stdout",
     "output_type": "stream",
     "text": [
      "la secuencia original es:\t\t AATGCGTAGCTCGT\n",
      "la secuencia complementaria es:\t\t TTACGCATCGAGCA\n",
      "la secuencia reverso complementaria es:\t ACGAGCTACGCATT\n"
     ]
    }
   ],
   "source": [
    "print (\"la secuencia original es:\\t\\t\",sec)\n",
    "print (\"la secuencia complementaria es:\\t\\t\",sec.complement())\n",
    "print (\"la secuencia reverso complementaria es:\\t\",sec.reverse_complement())"
   ]
  },
  {
   "cell_type": "code",
   "execution_count": 14,
   "metadata": {},
   "outputs": [
    {
     "name": "stdout",
     "output_type": "stream",
     "text": [
      "la secuencia original es: \t\t AATGCGTAGCTCGT\n",
      "la secuencia complementaria es:\t\t TTACGCATCGAGCA\n",
      "la secuencia reverso complementaria es:\t ACGAGCTACGCATT\n"
     ]
    }
   ],
   "source": [
    "print (\"la secuencia original es:\", \"\\t\\t\", sec)\n",
    "print (\"la secuencia complementaria es:\\t\\t\",sec.complement())\n",
    "print (\"la secuencia reverso complementaria es:\\t\",sec.reverse_complement())"
   ]
  },
  {
   "cell_type": "code",
   "execution_count": 15,
   "metadata": {},
   "outputs": [
    {
     "name": "stdout",
     "output_type": "stream",
     "text": [
      "Cuál es la secuencia a procesar?:AATGCGTAGCTCGT\n",
      "la secuencia original es: \t\t AATGCGTAGCTCGT\n",
      "la secuencia complementaria es:\t\t TTACGCATCGAGCA\n",
      "la secuencia reverso complementaria es:\t ACGAGCTACGCATT\n"
     ]
    }
   ],
   "source": [
    "sec = Seq(input(\"Cuál es la secuencia a procesar?:\"))\n",
    "print (\"la secuencia original es:\", \"\\t\\t\", sec)\n",
    "print (\"la secuencia complementaria es:\\t\\t\",sec.complement())\n",
    "print (\"la secuencia reverso complementaria es:\\t\",sec.reverse_complement())"
   ]
  },
  {
   "cell_type": "code",
   "execution_count": 16,
   "metadata": {},
   "outputs": [],
   "source": [
    "lista = (\"AATGCGTAGCTCGT\", \"TTACGCATCGAGCA\", \"ACGAGCTACGCATT\", \"AATGCGTAGCTCGTTTACGCATCGAGCAACGAGCTACGCATT\")"
   ]
  },
  {
   "cell_type": "code",
   "execution_count": 23,
   "metadata": {},
   "outputs": [
    {
     "name": "stdout",
     "output_type": "stream",
     "text": [
      "AATGCGTAGCTCGT\n",
      "TTACGCATCGAGCA\n",
      "ACGAGCTACGCATT\n",
      "AATGCGTAGCTCGTTTACGCATCGAGCAACGAGCTACGCATT\n"
     ]
    }
   ],
   "source": [
    "for rec in lista:\n",
    "    sec = Seq(rec)\n",
    "    print (sec)"
   ]
  },
  {
   "cell_type": "code",
   "execution_count": 30,
   "metadata": {},
   "outputs": [
    {
     "name": "stdout",
     "output_type": "stream",
     "text": [
      "la secuencia 1 es: \t\t\t AATGCGTAGCTCGT\n",
      "la secuencia complementaria es:\t\t TTACGCATCGAGCA\n",
      "la secuencia reverso complementaria es:\t ACGAGCTACGCATT\n",
      "la secuencia 2 es: \t\t\t TTACGCATCGAGCA\n",
      "la secuencia complementaria es:\t\t AATGCGTAGCTCGT\n",
      "la secuencia reverso complementaria es:\t TGCTCGATGCGTAA\n",
      "la secuencia 3 es: \t\t\t ACGAGCTACGCATT\n",
      "la secuencia complementaria es:\t\t TGCTCGATGCGTAA\n",
      "la secuencia reverso complementaria es:\t AATGCGTAGCTCGT\n",
      "la secuencia 4 es: \t\t\t AATGCGTAGCTCGTTTACGCATCGAGCAACGAGCTACGCATT\n",
      "la secuencia complementaria es:\t\t TTACGCATCGAGCAAATGCGTAGCTCGTTGCTCGATGCGTAA\n",
      "la secuencia reverso complementaria es:\t AATGCGTAGCTCGTTGCTCGATGCGTAAACGAGCTACGCATT\n"
     ]
    }
   ],
   "source": [
    "n = 1\n",
    "for rec in lista:\n",
    "    sec = Seq(rec)\n",
    "    print (\"la secuencia\",n, \"es:\", \"\\t\\t\\t\", sec)\n",
    "    print (\"la secuencia complementaria es:\\t\\t\",sec.complement())\n",
    "    print (\"la secuencia reverso complementaria es:\\t\",sec.reverse_complement())\n",
    "    n +=1"
   ]
  },
  {
   "cell_type": "code",
   "execution_count": 24,
   "metadata": {},
   "outputs": [
    {
     "data": {
      "text/plain": [
       "Seq('AATGCGTAGCTCGTTTACGCATCGAGCAACGAGCTACGCATT')"
      ]
     },
     "execution_count": 24,
     "metadata": {},
     "output_type": "execute_result"
    }
   ],
   "source": [
    "sec"
   ]
  },
  {
   "cell_type": "code",
   "execution_count": null,
   "metadata": {},
   "outputs": [],
   "source": []
  },
  {
   "cell_type": "code",
   "execution_count": null,
   "metadata": {},
   "outputs": [],
   "source": []
  },
  {
   "cell_type": "code",
   "execution_count": null,
   "metadata": {},
   "outputs": [],
   "source": []
  },
  {
   "cell_type": "code",
   "execution_count": null,
   "metadata": {},
   "outputs": [],
   "source": []
  },
  {
   "cell_type": "code",
   "execution_count": 21,
   "metadata": {},
   "outputs": [
    {
     "name": "stdout",
     "output_type": "stream",
     "text": [
      "la secuencia  1  es: \t\t\t AATGCGTAGCTCGT\n",
      "la secuencia complementaria es:\t\t TTACGCATCGAGCA\n",
      "la secuencia reverso complementaria es:\t ACGAGCTACGCATT\n",
      "\n",
      "la secuencia  2  es: \t\t\t TTACGCATCGAGCA\n",
      "la secuencia complementaria es:\t\t AATGCGTAGCTCGT\n",
      "la secuencia reverso complementaria es:\t TGCTCGATGCGTAA\n",
      "\n",
      "la secuencia  3  es: \t\t\t ACGAGCTACGCATT\n",
      "la secuencia complementaria es:\t\t TGCTCGATGCGTAA\n",
      "la secuencia reverso complementaria es:\t AATGCGTAGCTCGT\n",
      "\n",
      "la secuencia  4  es: \t\t\t AATGCGTAGCTCGTTTACGCATCGAGCAACGAGCTACGCATT\n",
      "la secuencia complementaria es:\t\t TTACGCATCGAGCAAATGCGTAGCTCGTTGCTCGATGCGTAA\n",
      "la secuencia reverso complementaria es:\t AATGCGTAGCTCGTTGCTCGATGCGTAAACGAGCTACGCATT\n",
      "\n"
     ]
    }
   ],
   "source": [
    "n = 1\n",
    "for rec in lista:\n",
    "    sec = Seq(rec)\n",
    "    print (\"la secuencia \",n,\" es:\", \"\\t\\t\\t\", sec)\n",
    "    print (\"la secuencia complementaria es:\\t\\t\",sec.complement())\n",
    "    print (\"la secuencia reverso complementaria es:\\t\",sec.reverse_complement())\n",
    "    print ()\n",
    "    n+=1"
   ]
  },
  {
   "cell_type": "code",
   "execution_count": null,
   "metadata": {},
   "outputs": [],
   "source": []
  }
 ],
 "metadata": {
  "kernelspec": {
   "display_name": "Python [conda env:bioconda-py36]",
   "language": "python",
   "name": "conda-env-bioconda-py36-py"
  },
  "language_info": {
   "codemirror_mode": {
    "name": "ipython",
    "version": 3
   },
   "file_extension": ".py",
   "mimetype": "text/x-python",
   "name": "python",
   "nbconvert_exporter": "python",
   "pygments_lexer": "ipython3",
   "version": "3.6.7"
  }
 },
 "nbformat": 4,
 "nbformat_minor": 2
}
