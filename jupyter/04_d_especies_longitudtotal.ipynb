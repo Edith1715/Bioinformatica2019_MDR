{
 "cells": [
  {
   "cell_type": "markdown",
   "metadata": {},
   "source": [
    "# Ejemplo de análisis de los datos utilizando la longitud de siete especies\n",
    "## Bitácora hecha con R"
   ]
  },
  {
   "cell_type": "code",
   "execution_count": 2,
   "metadata": {},
   "outputs": [],
   "source": [
    "# leer el archivo con la información. Tiene el formato de comas (valores separados por comas)\n",
    "morfo <-read.csv(\"~/Desktop/data/morfo/7sppMorfo_largototal.csv\", header = TRUE)"
   ]
  },
  {
   "cell_type": "code",
   "execution_count": 3,
   "metadata": {
    "scrolled": false
   },
   "outputs": [
    {
     "data": {
      "text/html": [
       "<table>\n",
       "<thead><tr><th scope=col>especie</th><th scope=col>org</th><th scope=col>long_total</th></tr></thead>\n",
       "<tbody>\n",
       "\t<tr><td>especie1</td><td> 1      </td><td>100     </td></tr>\n",
       "\t<tr><td>especie1</td><td> 2      </td><td> 89     </td></tr>\n",
       "\t<tr><td>especie1</td><td> 3      </td><td>114     </td></tr>\n",
       "\t<tr><td>especie1</td><td> 4      </td><td> 88     </td></tr>\n",
       "\t<tr><td>especie1</td><td> 5      </td><td>124     </td></tr>\n",
       "\t<tr><td>especie1</td><td>12      </td><td>101     </td></tr>\n",
       "</tbody>\n",
       "</table>\n"
      ],
      "text/latex": [
       "\\begin{tabular}{r|lll}\n",
       " especie & org & long\\_total\\\\\n",
       "\\hline\n",
       "\t especie1 &  1       & 100     \\\\\n",
       "\t especie1 &  2       &  89     \\\\\n",
       "\t especie1 &  3       & 114     \\\\\n",
       "\t especie1 &  4       &  88     \\\\\n",
       "\t especie1 &  5       & 124     \\\\\n",
       "\t especie1 & 12       & 101     \\\\\n",
       "\\end{tabular}\n"
      ],
      "text/markdown": [
       "\n",
       "especie | org | long_total | \n",
       "|---|---|---|---|---|---|\n",
       "| especie1 |  1       | 100      | \n",
       "| especie1 |  2       |  89      | \n",
       "| especie1 |  3       | 114      | \n",
       "| especie1 |  4       |  88      | \n",
       "| especie1 |  5       | 124      | \n",
       "| especie1 | 12       | 101      | \n",
       "\n",
       "\n"
      ],
      "text/plain": [
       "  especie  org long_total\n",
       "1 especie1  1  100       \n",
       "2 especie1  2   89       \n",
       "3 especie1  3  114       \n",
       "4 especie1  4   88       \n",
       "5 especie1  5  124       \n",
       "6 especie1 12  101       "
      ]
     },
     "metadata": {},
     "output_type": "display_data"
    }
   ],
   "source": [
    "# Muestra los primeros 5 valores\n",
    "head(morfo) "
   ]
  },
  {
   "cell_type": "code",
   "execution_count": 4,
   "metadata": {},
   "outputs": [
    {
     "name": "stderr",
     "output_type": "stream",
     "text": [
      "\n",
      "Attaching package: 'ggplot2'\n",
      "\n",
      "The following objects are masked from 'package:psych':\n",
      "\n",
      "    %+%, alpha\n",
      "\n",
      "\n",
      "Attaching package: 'car'\n",
      "\n",
      "The following object is masked from 'package:psych':\n",
      "\n",
      "    logit\n",
      "\n",
      "\n",
      "Attaching package: 'gplots'\n",
      "\n",
      "The following object is masked from 'package:stats':\n",
      "\n",
      "    lowess\n",
      "\n",
      "corrplot 0.84 loaded\n",
      "Loading required package: plyr\n",
      "Loading required package: scales\n",
      "\n",
      "Attaching package: 'scales'\n",
      "\n",
      "The following objects are masked from 'package:psych':\n",
      "\n",
      "    alpha, rescale\n",
      "\n",
      "Loading required package: grid\n"
     ]
    }
   ],
   "source": [
    "# Carga los paquetes correspondinetes.\n",
    "library(psych)\n",
    "library(ggplot2)\n",
    "library(car)\n",
    "library(gplots)\n",
    "library(corrplot)\n",
    "library(devtools)\n",
    "library(devtools)\n",
    "library(ggbiplot)"
   ]
  },
  {
   "cell_type": "code",
   "execution_count": 5,
   "metadata": {},
   "outputs": [],
   "source": [
    "# el PCA se tomó de\n",
    "#https://stats.idre.ucla.edu/r/faq/how-can-i-get-a-table-of-basic-descriptive-statistics-for-my-variables/\n",
    "#install.packages(\"pastecs\", dependencies=TRUE, repos='http://cran.us.r-project.org')\n",
    "library(pastecs)"
   ]
  },
  {
   "cell_type": "code",
   "execution_count": 6,
   "metadata": {},
   "outputs": [],
   "source": [
    "options(scipen=100)\n",
    "options(digits=2)"
   ]
  },
  {
   "cell_type": "markdown",
   "metadata": {},
   "source": [
    "# Estadistica descriptiva para todas las variables "
   ]
  },
  {
   "cell_type": "code",
   "execution_count": 7,
   "metadata": {},
   "outputs": [
    {
     "data": {
      "text/html": [
       "<table>\n",
       "<thead><tr><th></th><th scope=col>especie</th><th scope=col>org</th><th scope=col>long_total</th></tr></thead>\n",
       "<tbody>\n",
       "\t<tr><th scope=row>nbr.val</th><td>NA      </td><td>  367.00</td><td>  367.00</td></tr>\n",
       "\t<tr><th scope=row>nbr.null</th><td>NA      </td><td>    0.00</td><td>    0.00</td></tr>\n",
       "\t<tr><th scope=row>nbr.na</th><td>NA      </td><td>    0.00</td><td>    0.00</td></tr>\n",
       "\t<tr><th scope=row>min</th><td>NA      </td><td>    1.00</td><td>   65.00</td></tr>\n",
       "\t<tr><th scope=row>max</th><td>NA      </td><td>  100.00</td><td>  320.00</td></tr>\n",
       "\t<tr><th scope=row>range</th><td>NA      </td><td>   99.00</td><td>  255.00</td></tr>\n",
       "\t<tr><th scope=row>sum</th><td>NA      </td><td>14772.00</td><td>41324.00</td></tr>\n",
       "\t<tr><th scope=row>median</th><td>NA      </td><td>   36.00</td><td>   97.00</td></tr>\n",
       "\t<tr><th scope=row>mean</th><td>NA      </td><td>   40.25</td><td>  112.60</td></tr>\n",
       "\t<tr><th scope=row>SE.mean</th><td>NA      </td><td>    1.49</td><td>    2.41</td></tr>\n",
       "\t<tr><th scope=row>CI.mean</th><td>NA      </td><td>    2.93</td><td>    4.73</td></tr>\n",
       "\t<tr><th scope=row>var</th><td>NA      </td><td>  812.29</td><td> 2125.39</td></tr>\n",
       "\t<tr><th scope=row>std.dev</th><td>NA      </td><td>   28.50</td><td>   46.10</td></tr>\n",
       "\t<tr><th scope=row>coef.var</th><td>NA      </td><td>    0.71</td><td>    0.41</td></tr>\n",
       "</tbody>\n",
       "</table>\n"
      ],
      "text/latex": [
       "\\begin{tabular}{r|lll}\n",
       "  & especie & org & long\\_total\\\\\n",
       "\\hline\n",
       "\tnbr.val & NA       &   367.00 &   367.00\\\\\n",
       "\tnbr.null & NA       &     0.00 &     0.00\\\\\n",
       "\tnbr.na & NA       &     0.00 &     0.00\\\\\n",
       "\tmin & NA       &     1.00 &    65.00\\\\\n",
       "\tmax & NA       &   100.00 &   320.00\\\\\n",
       "\trange & NA       &    99.00 &   255.00\\\\\n",
       "\tsum & NA       & 14772.00 & 41324.00\\\\\n",
       "\tmedian & NA       &    36.00 &    97.00\\\\\n",
       "\tmean & NA       &    40.25 &   112.60\\\\\n",
       "\tSE.mean & NA       &     1.49 &     2.41\\\\\n",
       "\tCI.mean & NA       &     2.93 &     4.73\\\\\n",
       "\tvar & NA       &   812.29 &  2125.39\\\\\n",
       "\tstd.dev & NA       &    28.50 &    46.10\\\\\n",
       "\tcoef.var & NA       &     0.71 &     0.41\\\\\n",
       "\\end{tabular}\n"
      ],
      "text/markdown": [
       "\n",
       "| <!--/--> | especie | org | long_total | \n",
       "|---|---|---|---|---|---|---|---|---|---|---|---|---|---|\n",
       "| nbr.val | NA       |   367.00 |   367.00 | \n",
       "| nbr.null | NA       |     0.00 |     0.00 | \n",
       "| nbr.na | NA       |     0.00 |     0.00 | \n",
       "| min | NA       |     1.00 |    65.00 | \n",
       "| max | NA       |   100.00 |   320.00 | \n",
       "| range | NA       |    99.00 |   255.00 | \n",
       "| sum | NA       | 14772.00 | 41324.00 | \n",
       "| median | NA       |    36.00 |    97.00 | \n",
       "| mean | NA       |    40.25 |   112.60 | \n",
       "| SE.mean | NA       |     1.49 |     2.41 | \n",
       "| CI.mean | NA       |     2.93 |     4.73 | \n",
       "| var | NA       |   812.29 |  2125.39 | \n",
       "| std.dev | NA       |    28.50 |    46.10 | \n",
       "| coef.var | NA       |     0.71 |     0.41 | \n",
       "\n",
       "\n"
      ],
      "text/plain": [
       "         especie org      long_total\n",
       "nbr.val  NA        367.00   367.00  \n",
       "nbr.null NA          0.00     0.00  \n",
       "nbr.na   NA          0.00     0.00  \n",
       "min      NA          1.00    65.00  \n",
       "max      NA        100.00   320.00  \n",
       "range    NA         99.00   255.00  \n",
       "sum      NA      14772.00 41324.00  \n",
       "median   NA         36.00    97.00  \n",
       "mean     NA         40.25   112.60  \n",
       "SE.mean  NA          1.49     2.41  \n",
       "CI.mean  NA          2.93     4.73  \n",
       "var      NA        812.29  2125.39  \n",
       "std.dev  NA         28.50    46.10  \n",
       "coef.var NA          0.71     0.41  "
      ]
     },
     "metadata": {},
     "output_type": "display_data"
    }
   ],
   "source": [
    "stat.desc(morfo)"
   ]
  },
  {
   "cell_type": "markdown",
   "metadata": {},
   "source": [
    "## qué comando usaría para que solo diera los valores de la longitud total?"
   ]
  },
  {
   "cell_type": "code",
   "execution_count": 8,
   "metadata": {},
   "outputs": [
    {
     "data": {
      "text/html": [
       "<table>\n",
       "<thead><tr><th></th><th scope=col>long_total</th></tr></thead>\n",
       "<tbody>\n",
       "\t<tr><th scope=row>nbr.val</th><td>  367.00</td></tr>\n",
       "\t<tr><th scope=row>nbr.null</th><td>    0.00</td></tr>\n",
       "\t<tr><th scope=row>nbr.na</th><td>    0.00</td></tr>\n",
       "\t<tr><th scope=row>min</th><td>   65.00</td></tr>\n",
       "\t<tr><th scope=row>max</th><td>  320.00</td></tr>\n",
       "\t<tr><th scope=row>range</th><td>  255.00</td></tr>\n",
       "\t<tr><th scope=row>sum</th><td>41324.00</td></tr>\n",
       "\t<tr><th scope=row>median</th><td>   97.00</td></tr>\n",
       "\t<tr><th scope=row>mean</th><td>  112.60</td></tr>\n",
       "\t<tr><th scope=row>SE.mean</th><td>    2.41</td></tr>\n",
       "\t<tr><th scope=row>CI.mean.0.95</th><td>    4.73</td></tr>\n",
       "\t<tr><th scope=row>var</th><td> 2125.39</td></tr>\n",
       "\t<tr><th scope=row>std.dev</th><td>   46.10</td></tr>\n",
       "\t<tr><th scope=row>coef.var</th><td>    0.41</td></tr>\n",
       "</tbody>\n",
       "</table>\n"
      ],
      "text/latex": [
       "\\begin{tabular}{r|l}\n",
       "  & long\\_total\\\\\n",
       "\\hline\n",
       "\tnbr.val &   367.00\\\\\n",
       "\tnbr.null &     0.00\\\\\n",
       "\tnbr.na &     0.00\\\\\n",
       "\tmin &    65.00\\\\\n",
       "\tmax &   320.00\\\\\n",
       "\trange &   255.00\\\\\n",
       "\tsum & 41324.00\\\\\n",
       "\tmedian &    97.00\\\\\n",
       "\tmean &   112.60\\\\\n",
       "\tSE.mean &     2.41\\\\\n",
       "\tCI.mean.0.95 &     4.73\\\\\n",
       "\tvar &  2125.39\\\\\n",
       "\tstd.dev &    46.10\\\\\n",
       "\tcoef.var &     0.41\\\\\n",
       "\\end{tabular}\n"
      ],
      "text/markdown": [
       "\n",
       "| <!--/--> | long_total | \n",
       "|---|---|---|---|---|---|---|---|---|---|---|---|---|---|\n",
       "| nbr.val |   367.00 | \n",
       "| nbr.null |     0.00 | \n",
       "| nbr.na |     0.00 | \n",
       "| min |    65.00 | \n",
       "| max |   320.00 | \n",
       "| range |   255.00 | \n",
       "| sum | 41324.00 | \n",
       "| median |    97.00 | \n",
       "| mean |   112.60 | \n",
       "| SE.mean |     2.41 | \n",
       "| CI.mean.0.95 |     4.73 | \n",
       "| var |  2125.39 | \n",
       "| std.dev |    46.10 | \n",
       "| coef.var |     0.41 | \n",
       "\n",
       "\n"
      ],
      "text/plain": [
       "             long_total\n",
       "nbr.val        367.00  \n",
       "nbr.null         0.00  \n",
       "nbr.na           0.00  \n",
       "min             65.00  \n",
       "max            320.00  \n",
       "range          255.00  \n",
       "sum          41324.00  \n",
       "median          97.00  \n",
       "mean           112.60  \n",
       "SE.mean          2.41  \n",
       "CI.mean.0.95     4.73  \n",
       "var           2125.39  \n",
       "std.dev         46.10  \n",
       "coef.var         0.41  "
      ]
     },
     "metadata": {},
     "output_type": "display_data"
    }
   ],
   "source": [
    "stat.desc(morfo[3])"
   ]
  },
  {
   "cell_type": "markdown",
   "metadata": {},
   "source": [
    "# otra forma de obtener la estadística descriptiva"
   ]
  },
  {
   "cell_type": "code",
   "execution_count": 9,
   "metadata": {},
   "outputs": [
    {
     "data": {
      "text/html": [
       "<table>\n",
       "<thead><tr><th></th><th scope=col>vars</th><th scope=col>n</th><th scope=col>mean</th><th scope=col>sd</th><th scope=col>median</th><th scope=col>trimmed</th><th scope=col>mad</th><th scope=col>min</th><th scope=col>max</th><th scope=col>range</th><th scope=col>skew</th><th scope=col>kurtosis</th><th scope=col>se</th></tr></thead>\n",
       "<tbody>\n",
       "\t<tr><th scope=row>X1</th><td>1  </td><td>367</td><td>113</td><td>46 </td><td>97 </td><td>104</td><td>30 </td><td>65 </td><td>320</td><td>255</td><td>1.9</td><td>3.5</td><td>2.4</td></tr>\n",
       "</tbody>\n",
       "</table>\n"
      ],
      "text/latex": [
       "\\begin{tabular}{r|lllllllllllll}\n",
       "  & vars & n & mean & sd & median & trimmed & mad & min & max & range & skew & kurtosis & se\\\\\n",
       "\\hline\n",
       "\tX1 & 1   & 367 & 113 & 46  & 97  & 104 & 30  & 65  & 320 & 255 & 1.9 & 3.5 & 2.4\\\\\n",
       "\\end{tabular}\n"
      ],
      "text/markdown": [
       "\n",
       "| <!--/--> | vars | n | mean | sd | median | trimmed | mad | min | max | range | skew | kurtosis | se | \n",
       "|---|\n",
       "| X1 | 1   | 367 | 113 | 46  | 97  | 104 | 30  | 65  | 320 | 255 | 1.9 | 3.5 | 2.4 | \n",
       "\n",
       "\n"
      ],
      "text/plain": [
       "   vars n   mean sd median trimmed mad min max range skew kurtosis se \n",
       "X1 1    367 113  46 97     104     30  65  320 255   1.9  3.5      2.4"
      ]
     },
     "metadata": {},
     "output_type": "display_data"
    }
   ],
   "source": [
    "describe(morfo[3])"
   ]
  },
  {
   "cell_type": "markdown",
   "metadata": {},
   "source": [
    "# Observe que hay información diferente en cada una de las salidas"
   ]
  },
  {
   "cell_type": "markdown",
   "metadata": {},
   "source": [
    "# Se puede obtener la estadística básica "
   ]
  },
  {
   "cell_type": "code",
   "execution_count": 10,
   "metadata": {
    "scrolled": true
   },
   "outputs": [
    {
     "data": {
      "text/html": [
       "<table>\n",
       "<thead><tr><th></th><th scope=col>long_total</th></tr></thead>\n",
       "<tbody>\n",
       "\t<tr><th scope=row>median</th><td>  97.00</td></tr>\n",
       "\t<tr><th scope=row>mean</th><td> 112.60</td></tr>\n",
       "\t<tr><th scope=row>SE.mean</th><td>   2.41</td></tr>\n",
       "\t<tr><th scope=row>CI.mean.0.95</th><td>   4.73</td></tr>\n",
       "\t<tr><th scope=row>var</th><td>2125.39</td></tr>\n",
       "\t<tr><th scope=row>std.dev</th><td>  46.10</td></tr>\n",
       "\t<tr><th scope=row>coef.var</th><td>   0.41</td></tr>\n",
       "</tbody>\n",
       "</table>\n"
      ],
      "text/latex": [
       "\\begin{tabular}{r|l}\n",
       "  & long\\_total\\\\\n",
       "\\hline\n",
       "\tmedian &   97.00\\\\\n",
       "\tmean &  112.60\\\\\n",
       "\tSE.mean &    2.41\\\\\n",
       "\tCI.mean.0.95 &    4.73\\\\\n",
       "\tvar & 2125.39\\\\\n",
       "\tstd.dev &   46.10\\\\\n",
       "\tcoef.var &    0.41\\\\\n",
       "\\end{tabular}\n"
      ],
      "text/markdown": [
       "\n",
       "| <!--/--> | long_total | \n",
       "|---|---|---|---|---|---|---|\n",
       "| median |   97.00 | \n",
       "| mean |  112.60 | \n",
       "| SE.mean |    2.41 | \n",
       "| CI.mean.0.95 |    4.73 | \n",
       "| var | 2125.39 | \n",
       "| std.dev |   46.10 | \n",
       "| coef.var |    0.41 | \n",
       "\n",
       "\n"
      ],
      "text/plain": [
       "             long_total\n",
       "median         97.00   \n",
       "mean          112.60   \n",
       "SE.mean         2.41   \n",
       "CI.mean.0.95    4.73   \n",
       "var          2125.39   \n",
       "std.dev        46.10   \n",
       "coef.var        0.41   "
      ]
     },
     "metadata": {},
     "output_type": "display_data"
    }
   ],
   "source": [
    "stat.desc(morfo[3], basic = F)"
   ]
  },
  {
   "cell_type": "markdown",
   "metadata": {},
   "source": [
    "# descripcion por las especies, esta información es más útil, en este caso"
   ]
  },
  {
   "cell_type": "code",
   "execution_count": 11,
   "metadata": {
    "scrolled": false
   },
   "outputs": [
    {
     "data": {
      "text/html": [
       "<table>\n",
       "<thead><tr><th></th><th scope=col>item</th><th scope=col>group1</th><th scope=col>vars</th><th scope=col>n</th><th scope=col>mean</th><th scope=col>sd</th><th scope=col>median</th><th scope=col>trimmed</th><th scope=col>mad</th><th scope=col>min</th><th scope=col>max</th><th scope=col>range</th><th scope=col>skew</th><th scope=col>kurtosis</th><th scope=col>se</th></tr></thead>\n",
       "<tbody>\n",
       "\t<tr><th scope=row>X11</th><td>1       </td><td>especie1</td><td>1       </td><td> 92     </td><td>125     </td><td>29      </td><td>120     </td><td>120     </td><td>14.1    </td><td> 87     </td><td>240     </td><td>153     </td><td> 1.90   </td><td> 3.76   </td><td> 3.1    </td></tr>\n",
       "\t<tr><th scope=row>X12</th><td>2       </td><td>especie2</td><td>1       </td><td> 12     </td><td>132     </td><td>26      </td><td>136     </td><td>132     </td><td>28.9    </td><td> 95     </td><td>166     </td><td> 71     </td><td>-0.12   </td><td>-1.83   </td><td> 7.4    </td></tr>\n",
       "\t<tr><th scope=row>X13</th><td>3       </td><td>especie3</td><td>1       </td><td> 40     </td><td>191     </td><td>58      </td><td>204     </td><td>187     </td><td>44.5    </td><td>100     </td><td>320     </td><td>220     </td><td> 0.26   </td><td>-0.65   </td><td> 9.2    </td></tr>\n",
       "\t<tr><th scope=row>X14</th><td>4       </td><td>especie4</td><td>1       </td><td> 92     </td><td> 86     </td><td>11      </td><td> 83     </td><td> 84     </td><td> 7.4    </td><td> 70     </td><td>130     </td><td> 60     </td><td> 1.68   </td><td> 3.39   </td><td> 1.2    </td></tr>\n",
       "\t<tr><th scope=row>X15</th><td>5       </td><td>especie5</td><td>1       </td><td> 12     </td><td>127     </td><td>15      </td><td>128     </td><td>128     </td><td>13.3    </td><td> 99     </td><td>150     </td><td> 51     </td><td>-0.15   </td><td>-0.94   </td><td> 4.5    </td></tr>\n",
       "\t<tr><th scope=row>X16</th><td>6       </td><td>especie6</td><td>1       </td><td> 19     </td><td>167     </td><td>51      </td><td>148     </td><td>164     </td><td>41.5    </td><td>117     </td><td>274     </td><td>157     </td><td> 0.81   </td><td>-0.78   </td><td>11.7    </td></tr>\n",
       "\t<tr><th scope=row>X17</th><td>7       </td><td>especie7</td><td>1       </td><td>100     </td><td> 80     </td><td> 8      </td><td> 81     </td><td> 80     </td><td> 9.6    </td><td> 65     </td><td>102     </td><td> 37     </td><td> 0.18   </td><td>-0.64   </td><td> 0.8    </td></tr>\n",
       "</tbody>\n",
       "</table>\n"
      ],
      "text/latex": [
       "\\begin{tabular}{r|lllllllllllllll}\n",
       "  & item & group1 & vars & n & mean & sd & median & trimmed & mad & min & max & range & skew & kurtosis & se\\\\\n",
       "\\hline\n",
       "\tX11 & 1        & especie1 & 1        &  92      & 125      & 29       & 120      & 120      & 14.1     &  87      & 240      & 153      &  1.90    &  3.76    &  3.1    \\\\\n",
       "\tX12 & 2        & especie2 & 1        &  12      & 132      & 26       & 136      & 132      & 28.9     &  95      & 166      &  71      & -0.12    & -1.83    &  7.4    \\\\\n",
       "\tX13 & 3        & especie3 & 1        &  40      & 191      & 58       & 204      & 187      & 44.5     & 100      & 320      & 220      &  0.26    & -0.65    &  9.2    \\\\\n",
       "\tX14 & 4        & especie4 & 1        &  92      &  86      & 11       &  83      &  84      &  7.4     &  70      & 130      &  60      &  1.68    &  3.39    &  1.2    \\\\\n",
       "\tX15 & 5        & especie5 & 1        &  12      & 127      & 15       & 128      & 128      & 13.3     &  99      & 150      &  51      & -0.15    & -0.94    &  4.5    \\\\\n",
       "\tX16 & 6        & especie6 & 1        &  19      & 167      & 51       & 148      & 164      & 41.5     & 117      & 274      & 157      &  0.81    & -0.78    & 11.7    \\\\\n",
       "\tX17 & 7        & especie7 & 1        & 100      &  80      &  8       &  81      &  80      &  9.6     &  65      & 102      &  37      &  0.18    & -0.64    &  0.8    \\\\\n",
       "\\end{tabular}\n"
      ],
      "text/markdown": [
       "\n",
       "| <!--/--> | item | group1 | vars | n | mean | sd | median | trimmed | mad | min | max | range | skew | kurtosis | se | \n",
       "|---|---|---|---|---|---|---|\n",
       "| X11 | 1        | especie1 | 1        |  92      | 125      | 29       | 120      | 120      | 14.1     |  87      | 240      | 153      |  1.90    |  3.76    |  3.1     | \n",
       "| X12 | 2        | especie2 | 1        |  12      | 132      | 26       | 136      | 132      | 28.9     |  95      | 166      |  71      | -0.12    | -1.83    |  7.4     | \n",
       "| X13 | 3        | especie3 | 1        |  40      | 191      | 58       | 204      | 187      | 44.5     | 100      | 320      | 220      |  0.26    | -0.65    |  9.2     | \n",
       "| X14 | 4        | especie4 | 1        |  92      |  86      | 11       |  83      |  84      |  7.4     |  70      | 130      |  60      |  1.68    |  3.39    |  1.2     | \n",
       "| X15 | 5        | especie5 | 1        |  12      | 127      | 15       | 128      | 128      | 13.3     |  99      | 150      |  51      | -0.15    | -0.94    |  4.5     | \n",
       "| X16 | 6        | especie6 | 1        |  19      | 167      | 51       | 148      | 164      | 41.5     | 117      | 274      | 157      |  0.81    | -0.78    | 11.7     | \n",
       "| X17 | 7        | especie7 | 1        | 100      |  80      |  8       |  81      |  80      |  9.6     |  65      | 102      |  37      |  0.18    | -0.64    |  0.8     | \n",
       "\n",
       "\n"
      ],
      "text/plain": [
       "    item group1   vars n   mean sd median trimmed mad  min max range skew \n",
       "X11 1    especie1 1     92 125  29 120    120     14.1  87 240 153    1.90\n",
       "X12 2    especie2 1     12 132  26 136    132     28.9  95 166  71   -0.12\n",
       "X13 3    especie3 1     40 191  58 204    187     44.5 100 320 220    0.26\n",
       "X14 4    especie4 1     92  86  11  83     84      7.4  70 130  60    1.68\n",
       "X15 5    especie5 1     12 127  15 128    128     13.3  99 150  51   -0.15\n",
       "X16 6    especie6 1     19 167  51 148    164     41.5 117 274 157    0.81\n",
       "X17 7    especie7 1    100  80   8  81     80      9.6  65 102  37    0.18\n",
       "    kurtosis se  \n",
       "X11  3.76     3.1\n",
       "X12 -1.83     7.4\n",
       "X13 -0.65     9.2\n",
       "X14  3.39     1.2\n",
       "X15 -0.94     4.5\n",
       "X16 -0.78    11.7\n",
       "X17 -0.64     0.8"
      ]
     },
     "metadata": {},
     "output_type": "display_data"
    }
   ],
   "source": [
    "describeBy(morfo[3], group=morfo$especie, digits=15, mat = T)"
   ]
  },
  {
   "cell_type": "markdown",
   "metadata": {
    "scrolled": false
   },
   "source": [
    "# Qué pasa si no se utiliza el comando `mat = T`"
   ]
  },
  {
   "cell_type": "code",
   "execution_count": null,
   "metadata": {},
   "outputs": [],
   "source": []
  },
  {
   "cell_type": "code",
   "execution_count": null,
   "metadata": {},
   "outputs": [],
   "source": []
  },
  {
   "cell_type": "markdown",
   "metadata": {},
   "source": [
    "# Graficado de los promedios por especie"
   ]
  },
  {
   "cell_type": "code",
   "execution_count": 12,
   "metadata": {},
   "outputs": [
    {
     "name": "stderr",
     "output_type": "stream",
     "text": [
      "Warning message in arrows(x, li, x, pmax(y - gap, li), col = barcol, lwd = lwd, :\n",
      "\"zero-length arrow is of indeterminate angle and so skipped\"Warning message in arrows(x, li, x, pmax(y - gap, li), col = barcol, lwd = lwd, :\n",
      "\"zero-length arrow is of indeterminate angle and so skipped\"Warning message in arrows(x, ui, x, pmin(y + gap, ui), col = barcol, lwd = lwd, :\n",
      "\"zero-length arrow is of indeterminate angle and so skipped\"Warning message in arrows(x, ui, x, pmin(y + gap, ui), col = barcol, lwd = lwd, :\n",
      "\"zero-length arrow is of indeterminate angle and so skipped\""
     ]
    },
    {
     "data": {
      "image/png": "[encoded data removed]",
      "text/plain": [
       "plot without title"
      ]
     },
     "metadata": {},
     "output_type": "display_data"
    }
   ],
   "source": [
    "attach(morfo)\n",
    "plotmeans(long_total ~especie)"
   ]
  },
  {
   "cell_type": "markdown",
   "metadata": {},
   "source": [
    "## para qué sirve el comando `attach(morfo)`?"
   ]
  },
  {
   "cell_type": "code",
   "execution_count": null,
   "metadata": {},
   "outputs": [],
   "source": []
  },
  {
   "cell_type": "markdown",
   "metadata": {},
   "source": [
    "# Análsis de varianza para determinar diferencias"
   ]
  },
  {
   "cell_type": "code",
   "execution_count": 13,
   "metadata": {},
   "outputs": [
    {
     "data": {
      "text/plain": [
       "             Df Sum Sq Mean Sq F value              Pr(>F)    \n",
       "especie       6 492109   82018     103 <0.0000000000000002 ***\n",
       "Residuals   360 285785     794                                \n",
       "---\n",
       "Signif. codes:  0 '***' 0.001 '**' 0.01 '*' 0.05 '.' 0.1 ' ' 1"
      ]
     },
     "metadata": {},
     "output_type": "display_data"
    }
   ],
   "source": [
    "longitudtotal_anova <- aov(long_total ~especie)\n",
    "summary (longitudtotal_anova)"
   ]
  },
  {
   "cell_type": "code",
   "execution_count": 14,
   "metadata": {},
   "outputs": [
    {
     "data": {
      "text/plain": [
       "\n",
       "\tBartlett test of homogeneity of variances\n",
       "\n",
       "data:  long_total by especie\n",
       "Bartlett's K-squared = 300, df = 6, p-value <0.0000000000000002\n"
      ]
     },
     "metadata": {},
     "output_type": "display_data"
    }
   ],
   "source": [
    "bartlett.test(long_total ~especie)"
   ]
  },
  {
   "cell_type": "code",
   "execution_count": 15,
   "metadata": {
    "scrolled": false
   },
   "outputs": [
    {
     "data": {
      "image/png": "[encoded data removed]",
      "text/plain": [
       "plot without title"
      ]
     },
     "metadata": {},
     "output_type": "display_data"
    }
   ],
   "source": [
    "plot(long_total)"
   ]
  },
  {
   "cell_type": "markdown",
   "metadata": {},
   "source": [
    "# Escriba sus conclusiones"
   ]
  },
  {
   "cell_type": "code",
   "execution_count": null,
   "metadata": {},
   "outputs": [],
   "source": []
  },
  {
   "cell_type": "markdown",
   "metadata": {},
   "source": [
    "# Gráficas "
   ]
  },
  {
   "cell_type": "code",
   "execution_count": 16,
   "metadata": {
    "scrolled": false
   },
   "outputs": [
    {
     "data": {},
     "metadata": {},
     "output_type": "display_data"
    },
    {
     "data": {
      "image/png": "[encoded data removed]",
      "text/plain": [
       "plot without title"
      ]
     },
     "metadata": {},
     "output_type": "display_data"
    }
   ],
   "source": [
    "ggplot(morfo, aes(x=especie, y=long_total)) + geom_boxplot()"
   ]
  },
  {
   "cell_type": "markdown",
   "metadata": {},
   "source": [
    "# Para guardar las imágenes obtenidas con ggplot se puede usar"
   ]
  },
  {
   "cell_type": "code",
   "execution_count": 17,
   "metadata": {},
   "outputs": [
    {
     "data": {},
     "metadata": {},
     "output_type": "display_data"
    },
    {
     "data": {
      "image/png": "[encoded data removed]",
      "text/plain": [
       "plot without title"
      ]
     },
     "metadata": {},
     "output_type": "display_data"
    }
   ],
   "source": [
    "ggplot(morfo, aes(x=especie, y=long_total)) + geom_boxplot()\n",
    "ggsave(\"img/morfo_longtotal.png\", width = 6, height = 6)"
   ]
  },
  {
   "cell_type": "code",
   "execution_count": null,
   "metadata": {},
   "outputs": [],
   "source": []
  },
  {
   "cell_type": "markdown",
   "metadata": {},
   "source": [
    "# Escriba qué es lo que aprendió en esta bitácora y en qué le podría ayudar en su trabajo, sea tan explícito como le sea posible"
   ]
  },
  {
   "cell_type": "code",
   "execution_count": null,
   "metadata": {},
   "outputs": [],
   "source": []
  },
  {
   "cell_type": "code",
   "execution_count": null,
   "metadata": {},
   "outputs": [],
   "source": []
  },
  {
   "cell_type": "code",
   "execution_count": null,
   "metadata": {},
   "outputs": [],
   "source": []
  },
  {
   "cell_type": "code",
   "execution_count": null,
   "metadata": {},
   "outputs": [],
   "source": []
  }
 ],
 "metadata": {
  "kernelspec": {
   "display_name": "R",
   "language": "R",
   "name": "ir"
  },
  "language_info": {
   "codemirror_mode": "r",
   "file_extension": ".r",
   "mimetype": "text/x-r-source",
   "name": "R",
   "pygments_lexer": "r",
   "version": "3.4.3"
  }
 },
 "nbformat": 4,
 "nbformat_minor": 2
}
