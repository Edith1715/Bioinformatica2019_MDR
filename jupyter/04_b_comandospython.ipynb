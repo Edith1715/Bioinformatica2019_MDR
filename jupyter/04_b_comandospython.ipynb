{
 "cells": [
  {
   "cell_type": "markdown",
   "metadata": {},
   "source": [
    "# Bitácora para manejo de archivos y sistema operativo\n",
    "\n",
    "# <center> Comandos de *Python* en Jupyter</center>"
   ]
  },
  {
   "cell_type": "markdown",
   "metadata": {},
   "source": [
    "# Comandos básicos del sistema operativo con python"
   ]
  },
  {
   "cell_type": "markdown",
   "metadata": {},
   "source": [
    "## Directorio de trabajo"
   ]
  },
  {
   "cell_type": "code",
   "execution_count": 1,
   "metadata": {},
   "outputs": [
    {
     "data": {
      "text/plain": [
       "'C:\\\\Users\\\\SalaD26\\\\Desktop\\\\jupyter'"
      ]
     },
     "execution_count": 1,
     "metadata": {},
     "output_type": "execute_result"
    }
   ],
   "source": [
    "pwd"
   ]
  },
  {
   "cell_type": "markdown",
   "metadata": {},
   "source": [
    "## Cambio de directorio"
   ]
  },
  {
   "cell_type": "code",
   "execution_count": 2,
   "metadata": {},
   "outputs": [
    {
     "name": "stdout",
     "output_type": "stream",
     "text": [
      "C:\\Users\\SalaD26\\Desktop\\data\n"
     ]
    }
   ],
   "source": [
    "cd ~/Desktop/data"
   ]
  },
  {
   "cell_type": "markdown",
   "metadata": {},
   "source": [
    "## Listado de archivos del directorio"
   ]
  },
  {
   "cell_type": "code",
   "execution_count": 3,
   "metadata": {},
   "outputs": [
    {
     "name": "stdout",
     "output_type": "stream",
     "text": [
      " El volumen de la unidad C no tiene etiqueta.\n",
      " El n£mero de serie del volumen es: 4C69-5113\n",
      "\n",
      " Directorio de C:\\Users\\SalaD26\\Desktop\\data\n",
      "\n",
      "15/01/2019  11:15 a. m.    <DIR>          .\n",
      "15/01/2019  11:15 a. m.    <DIR>          ..\n",
      "15/01/2019  05:07 p. m.    <DIR>          ab1\n",
      "15/01/2019  08:58 a. m.    <DIR>          ab2\n",
      "16/01/2019  09:24 a. m.    <DIR>          fasta\n",
      "15/01/2019  08:58 a. m.    <DIR>          morfo\n",
      "               0 archivos              0 bytes\n",
      "               6 dirs  160,045,764,608 bytes libres\n"
     ]
    }
   ],
   "source": [
    "ls"
   ]
  },
  {
   "cell_type": "markdown",
   "metadata": {},
   "source": [
    "## Listado de archivos de un directorio específico"
   ]
  },
  {
   "cell_type": "code",
   "execution_count": 5,
   "metadata": {},
   "outputs": [
    {
     "name": "stdout",
     "output_type": "stream",
     "text": [
      "04_0_lenguajes.ipynb\n",
      "04_1_ejercicio_terminal.ipynb\n",
      "04_1_ejercicio_terminal_resultados.ipynb\n",
      "04_3a_comandoslinux.ipynb\n",
      "04_b_comandospython.ipynb\n",
      "04_c_comandosR.ipynb\n",
      "04_d_especies_longitudtotal.ipynb\n",
      "04_e_especies_morfo.ipynb\n",
      "06_1_biopython_mega.ipynb\n",
      "06_1_c_actualizacion_bases_datos_ncbi.ipynb\n",
      "06_10_blast_secuencias.ipynb\n",
      "06_2_analisis_secuencias_ab1.ipynb\n",
      "bitacora1.ipynb\n",
      "historial.txt\n",
      "img\n",
      "mega.ipynb\n"
     ]
    }
   ],
   "source": [
    "!ls ~/Desktop/jupyter/"
   ]
  },
  {
   "cell_type": "code",
   "execution_count": 6,
   "metadata": {
    "scrolled": true
   },
   "outputs": [
    {
     "name": "stdout",
     "output_type": "stream",
     "text": [
      " El volumen de la unidad C no tiene etiqueta.\n",
      " El n£mero de serie del volumen es: 4C69-5113\n",
      "\n",
      " Directorio de C:\\Users\\SalaD26\\Desktop\\data\\fasta\n",
      "\n",
      "16/01/2019  09:24 a. m.    <DIR>          .\n",
      "16/01/2019  09:24 a. m.    <DIR>          ..\n",
      "14/01/2019  12:13 p. m.               684 abalone_vasa_jp2015186454.fasta\n",
      "14/01/2019  12:37 p. m.            23,940 c_h_dloop.fasta\n",
      "16/01/2019  09:06 a. m.            24,438 c_h_dloop.meg\n",
      "16/01/2019  09:48 a. m.            21,114 c_h_dloop_mega.fasta\n",
      "16/01/2019  08:58 a. m.            22,140 c_h_dloop_mega.mas\n",
      "16/01/2019  08:59 a. m.            22,755 c_h_dloop_mega.mdsx\n",
      "16/01/2019  08:58 a. m.            21,283 c_h_dloop_mega.meg\n",
      "16/01/2019  09:23 a. m.            20,240 c_h_dloop_mod.fasta\n",
      "16/01/2019  09:24 a. m.            21,370 c_h_dloop_mod.mas\n",
      "16/01/2019  09:24 a. m.            20,513 c_h_dloop_mod.meg\n",
      "14/01/2019  03:28 p. m.             3,988 ejercicio1.txt\n",
      "14/01/2019  03:31 p. m.            15,755 ejercicio1_arbol.pdf\n",
      "14/01/2019  03:43 p. m.             4,020 ejercicio1_blast16s.txt\n",
      "14/01/2019  03:47 p. m.            19,835 ejercicio1_blast16s_arbol.pdf\n",
      "14/01/2019  03:32 p. m.           566,844 ejercicio1_blastn.pdf\n",
      "14/01/2019  12:11 p. m.               785 JP 2015186454-A_8  Abalone vasa gene marker and Method for producing a - Nucleotide - NCBI.txt\n",
      "16/01/2019  09:02 a. m.               330 Nav1.2F.fasta\n",
      "16/01/2019  09:02 a. m.               331 Nav1.8F.fasta\n",
      "16/01/2019  09:02 a. m.               345 Nav2.2F.fasta\n",
      "16/01/2019  09:02 a. m.               328 PET1.2F.fasta\n",
      "16/01/2019  09:02 a. m.               325 PET1.8F.fasta\n",
      "16/01/2019  09:02 a. m.               347 PET2.2F.fasta\n",
      "16/01/2019  09:02 a. m.               345 PET2.8F.fasta\n",
      "16/01/2019  09:02 a. m.               328 PETsn1.2F.fasta\n",
      "16/01/2019  09:02 a. m.               368 PETsn1.8F.fasta\n",
      "16/01/2019  09:02 a. m.               310 PHBb1.2F.fasta\n",
      "16/01/2019  09:02 a. m.             3,357 secuencias10.fasta\n",
      "14/01/2019  12:31 p. m.            21,586 tyro3_mus.gb\n",
      "14/01/2019  12:22 p. m.            13,159 vasa_haliotis.fasta\n",
      "14/01/2019  12:20 p. m.            34,388 vasa_haliotis.gb\n",
      "              30 archivos        885,551 bytes\n",
      "               2 dirs  160,045,543,424 bytes libres\n"
     ]
    }
   ],
   "source": [
    "ls fasta"
   ]
  },
  {
   "cell_type": "code",
   "execution_count": 7,
   "metadata": {
    "scrolled": true
   },
   "outputs": [
    {
     "name": "stdout",
     "output_type": "stream",
     "text": [
      "abalone_vasa_jp2015186454.fasta\n",
      "c_h_dloop.fasta\n",
      "c_h_dloop.meg\n",
      "c_h_dloop_mega.fasta\n",
      "c_h_dloop_mega.mas\n",
      "c_h_dloop_mega.mdsx\n",
      "c_h_dloop_mega.meg\n",
      "c_h_dloop_mod.fasta\n",
      "c_h_dloop_mod.mas\n",
      "c_h_dloop_mod.meg\n",
      "ejercicio1.txt\n",
      "ejercicio1_arbol.pdf\n",
      "ejercicio1_blast16s.txt\n",
      "ejercicio1_blast16s_arbol.pdf\n",
      "ejercicio1_blastn.pdf\n",
      "JP 2015186454-A_8  Abalone vasa gene marker and Method for producing a - Nucleotide - NCBI.txt\n",
      "Nav1.2F.fasta\n",
      "Nav1.8F.fasta\n",
      "Nav2.2F.fasta\n",
      "PET1.2F.fasta\n",
      "PET1.8F.fasta\n",
      "PET2.2F.fasta\n",
      "PET2.8F.fasta\n",
      "PETsn1.2F.fasta\n",
      "PETsn1.8F.fasta\n",
      "PHBb1.2F.fasta\n",
      "secuencias10.fasta\n",
      "tyro3_mus.gb\n",
      "vasa_haliotis.fasta\n",
      "vasa_haliotis.gb\n"
     ]
    }
   ],
   "source": [
    "!ls fasta"
   ]
  },
  {
   "cell_type": "markdown",
   "metadata": {},
   "source": [
    "### explique qué hace el comando de la celda anterior"
   ]
  },
  {
   "cell_type": "markdown",
   "metadata": {},
   "source": [
    "ls = utiliza el comando dir en windows"
   ]
  },
  {
   "cell_type": "markdown",
   "metadata": {},
   "source": [
    "!ls = utiliza el emulador de linux"
   ]
  },
  {
   "cell_type": "markdown",
   "metadata": {},
   "source": [
    "# Variables"
   ]
  },
  {
   "cell_type": "code",
   "execution_count": 29,
   "metadata": {},
   "outputs": [],
   "source": [
    "hola = \"Hola mundo\""
   ]
  },
  {
   "cell_type": "code",
   "execution_count": 30,
   "metadata": {},
   "outputs": [
    {
     "name": "stdout",
     "output_type": "stream",
     "text": [
      "Hola mundo\n"
     ]
    }
   ],
   "source": [
    "print (hola)"
   ]
  },
  {
   "cell_type": "code",
   "execution_count": 31,
   "metadata": {},
   "outputs": [
    {
     "name": "stdout",
     "output_type": "stream",
     "text": [
      "Como te llamas? cecilia\n",
      "Hola cecilia espero que estés bien.\n"
     ]
    }
   ],
   "source": [
    "nombre = input(\"Como te llamas? \")\n",
    "print (\"Hola\", nombre, \"espero que estés bien.\")"
   ]
  },
  {
   "cell_type": "markdown",
   "metadata": {},
   "source": [
    "### impresión de segmentos de variables"
   ]
  },
  {
   "cell_type": "code",
   "execution_count": 32,
   "metadata": {},
   "outputs": [
    {
     "name": "stdout",
     "output_type": "stream",
     "text": [
      "Ho\n"
     ]
    }
   ],
   "source": [
    "print(hola[:2])"
   ]
  },
  {
   "cell_type": "code",
   "execution_count": 33,
   "metadata": {},
   "outputs": [
    {
     "name": "stdout",
     "output_type": "stream",
     "text": [
      "la mundo\n"
     ]
    }
   ],
   "source": [
    "print(hola[2:])"
   ]
  },
  {
   "cell_type": "code",
   "execution_count": 34,
   "metadata": {},
   "outputs": [
    {
     "name": "stdout",
     "output_type": "stream",
     "text": [
      "Hola mundo especialmente a ti cecilia\n"
     ]
    }
   ],
   "source": [
    "print(hola,\", especialmente a ti\",nombre )#la coma agregara un espacio"
   ]
  },
  {
   "cell_type": "code",
   "execution_count": 35,
   "metadata": {},
   "outputs": [
    {
     "name": "stdout",
     "output_type": "stream",
     "text": [
      "Hola mundo, especialmente a ti cecilia\n"
     ]
    }
   ],
   "source": [
    "print(hola+\", especialmente a ti \"+nombre )#el signo + concatena los caracteres"
   ]
  },
  {
   "cell_type": "code",
   "execution_count": 36,
   "metadata": {},
   "outputs": [
    {
     "name": "stdout",
     "output_type": "stream",
     "text": [
      "31.622776601683793\n"
     ]
    }
   ],
   "source": [
    "print(10**1.5) #"
   ]
  },
  {
   "cell_type": "code",
   "execution_count": 37,
   "metadata": {},
   "outputs": [
    {
     "data": {
      "text/plain": [
       "31.622776601683793"
      ]
     },
     "execution_count": 37,
     "metadata": {},
     "output_type": "execute_result"
    }
   ],
   "source": [
    "10**1.5"
   ]
  },
  {
   "cell_type": "code",
   "execution_count": 38,
   "metadata": {},
   "outputs": [
    {
     "data": {
      "text/plain": [
       "68.66666666666667"
      ]
     },
     "execution_count": 38,
     "metadata": {},
     "output_type": "execute_result"
    }
   ],
   "source": [
    "10300/150"
   ]
  },
  {
   "cell_type": "code",
   "execution_count": 39,
   "metadata": {},
   "outputs": [
    {
     "data": {
      "text/plain": [
       "10450"
      ]
     },
     "execution_count": 39,
     "metadata": {},
     "output_type": "execute_result"
    }
   ],
   "source": [
    "10300+150"
   ]
  },
  {
   "cell_type": "code",
   "execution_count": 40,
   "metadata": {},
   "outputs": [
    {
     "name": "stdout",
     "output_type": "stream",
     "text": [
      "10450\n"
     ]
    }
   ],
   "source": [
    "print(10300+150)"
   ]
  },
  {
   "cell_type": "code",
   "execution_count": 43,
   "metadata": {
    "scrolled": true
   },
   "outputs": [
    {
     "name": "stdout",
     "output_type": "stream",
     "text": [
      "cecilia1300\n"
     ]
    }
   ],
   "source": [
    "print(nombre+str(1300))#str sirve para transformar números en caracteres"
   ]
  },
  {
   "cell_type": "code",
   "execution_count": 44,
   "metadata": {},
   "outputs": [
    {
     "name": "stdout",
     "output_type": "stream",
     "text": [
      "Hola mundo, especialmente a ti cecilia\n"
     ]
    }
   ],
   "source": [
    "print(hola+\", especialmente a ti \"+nombre )#el signo "
   ]
  },
  {
   "cell_type": "markdown",
   "metadata": {},
   "source": [
    "### asignación numérica"
   ]
  },
  {
   "cell_type": "code",
   "execution_count": 45,
   "metadata": {},
   "outputs": [
    {
     "name": "stdout",
     "output_type": "stream",
     "text": [
      "1110\n"
     ]
    }
   ],
   "source": [
    "n=1110\n",
    "print (n)"
   ]
  },
  {
   "cell_type": "markdown",
   "metadata": {},
   "source": [
    "### incremento a variable numérica"
   ]
  },
  {
   "cell_type": "code",
   "execution_count": 46,
   "metadata": {},
   "outputs": [
    {
     "name": "stdout",
     "output_type": "stream",
     "text": [
      "1111\n"
     ]
    }
   ],
   "source": [
    "n+=1\n",
    "print (n)"
   ]
  },
  {
   "cell_type": "code",
   "execution_count": 47,
   "metadata": {},
   "outputs": [
    {
     "name": "stdout",
     "output_type": "stream",
     "text": [
      "1113\n"
     ]
    }
   ],
   "source": [
    "n+=2\n",
    "print (n)"
   ]
  },
  {
   "cell_type": "markdown",
   "metadata": {},
   "source": [
    "### concatenación de texto"
   ]
  },
  {
   "cell_type": "code",
   "execution_count": 48,
   "metadata": {},
   "outputs": [
    {
     "name": "stdout",
     "output_type": "stream",
     "text": [
      "Migueldel Río\n"
     ]
    }
   ],
   "source": [
    "nombre = \"Miguel\"\n",
    "apellido = \"del Río\"\n",
    "nombre_completo= nombre+apellido\n",
    "print (nombre_completo)"
   ]
  },
  {
   "cell_type": "markdown",
   "metadata": {},
   "source": [
    "### Copie el código de la celda anterior, corrijalo para que imprima adecuadamente el nombre y apellido con espacio entre ellos "
   ]
  },
  {
   "cell_type": "code",
   "execution_count": 52,
   "metadata": {},
   "outputs": [
    {
     "name": "stdout",
     "output_type": "stream",
     "text": [
      "Miguel del Río\n"
     ]
    }
   ],
   "source": [
    "nombre = \"Miguel\"\n",
    "apellido = \"del Río\"\n",
    "nombre_completo= nombre+\" \"+apellido\n",
    "print (nombre_completo)"
   ]
  },
  {
   "cell_type": "markdown",
   "metadata": {},
   "source": [
    "### Utilizando los ejemplos anteriores escriba unos comandos para que pida su nombre, su apellido y lo escriba de la siguiente forma\n",
    "1. nombre y apellido\n",
    "2. apellido, coma y nombre"
   ]
  },
  {
   "cell_type": "code",
   "execution_count": 54,
   "metadata": {},
   "outputs": [
    {
     "name": "stdout",
     "output_type": "stream",
     "text": [
      "Cuál es su nombre? Cecilia\n",
      "Cuál es su apellido? Garduño\n",
      "1. Cecilia Garduño\n",
      "2. Garduño, Cecilia\n"
     ]
    }
   ],
   "source": [
    "nombre = input(\"Cuál es su nombre? \")\n",
    "apellido = input(\"Cuál es su apellido? \")\n",
    "print (\"1.\", nombre, apellido)\n",
    "print(\"2.\", apellido+\",\", nombre)"
   ]
  },
  {
   "cell_type": "code",
   "execution_count": 55,
   "metadata": {},
   "outputs": [
    {
     "name": "stdout",
     "output_type": "stream",
     "text": [
      "Cuál es su nombre? Cecilia\n",
      "Cuál es su apellido? Garduño\n",
      "1. Cecilia Garduño\n",
      "2. Garduño, Cecilia\n"
     ]
    }
   ],
   "source": [
    "nombre = input(\"Cuál es su nombre? \")\n",
    "apellido = input(\"Cuál es su apellido? \")\n",
    "print (\"1. \"+ nombre+\" \"+ apellido)\n",
    "print(\"2. \"+ apellido+ \", \"+ nombre)"
   ]
  },
  {
   "cell_type": "code",
   "execution_count": null,
   "metadata": {},
   "outputs": [],
   "source": []
  },
  {
   "cell_type": "markdown",
   "metadata": {},
   "source": [
    "# igualdades"
   ]
  },
  {
   "cell_type": "code",
   "execution_count": 56,
   "metadata": {},
   "outputs": [],
   "source": [
    "nombre = \"Miguel\""
   ]
  },
  {
   "cell_type": "code",
   "execution_count": 57,
   "metadata": {},
   "outputs": [
    {
     "data": {
      "text/plain": [
       "True"
      ]
     },
     "execution_count": 57,
     "metadata": {},
     "output_type": "execute_result"
    }
   ],
   "source": [
    "nombre==\"Miguel\""
   ]
  },
  {
   "cell_type": "code",
   "execution_count": 58,
   "metadata": {},
   "outputs": [
    {
     "data": {
      "text/plain": [
       "False"
      ]
     },
     "execution_count": 58,
     "metadata": {},
     "output_type": "execute_result"
    }
   ],
   "source": [
    "nombre == \"Angel\""
   ]
  },
  {
   "cell_type": "markdown",
   "metadata": {},
   "source": [
    "# Explique las diferencias entres las dos celdas anteriores"
   ]
  },
  {
   "cell_type": "markdown",
   "metadata": {},
   "source": [
    "el signo \"=\" se utiliza para "
   ]
  },
  {
   "cell_type": "markdown",
   "metadata": {},
   "source": [
    "# Explique las diferencias con las celdas anteriores"
   ]
  },
  {
   "cell_type": "code",
   "execution_count": null,
   "metadata": {},
   "outputs": [],
   "source": []
  },
  {
   "cell_type": "code",
   "execution_count": null,
   "metadata": {},
   "outputs": [],
   "source": []
  },
  {
   "cell_type": "markdown",
   "metadata": {},
   "source": [
    "# Ciclos (loops)"
   ]
  },
  {
   "cell_type": "markdown",
   "metadata": {},
   "source": [
    "## Los ciclos se utilizan para repetir instrucciones"
   ]
  },
  {
   "cell_type": "markdown",
   "metadata": {},
   "source": [
    "# *For*"
   ]
  },
  {
   "cell_type": "markdown",
   "metadata": {},
   "source": [
    "En este caso `rec` se está utilizando una variable temporal (en algunas ocasiones llamada \"dummy variable\")."
   ]
  },
  {
   "cell_type": "code",
   "execution_count": 59,
   "metadata": {},
   "outputs": [
    {
     "name": "stdout",
     "output_type": "stream",
     "text": [
      "H\n",
      "o\n",
      "l\n",
      "a\n",
      " \n",
      "m\n",
      "u\n",
      "n\n",
      "d\n",
      "o\n"
     ]
    }
   ],
   "source": [
    "for rec in hola:\n",
    "    print (rec)"
   ]
  },
  {
   "cell_type": "code",
   "execution_count": 61,
   "metadata": {},
   "outputs": [
    {
     "name": "stdout",
     "output_type": "stream",
     "text": [
      "H\n",
      "o\n",
      "l\n",
      "a\n",
      " \n",
      "m\n",
      "u\n",
      "n\n",
      "d\n",
      "o\n"
     ]
    }
   ],
   "source": [
    "for rec in hola:\n",
    "    print (rec)"
   ]
  },
  {
   "cell_type": "markdown",
   "metadata": {},
   "source": [
    "### observe y describa lo que realizó la celda anterior"
   ]
  },
  {
   "cell_type": "markdown",
   "metadata": {},
   "source": []
  },
  {
   "cell_type": "markdown",
   "metadata": {},
   "source": [
    "# *While*"
   ]
  },
  {
   "cell_type": "markdown",
   "metadata": {},
   "source": [
    "### escriba los comandos para imprimir del número 0 al 10. Asigne "
   ]
  },
  {
   "cell_type": "code",
   "execution_count": 62,
   "metadata": {},
   "outputs": [
    {
     "name": "stdout",
     "output_type": "stream",
     "text": [
      "0\t1\t2\t3\t4\t5\t6\t7\t8\t9\t10\t"
     ]
    }
   ],
   "source": [
    "n=0\n",
    "while n <=10:\n",
    "    print(n, end=\"\\t\")\n",
    "    n+=1"
   ]
  },
  {
   "cell_type": "markdown",
   "metadata": {},
   "source": [
    "### Como modificaria los comandos para que el incremento fuera de 2 en 2?"
   ]
  },
  {
   "cell_type": "code",
   "execution_count": 63,
   "metadata": {},
   "outputs": [
    {
     "name": "stdout",
     "output_type": "stream",
     "text": [
      "0\t2\t4\t6\t8\t10\t"
     ]
    }
   ],
   "source": [
    "n=0\n",
    "while n <=10:\n",
    "    print(n, end=\"\\t\")\n",
    "    n+=2"
   ]
  },
  {
   "cell_type": "markdown",
   "metadata": {},
   "source": [
    "# Rangos"
   ]
  },
  {
   "cell_type": "code",
   "execution_count": 64,
   "metadata": {},
   "outputs": [
    {
     "name": "stdout",
     "output_type": "stream",
     "text": [
      "range(0, 10)\n"
     ]
    }
   ],
   "source": [
    "lista = range(0,10)\n",
    "print (lista)"
   ]
  },
  {
   "cell_type": "markdown",
   "metadata": {},
   "source": [
    "### Explique que está pasando"
   ]
  },
  {
   "cell_type": "code",
   "execution_count": null,
   "metadata": {},
   "outputs": [],
   "source": []
  },
  {
   "cell_type": "code",
   "execution_count": 65,
   "metadata": {},
   "outputs": [
    {
     "name": "stdout",
     "output_type": "stream",
     "text": [
      "0\n",
      "1\n",
      "2\n",
      "3\n",
      "4\n",
      "5\n",
      "6\n",
      "7\n",
      "8\n",
      "9\n"
     ]
    }
   ],
   "source": [
    "for rec in lista:\n",
    "    print(rec)"
   ]
  },
  {
   "cell_type": "code",
   "execution_count": 66,
   "metadata": {},
   "outputs": [
    {
     "name": "stdout",
     "output_type": "stream",
     "text": [
      "0\t1\t2\t3\t4\t5\t6\t7\t8\t9\t"
     ]
    }
   ],
   "source": [
    "for rec in lista:\n",
    "    print(rec, end=\"\\t\")"
   ]
  },
  {
   "cell_type": "code",
   "execution_count": 69,
   "metadata": {},
   "outputs": [
    {
     "name": "stdout",
     "output_type": "stream",
     "text": [
      "0\t10\t20\t30\t40\t50\t60\t70\t80\t90\t100\t"
     ]
    }
   ],
   "source": [
    "for rec in range(0,101,10):\n",
    "    print(rec, end=\"\\t\")"
   ]
  },
  {
   "cell_type": "code",
   "execution_count": 67,
   "metadata": {},
   "outputs": [],
   "source": [
    "?range"
   ]
  },
  {
   "cell_type": "markdown",
   "metadata": {},
   "source": [
    "### Como asignaría a la variable lista el rango de 0 a 100 de 10 en 10"
   ]
  },
  {
   "cell_type": "markdown",
   "metadata": {},
   "source": [
    "`lista = range(0,100,10)\n",
    "for rec in lista:\n",
    "    print (rec, end=\"\\t\")`"
   ]
  },
  {
   "cell_type": "code",
   "execution_count": null,
   "metadata": {},
   "outputs": [],
   "source": []
  },
  {
   "cell_type": "markdown",
   "metadata": {},
   "source": [
    "# listas"
   ]
  },
  {
   "cell_type": "code",
   "execution_count": 70,
   "metadata": {},
   "outputs": [],
   "source": [
    "listado = [\"secuencia\", \"nucleotido\", \"datos\", \"parametros\"]"
   ]
  },
  {
   "cell_type": "code",
   "execution_count": 71,
   "metadata": {},
   "outputs": [
    {
     "name": "stdout",
     "output_type": "stream",
     "text": [
      "secuencia\n",
      "nucleotido\n",
      "datos\n",
      "parametros\n"
     ]
    }
   ],
   "source": [
    "for rec in listado:\n",
    "    print (rec)"
   ]
  },
  {
   "cell_type": "code",
   "execution_count": 74,
   "metadata": {},
   "outputs": [
    {
     "data": {
      "text/plain": [
       "'datos'"
      ]
     },
     "execution_count": 74,
     "metadata": {},
     "output_type": "execute_result"
    }
   ],
   "source": [
    "listado[2]"
   ]
  },
  {
   "cell_type": "markdown",
   "metadata": {},
   "source": [
    "# tuplas"
   ]
  },
  {
   "cell_type": "code",
   "execution_count": 75,
   "metadata": {},
   "outputs": [],
   "source": [
    "tupla = (\"secuencia\", \"nucleotido\", \"datos\", \"parametros\")"
   ]
  },
  {
   "cell_type": "code",
   "execution_count": 76,
   "metadata": {},
   "outputs": [
    {
     "name": "stdout",
     "output_type": "stream",
     "text": [
      "secuencia\n",
      "nucleotido\n",
      "datos\n",
      "parametros\n"
     ]
    }
   ],
   "source": [
    "for rec in tupla:\n",
    "    print (rec)"
   ]
  },
  {
   "cell_type": "code",
   "execution_count": 77,
   "metadata": {},
   "outputs": [
    {
     "data": {
      "text/plain": [
       "'datos'"
      ]
     },
     "execution_count": 77,
     "metadata": {},
     "output_type": "execute_result"
    }
   ],
   "source": [
    "tupla[2]"
   ]
  },
  {
   "cell_type": "markdown",
   "metadata": {},
   "source": [
    "### La diferencia puede decirse que las listas son dinámicas, mientras que las tuplas son estáticas.\n",
    "https://recursospython.com/guias-y-manuales/listas-y-tuplas/"
   ]
  },
  {
   "cell_type": "code",
   "execution_count": 78,
   "metadata": {},
   "outputs": [
    {
     "data": {
      "text/plain": [
       "['secuencia', 'nucleotido', 'datos', 'parametros', 'secuenciacion masiva']"
      ]
     },
     "execution_count": 78,
     "metadata": {},
     "output_type": "execute_result"
    }
   ],
   "source": [
    "listado.append(\"secuenciacion masiva\")\n",
    "listado"
   ]
  },
  {
   "cell_type": "code",
   "execution_count": 80,
   "metadata": {},
   "outputs": [
    {
     "ename": "AttributeError",
     "evalue": "'tuple' object has no attribute 'append'",
     "output_type": "error",
     "traceback": [
      "\u001b[1;31m---------------------------------------------------------------------------\u001b[0m",
      "\u001b[1;31mAttributeError\u001b[0m                            Traceback (most recent call last)",
      "\u001b[1;32m<ipython-input-80-ab6b42f463e8>\u001b[0m in \u001b[0;36m<module>\u001b[1;34m\u001b[0m\n\u001b[1;32m----> 1\u001b[1;33m \u001b[0mtupla\u001b[0m\u001b[1;33m.\u001b[0m\u001b[0mappend\u001b[0m\u001b[1;33m(\u001b[0m\u001b[1;34m\"secuenciacion masiva\"\u001b[0m\u001b[1;33m)\u001b[0m \u001b[1;31m#no se pueden agregar elementos a la tupla\u001b[0m\u001b[1;33m\u001b[0m\u001b[1;33m\u001b[0m\u001b[0m\n\u001b[0m",
      "\u001b[1;31mAttributeError\u001b[0m: 'tuple' object has no attribute 'append'"
     ]
    }
   ],
   "source": [
    "tupla.append(\"secuenciacion masiva\") #no se pueden agregar elementos a la tupla"
   ]
  },
  {
   "cell_type": "markdown",
   "metadata": {},
   "source": [
    "# Modifique la siguiente instrucción para que imprima el contenido de `listado` con tabuladores"
   ]
  },
  {
   "cell_type": "code",
   "execution_count": 81,
   "metadata": {},
   "outputs": [
    {
     "name": "stdout",
     "output_type": "stream",
     "text": [
      "secuencia\tnucleotido\tdatos\tparametros\tsecuenciacion masiva\t"
     ]
    }
   ],
   "source": [
    "for rec in listado:\n",
    "    print (rec, end=\"\\t\")"
   ]
  },
  {
   "cell_type": "markdown",
   "metadata": {},
   "source": [
    "# Modifique la siguiente instrucción para que imprima el contenido de `listado` con comas"
   ]
  },
  {
   "cell_type": "code",
   "execution_count": 86,
   "metadata": {},
   "outputs": [
    {
     "name": "stdout",
     "output_type": "stream",
     "text": [
      "secuencia, nucleotido, datos, parametros, secuenciacion masiva, "
     ]
    }
   ],
   "source": [
    "for rec in listado:\n",
    "    print (rec, end=\", \")"
   ]
  },
  {
   "cell_type": "code",
   "execution_count": null,
   "metadata": {},
   "outputs": [],
   "source": []
  },
  {
   "cell_type": "markdown",
   "metadata": {},
   "source": [
    "# Importación de paquetes"
   ]
  },
  {
   "cell_type": "markdown",
   "metadata": {},
   "source": [
    "#### Paquete para manejo del sistema operativo"
   ]
  },
  {
   "cell_type": "code",
   "execution_count": 87,
   "metadata": {},
   "outputs": [],
   "source": [
    "import os"
   ]
  },
  {
   "cell_type": "code",
   "execution_count": 88,
   "metadata": {},
   "outputs": [],
   "source": [
    "?os"
   ]
  },
  {
   "cell_type": "code",
   "execution_count": 91,
   "metadata": {},
   "outputs": [
    {
     "data": {
      "text/plain": [
       "'C:\\\\Users\\\\SalaD26\\\\Desktop\\\\data'"
      ]
     },
     "execution_count": 91,
     "metadata": {},
     "output_type": "execute_result"
    }
   ],
   "source": [
    "pwd\n"
   ]
  },
  {
   "cell_type": "markdown",
   "metadata": {},
   "source": [
    "### para saber si existe una ruta determinada"
   ]
  },
  {
   "cell_type": "code",
   "execution_count": 93,
   "metadata": {},
   "outputs": [
    {
     "data": {
      "text/plain": [
       "True"
      ]
     },
     "execution_count": 93,
     "metadata": {},
     "output_type": "execute_result"
    }
   ],
   "source": [
    "os.path.exists(\"C:\\\\Users\\\\SalaD26\\\\Desktop\\\\data\")"
   ]
  },
  {
   "cell_type": "markdown",
   "metadata": {},
   "source": [
    "### para saber el directorio de trabajo"
   ]
  },
  {
   "cell_type": "code",
   "execution_count": 94,
   "metadata": {},
   "outputs": [
    {
     "data": {
      "text/plain": [
       "'C:\\\\Users\\\\SalaD26\\\\Desktop\\\\data'"
      ]
     },
     "execution_count": 94,
     "metadata": {},
     "output_type": "execute_result"
    }
   ],
   "source": [
    "os.getcwd()"
   ]
  },
  {
   "cell_type": "markdown",
   "metadata": {},
   "source": [
    "### cambio de directorio "
   ]
  },
  {
   "cell_type": "code",
   "execution_count": 95,
   "metadata": {},
   "outputs": [],
   "source": [
    "os.chdir(\"./fasta\")"
   ]
  },
  {
   "cell_type": "code",
   "execution_count": 96,
   "metadata": {},
   "outputs": [
    {
     "data": {
      "text/plain": [
       "'C:\\\\Users\\\\SalaD26\\\\Desktop\\\\data\\\\fasta'"
      ]
     },
     "execution_count": 96,
     "metadata": {},
     "output_type": "execute_result"
    }
   ],
   "source": [
    "os.getcwd()"
   ]
  },
  {
   "cell_type": "markdown",
   "metadata": {},
   "source": [
    "### informacion sobre *sysname*, *nodename*, *release*, *version* y *maquina*"
   ]
  },
  {
   "cell_type": "code",
   "execution_count": 97,
   "metadata": {},
   "outputs": [
    {
     "ename": "AttributeError",
     "evalue": "module 'os' has no attribute 'uname'",
     "output_type": "error",
     "traceback": [
      "\u001b[1;31m---------------------------------------------------------------------------\u001b[0m",
      "\u001b[1;31mAttributeError\u001b[0m                            Traceback (most recent call last)",
      "\u001b[1;32m<ipython-input-97-dc3d352b2d7d>\u001b[0m in \u001b[0;36m<module>\u001b[1;34m\u001b[0m\n\u001b[1;32m----> 1\u001b[1;33m \u001b[0mos\u001b[0m\u001b[1;33m.\u001b[0m\u001b[0muname\u001b[0m\u001b[1;33m(\u001b[0m\u001b[1;33m)\u001b[0m\u001b[1;33m\u001b[0m\u001b[1;33m\u001b[0m\u001b[0m\n\u001b[0m",
      "\u001b[1;31mAttributeError\u001b[0m: module 'os' has no attribute 'uname'"
     ]
    }
   ],
   "source": [
    "os.uname()"
   ]
  },
  {
   "cell_type": "markdown",
   "metadata": {},
   "source": [
    "### para conocer el tiempo que toma un proceso"
   ]
  },
  {
   "cell_type": "code",
   "execution_count": 98,
   "metadata": {},
   "outputs": [
    {
     "name": "stdout",
     "output_type": "stream",
     "text": [
      "hola nt.times_result(user=2.015625, system=1.796875, children_user=0.0, children_system=0.0, elapsed=0.0)\n"
     ]
    }
   ],
   "source": [
    "tiempo =os.times()\n",
    "\n",
    "print(\"hola\", tiempo)"
   ]
  },
  {
   "cell_type": "markdown",
   "metadata": {},
   "source": [
    "# pandas \n",
    "# Python Data Analysis Library"
   ]
  },
  {
   "cell_type": "code",
   "execution_count": 99,
   "metadata": {},
   "outputs": [],
   "source": [
    "# se importan partes específicas de la biblioteca\n",
    "from pandas import Series, DataFrame"
   ]
  },
  {
   "cell_type": "code",
   "execution_count": 100,
   "metadata": {},
   "outputs": [],
   "source": [
    "# se importa pandas como pd, simplemente para no escribir `pandas` todo el tiempo que se requeira\n",
    "import pandas as pd"
   ]
  },
  {
   "cell_type": "code",
   "execution_count": 101,
   "metadata": {},
   "outputs": [
    {
     "name": "stdout",
     "output_type": "stream",
     "text": [
      "C:\\Users\\SalaD26\\Desktop\\data\\morfo\n"
     ]
    }
   ],
   "source": [
    "cd ../morfo"
   ]
  },
  {
   "cell_type": "code",
   "execution_count": 102,
   "metadata": {},
   "outputs": [
    {
     "name": "stdout",
     "output_type": "stream",
     "text": [
      " El volumen de la unidad C no tiene etiqueta.\n",
      " El n£mero de serie del volumen es: 4C69-5113\n",
      "\n",
      " Directorio de C:\\Users\\SalaD26\\Desktop\\data\\morfo\n",
      "\n",
      "15/01/2019  08:58 a. m.    <DIR>          .\n",
      "15/01/2019  08:58 a. m.    <DIR>          ..\n",
      "04/09/2018  02:18 p. m.            24,460 7sppMorfo.csv\n",
      "11/01/2019  12:20 p. m.             6,001 7sppMorfo_largototal.csv\n",
      "               2 archivos         30,461 bytes\n",
      "               2 dirs  159,868,968,960 bytes libres\n"
     ]
    }
   ],
   "source": [
    "ls"
   ]
  },
  {
   "cell_type": "code",
   "execution_count": 103,
   "metadata": {
    "scrolled": true
   },
   "outputs": [
    {
     "data": {
      "text/html": [
       "<div>\n",
       "<style scoped>\n",
       "    .dataframe tbody tr th:only-of-type {\n",
       "        vertical-align: middle;\n",
       "    }\n",
       "\n",
       "    .dataframe tbody tr th {\n",
       "        vertical-align: top;\n",
       "    }\n",
       "\n",
       "    .dataframe thead th {\n",
       "        text-align: right;\n",
       "    }\n",
       "</style>\n",
       "<table border=\"1\" class=\"dataframe\">\n",
       "  <thead>\n",
       "    <tr style=\"text-align: right;\">\n",
       "      <th></th>\n",
       "      <th>especie</th>\n",
       "      <th>org</th>\n",
       "      <th>long_total</th>\n",
       "    </tr>\n",
       "  </thead>\n",
       "  <tbody>\n",
       "    <tr>\n",
       "      <th>0</th>\n",
       "      <td>especie1</td>\n",
       "      <td>1</td>\n",
       "      <td>100</td>\n",
       "    </tr>\n",
       "    <tr>\n",
       "      <th>1</th>\n",
       "      <td>especie1</td>\n",
       "      <td>2</td>\n",
       "      <td>89</td>\n",
       "    </tr>\n",
       "    <tr>\n",
       "      <th>2</th>\n",
       "      <td>especie1</td>\n",
       "      <td>3</td>\n",
       "      <td>114</td>\n",
       "    </tr>\n",
       "    <tr>\n",
       "      <th>3</th>\n",
       "      <td>especie1</td>\n",
       "      <td>4</td>\n",
       "      <td>88</td>\n",
       "    </tr>\n",
       "    <tr>\n",
       "      <th>4</th>\n",
       "      <td>especie1</td>\n",
       "      <td>5</td>\n",
       "      <td>124</td>\n",
       "    </tr>\n",
       "    <tr>\n",
       "      <th>5</th>\n",
       "      <td>especie1</td>\n",
       "      <td>12</td>\n",
       "      <td>101</td>\n",
       "    </tr>\n",
       "    <tr>\n",
       "      <th>6</th>\n",
       "      <td>especie1</td>\n",
       "      <td>13</td>\n",
       "      <td>100</td>\n",
       "    </tr>\n",
       "    <tr>\n",
       "      <th>7</th>\n",
       "      <td>especie1</td>\n",
       "      <td>6</td>\n",
       "      <td>113</td>\n",
       "    </tr>\n",
       "    <tr>\n",
       "      <th>8</th>\n",
       "      <td>especie1</td>\n",
       "      <td>7</td>\n",
       "      <td>109</td>\n",
       "    </tr>\n",
       "    <tr>\n",
       "      <th>9</th>\n",
       "      <td>especie1</td>\n",
       "      <td>8</td>\n",
       "      <td>129</td>\n",
       "    </tr>\n",
       "    <tr>\n",
       "      <th>10</th>\n",
       "      <td>especie1</td>\n",
       "      <td>9</td>\n",
       "      <td>118</td>\n",
       "    </tr>\n",
       "    <tr>\n",
       "      <th>11</th>\n",
       "      <td>especie1</td>\n",
       "      <td>10</td>\n",
       "      <td>113</td>\n",
       "    </tr>\n",
       "    <tr>\n",
       "      <th>12</th>\n",
       "      <td>especie1</td>\n",
       "      <td>11</td>\n",
       "      <td>96</td>\n",
       "    </tr>\n",
       "    <tr>\n",
       "      <th>13</th>\n",
       "      <td>especie1</td>\n",
       "      <td>14</td>\n",
       "      <td>98</td>\n",
       "    </tr>\n",
       "    <tr>\n",
       "      <th>14</th>\n",
       "      <td>especie1</td>\n",
       "      <td>15</td>\n",
       "      <td>92</td>\n",
       "    </tr>\n",
       "    <tr>\n",
       "      <th>15</th>\n",
       "      <td>especie1</td>\n",
       "      <td>16</td>\n",
       "      <td>99</td>\n",
       "    </tr>\n",
       "    <tr>\n",
       "      <th>16</th>\n",
       "      <td>especie1</td>\n",
       "      <td>17</td>\n",
       "      <td>88</td>\n",
       "    </tr>\n",
       "    <tr>\n",
       "      <th>17</th>\n",
       "      <td>especie1</td>\n",
       "      <td>18</td>\n",
       "      <td>99</td>\n",
       "    </tr>\n",
       "    <tr>\n",
       "      <th>18</th>\n",
       "      <td>especie1</td>\n",
       "      <td>19</td>\n",
       "      <td>129</td>\n",
       "    </tr>\n",
       "    <tr>\n",
       "      <th>19</th>\n",
       "      <td>especie1</td>\n",
       "      <td>20</td>\n",
       "      <td>132</td>\n",
       "    </tr>\n",
       "    <tr>\n",
       "      <th>20</th>\n",
       "      <td>especie1</td>\n",
       "      <td>21</td>\n",
       "      <td>114</td>\n",
       "    </tr>\n",
       "    <tr>\n",
       "      <th>21</th>\n",
       "      <td>especie1</td>\n",
       "      <td>22</td>\n",
       "      <td>128</td>\n",
       "    </tr>\n",
       "    <tr>\n",
       "      <th>22</th>\n",
       "      <td>especie1</td>\n",
       "      <td>23</td>\n",
       "      <td>105</td>\n",
       "    </tr>\n",
       "    <tr>\n",
       "      <th>23</th>\n",
       "      <td>especie1</td>\n",
       "      <td>25</td>\n",
       "      <td>98</td>\n",
       "    </tr>\n",
       "    <tr>\n",
       "      <th>24</th>\n",
       "      <td>especie1</td>\n",
       "      <td>26</td>\n",
       "      <td>111</td>\n",
       "    </tr>\n",
       "    <tr>\n",
       "      <th>25</th>\n",
       "      <td>especie1</td>\n",
       "      <td>27</td>\n",
       "      <td>98</td>\n",
       "    </tr>\n",
       "    <tr>\n",
       "      <th>26</th>\n",
       "      <td>especie1</td>\n",
       "      <td>28</td>\n",
       "      <td>96</td>\n",
       "    </tr>\n",
       "    <tr>\n",
       "      <th>27</th>\n",
       "      <td>especie1</td>\n",
       "      <td>29</td>\n",
       "      <td>125</td>\n",
       "    </tr>\n",
       "    <tr>\n",
       "      <th>28</th>\n",
       "      <td>especie1</td>\n",
       "      <td>30</td>\n",
       "      <td>107</td>\n",
       "    </tr>\n",
       "    <tr>\n",
       "      <th>29</th>\n",
       "      <td>especie1</td>\n",
       "      <td>31</td>\n",
       "      <td>112</td>\n",
       "    </tr>\n",
       "    <tr>\n",
       "      <th>...</th>\n",
       "      <td>...</td>\n",
       "      <td>...</td>\n",
       "      <td>...</td>\n",
       "    </tr>\n",
       "    <tr>\n",
       "      <th>337</th>\n",
       "      <td>especie7</td>\n",
       "      <td>71</td>\n",
       "      <td>82</td>\n",
       "    </tr>\n",
       "    <tr>\n",
       "      <th>338</th>\n",
       "      <td>especie7</td>\n",
       "      <td>72</td>\n",
       "      <td>78</td>\n",
       "    </tr>\n",
       "    <tr>\n",
       "      <th>339</th>\n",
       "      <td>especie7</td>\n",
       "      <td>73</td>\n",
       "      <td>88</td>\n",
       "    </tr>\n",
       "    <tr>\n",
       "      <th>340</th>\n",
       "      <td>especie7</td>\n",
       "      <td>74</td>\n",
       "      <td>86</td>\n",
       "    </tr>\n",
       "    <tr>\n",
       "      <th>341</th>\n",
       "      <td>especie7</td>\n",
       "      <td>75</td>\n",
       "      <td>82</td>\n",
       "    </tr>\n",
       "    <tr>\n",
       "      <th>342</th>\n",
       "      <td>especie7</td>\n",
       "      <td>76</td>\n",
       "      <td>88</td>\n",
       "    </tr>\n",
       "    <tr>\n",
       "      <th>343</th>\n",
       "      <td>especie7</td>\n",
       "      <td>77</td>\n",
       "      <td>85</td>\n",
       "    </tr>\n",
       "    <tr>\n",
       "      <th>344</th>\n",
       "      <td>especie7</td>\n",
       "      <td>78</td>\n",
       "      <td>85</td>\n",
       "    </tr>\n",
       "    <tr>\n",
       "      <th>345</th>\n",
       "      <td>especie7</td>\n",
       "      <td>79</td>\n",
       "      <td>91</td>\n",
       "    </tr>\n",
       "    <tr>\n",
       "      <th>346</th>\n",
       "      <td>especie7</td>\n",
       "      <td>80</td>\n",
       "      <td>87</td>\n",
       "    </tr>\n",
       "    <tr>\n",
       "      <th>347</th>\n",
       "      <td>especie7</td>\n",
       "      <td>81</td>\n",
       "      <td>88</td>\n",
       "    </tr>\n",
       "    <tr>\n",
       "      <th>348</th>\n",
       "      <td>especie7</td>\n",
       "      <td>82</td>\n",
       "      <td>102</td>\n",
       "    </tr>\n",
       "    <tr>\n",
       "      <th>349</th>\n",
       "      <td>especie7</td>\n",
       "      <td>83</td>\n",
       "      <td>90</td>\n",
       "    </tr>\n",
       "    <tr>\n",
       "      <th>350</th>\n",
       "      <td>especie7</td>\n",
       "      <td>84</td>\n",
       "      <td>90</td>\n",
       "    </tr>\n",
       "    <tr>\n",
       "      <th>351</th>\n",
       "      <td>especie7</td>\n",
       "      <td>85</td>\n",
       "      <td>85</td>\n",
       "    </tr>\n",
       "    <tr>\n",
       "      <th>352</th>\n",
       "      <td>especie7</td>\n",
       "      <td>86</td>\n",
       "      <td>90</td>\n",
       "    </tr>\n",
       "    <tr>\n",
       "      <th>353</th>\n",
       "      <td>especie7</td>\n",
       "      <td>87</td>\n",
       "      <td>76</td>\n",
       "    </tr>\n",
       "    <tr>\n",
       "      <th>354</th>\n",
       "      <td>especie7</td>\n",
       "      <td>88</td>\n",
       "      <td>87</td>\n",
       "    </tr>\n",
       "    <tr>\n",
       "      <th>355</th>\n",
       "      <td>especie7</td>\n",
       "      <td>89</td>\n",
       "      <td>86</td>\n",
       "    </tr>\n",
       "    <tr>\n",
       "      <th>356</th>\n",
       "      <td>especie7</td>\n",
       "      <td>90</td>\n",
       "      <td>83</td>\n",
       "    </tr>\n",
       "    <tr>\n",
       "      <th>357</th>\n",
       "      <td>especie7</td>\n",
       "      <td>91</td>\n",
       "      <td>80</td>\n",
       "    </tr>\n",
       "    <tr>\n",
       "      <th>358</th>\n",
       "      <td>especie7</td>\n",
       "      <td>92</td>\n",
       "      <td>97</td>\n",
       "    </tr>\n",
       "    <tr>\n",
       "      <th>359</th>\n",
       "      <td>especie7</td>\n",
       "      <td>93</td>\n",
       "      <td>83</td>\n",
       "    </tr>\n",
       "    <tr>\n",
       "      <th>360</th>\n",
       "      <td>especie7</td>\n",
       "      <td>94</td>\n",
       "      <td>90</td>\n",
       "    </tr>\n",
       "    <tr>\n",
       "      <th>361</th>\n",
       "      <td>especie7</td>\n",
       "      <td>95</td>\n",
       "      <td>98</td>\n",
       "    </tr>\n",
       "    <tr>\n",
       "      <th>362</th>\n",
       "      <td>especie7</td>\n",
       "      <td>96</td>\n",
       "      <td>86</td>\n",
       "    </tr>\n",
       "    <tr>\n",
       "      <th>363</th>\n",
       "      <td>especie7</td>\n",
       "      <td>97</td>\n",
       "      <td>90</td>\n",
       "    </tr>\n",
       "    <tr>\n",
       "      <th>364</th>\n",
       "      <td>especie7</td>\n",
       "      <td>98</td>\n",
       "      <td>84</td>\n",
       "    </tr>\n",
       "    <tr>\n",
       "      <th>365</th>\n",
       "      <td>especie7</td>\n",
       "      <td>99</td>\n",
       "      <td>84</td>\n",
       "    </tr>\n",
       "    <tr>\n",
       "      <th>366</th>\n",
       "      <td>especie7</td>\n",
       "      <td>100</td>\n",
       "      <td>95</td>\n",
       "    </tr>\n",
       "  </tbody>\n",
       "</table>\n",
       "<p>367 rows × 3 columns</p>\n",
       "</div>"
      ],
      "text/plain": [
       "      especie  org  long_total\n",
       "0    especie1    1         100\n",
       "1    especie1    2          89\n",
       "2    especie1    3         114\n",
       "3    especie1    4          88\n",
       "4    especie1    5         124\n",
       "5    especie1   12         101\n",
       "6    especie1   13         100\n",
       "7    especie1    6         113\n",
       "8    especie1    7         109\n",
       "9    especie1    8         129\n",
       "10   especie1    9         118\n",
       "11   especie1   10         113\n",
       "12   especie1   11          96\n",
       "13   especie1   14          98\n",
       "14   especie1   15          92\n",
       "15   especie1   16          99\n",
       "16   especie1   17          88\n",
       "17   especie1   18          99\n",
       "18   especie1   19         129\n",
       "19   especie1   20         132\n",
       "20   especie1   21         114\n",
       "21   especie1   22         128\n",
       "22   especie1   23         105\n",
       "23   especie1   25          98\n",
       "24   especie1   26         111\n",
       "25   especie1   27          98\n",
       "26   especie1   28          96\n",
       "27   especie1   29         125\n",
       "28   especie1   30         107\n",
       "29   especie1   31         112\n",
       "..        ...  ...         ...\n",
       "337  especie7   71          82\n",
       "338  especie7   72          78\n",
       "339  especie7   73          88\n",
       "340  especie7   74          86\n",
       "341  especie7   75          82\n",
       "342  especie7   76          88\n",
       "343  especie7   77          85\n",
       "344  especie7   78          85\n",
       "345  especie7   79          91\n",
       "346  especie7   80          87\n",
       "347  especie7   81          88\n",
       "348  especie7   82         102\n",
       "349  especie7   83          90\n",
       "350  especie7   84          90\n",
       "351  especie7   85          85\n",
       "352  especie7   86          90\n",
       "353  especie7   87          76\n",
       "354  especie7   88          87\n",
       "355  especie7   89          86\n",
       "356  especie7   90          83\n",
       "357  especie7   91          80\n",
       "358  especie7   92          97\n",
       "359  especie7   93          83\n",
       "360  especie7   94          90\n",
       "361  especie7   95          98\n",
       "362  especie7   96          86\n",
       "363  especie7   97          90\n",
       "364  especie7   98          84\n",
       "365  especie7   99          84\n",
       "366  especie7  100          95\n",
       "\n",
       "[367 rows x 3 columns]"
      ]
     },
     "execution_count": 103,
     "metadata": {},
     "output_type": "execute_result"
    }
   ],
   "source": [
    "pd.read_csv(\"7sppMorfo_largototal.csv\")"
   ]
  },
  {
   "cell_type": "code",
   "execution_count": 104,
   "metadata": {},
   "outputs": [],
   "source": [
    "?pd.read_csv"
   ]
  },
  {
   "cell_type": "markdown",
   "metadata": {},
   "source": [
    "# Describa el contenido del archivo que acaba de observar"
   ]
  },
  {
   "cell_type": "code",
   "execution_count": null,
   "metadata": {},
   "outputs": [],
   "source": []
  },
  {
   "cell_type": "code",
   "execution_count": null,
   "metadata": {},
   "outputs": [],
   "source": []
  },
  {
   "cell_type": "markdown",
   "metadata": {},
   "source": [
    "# Escriba el comando para que al abrir el archivo `7sppMorfo.csv` lo asigne a la variable `f`"
   ]
  },
  {
   "cell_type": "code",
   "execution_count": 105,
   "metadata": {
    "scrolled": true
   },
   "outputs": [
    {
     "data": {
      "text/html": [
       "<div>\n",
       "<style scoped>\n",
       "    .dataframe tbody tr th:only-of-type {\n",
       "        vertical-align: middle;\n",
       "    }\n",
       "\n",
       "    .dataframe tbody tr th {\n",
       "        vertical-align: top;\n",
       "    }\n",
       "\n",
       "    .dataframe thead th {\n",
       "        text-align: right;\n",
       "    }\n",
       "</style>\n",
       "<table border=\"1\" class=\"dataframe\">\n",
       "  <thead>\n",
       "    <tr style=\"text-align: right;\">\n",
       "      <th></th>\n",
       "      <th>especie</th>\n",
       "      <th>org</th>\n",
       "      <th>long_total</th>\n",
       "      <th>long_estandar</th>\n",
       "      <th>long_cefalica</th>\n",
       "      <th>diam_ojo</th>\n",
       "      <th>long_hocico</th>\n",
       "      <th>long_mandibular</th>\n",
       "      <th>long_postorbital</th>\n",
       "      <th>long_pedunculo_caudal</th>\n",
       "      <th>...</th>\n",
       "      <th>dist_hocico_1a_aleta_dorsal</th>\n",
       "      <th>dist_hocico_2a_aleta_dorsal</th>\n",
       "      <th>dist_hocico_aleta_pelvica</th>\n",
       "      <th>long_base_aleta_pelvica</th>\n",
       "      <th>alt_máxima_cuerpo</th>\n",
       "      <th>alt_min_pedunculo_caudal</th>\n",
       "      <th>alt_aleta_anal</th>\n",
       "      <th>alt_aleta_pectoral</th>\n",
       "      <th>alt_1a_aleta_dorsal</th>\n",
       "      <th>alt_2a_aleta_dorsal</th>\n",
       "    </tr>\n",
       "  </thead>\n",
       "  <tbody>\n",
       "    <tr>\n",
       "      <th>0</th>\n",
       "      <td>especie1</td>\n",
       "      <td>1</td>\n",
       "      <td>100</td>\n",
       "      <td>86</td>\n",
       "      <td>22</td>\n",
       "      <td>6</td>\n",
       "      <td>8</td>\n",
       "      <td>9</td>\n",
       "      <td>9</td>\n",
       "      <td>19</td>\n",
       "      <td>...</td>\n",
       "      <td>44</td>\n",
       "      <td>56</td>\n",
       "      <td>36</td>\n",
       "      <td>3</td>\n",
       "      <td>17</td>\n",
       "      <td>7</td>\n",
       "      <td>14</td>\n",
       "      <td>16</td>\n",
       "      <td>8</td>\n",
       "      <td>13</td>\n",
       "    </tr>\n",
       "    <tr>\n",
       "      <th>1</th>\n",
       "      <td>especie1</td>\n",
       "      <td>2</td>\n",
       "      <td>89</td>\n",
       "      <td>74</td>\n",
       "      <td>19</td>\n",
       "      <td>6</td>\n",
       "      <td>6</td>\n",
       "      <td>8</td>\n",
       "      <td>8</td>\n",
       "      <td>18</td>\n",
       "      <td>...</td>\n",
       "      <td>39</td>\n",
       "      <td>48</td>\n",
       "      <td>31</td>\n",
       "      <td>2</td>\n",
       "      <td>13</td>\n",
       "      <td>6</td>\n",
       "      <td>12</td>\n",
       "      <td>14</td>\n",
       "      <td>7</td>\n",
       "      <td>11</td>\n",
       "    </tr>\n",
       "    <tr>\n",
       "      <th>2</th>\n",
       "      <td>especie1</td>\n",
       "      <td>3</td>\n",
       "      <td>114</td>\n",
       "      <td>95</td>\n",
       "      <td>24</td>\n",
       "      <td>7</td>\n",
       "      <td>9</td>\n",
       "      <td>11</td>\n",
       "      <td>11</td>\n",
       "      <td>20</td>\n",
       "      <td>...</td>\n",
       "      <td>49</td>\n",
       "      <td>61</td>\n",
       "      <td>40</td>\n",
       "      <td>6</td>\n",
       "      <td>20</td>\n",
       "      <td>8</td>\n",
       "      <td>15</td>\n",
       "      <td>18</td>\n",
       "      <td>7</td>\n",
       "      <td>16</td>\n",
       "    </tr>\n",
       "    <tr>\n",
       "      <th>3</th>\n",
       "      <td>especie1</td>\n",
       "      <td>4</td>\n",
       "      <td>88</td>\n",
       "      <td>74</td>\n",
       "      <td>19</td>\n",
       "      <td>5</td>\n",
       "      <td>6</td>\n",
       "      <td>8</td>\n",
       "      <td>8</td>\n",
       "      <td>17</td>\n",
       "      <td>...</td>\n",
       "      <td>39</td>\n",
       "      <td>48</td>\n",
       "      <td>31</td>\n",
       "      <td>2</td>\n",
       "      <td>14</td>\n",
       "      <td>6</td>\n",
       "      <td>12</td>\n",
       "      <td>14</td>\n",
       "      <td>7</td>\n",
       "      <td>11</td>\n",
       "    </tr>\n",
       "    <tr>\n",
       "      <th>4</th>\n",
       "      <td>especie1</td>\n",
       "      <td>5</td>\n",
       "      <td>124</td>\n",
       "      <td>103</td>\n",
       "      <td>30</td>\n",
       "      <td>8</td>\n",
       "      <td>11</td>\n",
       "      <td>14</td>\n",
       "      <td>14</td>\n",
       "      <td>22</td>\n",
       "      <td>...</td>\n",
       "      <td>57</td>\n",
       "      <td>73</td>\n",
       "      <td>45</td>\n",
       "      <td>3</td>\n",
       "      <td>19</td>\n",
       "      <td>10</td>\n",
       "      <td>19</td>\n",
       "      <td>19</td>\n",
       "      <td>10</td>\n",
       "      <td>16</td>\n",
       "    </tr>\n",
       "    <tr>\n",
       "      <th>5</th>\n",
       "      <td>especie1</td>\n",
       "      <td>12</td>\n",
       "      <td>101</td>\n",
       "      <td>84</td>\n",
       "      <td>23</td>\n",
       "      <td>6</td>\n",
       "      <td>8</td>\n",
       "      <td>10</td>\n",
       "      <td>10</td>\n",
       "      <td>17</td>\n",
       "      <td>...</td>\n",
       "      <td>46</td>\n",
       "      <td>57</td>\n",
       "      <td>39</td>\n",
       "      <td>5</td>\n",
       "      <td>17</td>\n",
       "      <td>8</td>\n",
       "      <td>15</td>\n",
       "      <td>17</td>\n",
       "      <td>8</td>\n",
       "      <td>13</td>\n",
       "    </tr>\n",
       "    <tr>\n",
       "      <th>6</th>\n",
       "      <td>especie1</td>\n",
       "      <td>13</td>\n",
       "      <td>100</td>\n",
       "      <td>86</td>\n",
       "      <td>23</td>\n",
       "      <td>6</td>\n",
       "      <td>8</td>\n",
       "      <td>10</td>\n",
       "      <td>9</td>\n",
       "      <td>19</td>\n",
       "      <td>...</td>\n",
       "      <td>47</td>\n",
       "      <td>57</td>\n",
       "      <td>38</td>\n",
       "      <td>5</td>\n",
       "      <td>18</td>\n",
       "      <td>9</td>\n",
       "      <td>16</td>\n",
       "      <td>20</td>\n",
       "      <td>8</td>\n",
       "      <td>13</td>\n",
       "    </tr>\n",
       "    <tr>\n",
       "      <th>7</th>\n",
       "      <td>especie1</td>\n",
       "      <td>6</td>\n",
       "      <td>113</td>\n",
       "      <td>93</td>\n",
       "      <td>26</td>\n",
       "      <td>7</td>\n",
       "      <td>9</td>\n",
       "      <td>12</td>\n",
       "      <td>12</td>\n",
       "      <td>19</td>\n",
       "      <td>...</td>\n",
       "      <td>52</td>\n",
       "      <td>60</td>\n",
       "      <td>42</td>\n",
       "      <td>3</td>\n",
       "      <td>18</td>\n",
       "      <td>10</td>\n",
       "      <td>17</td>\n",
       "      <td>18</td>\n",
       "      <td>8</td>\n",
       "      <td>16</td>\n",
       "    </tr>\n",
       "    <tr>\n",
       "      <th>8</th>\n",
       "      <td>especie1</td>\n",
       "      <td>7</td>\n",
       "      <td>109</td>\n",
       "      <td>93</td>\n",
       "      <td>25</td>\n",
       "      <td>7</td>\n",
       "      <td>8</td>\n",
       "      <td>10</td>\n",
       "      <td>10</td>\n",
       "      <td>20</td>\n",
       "      <td>...</td>\n",
       "      <td>48</td>\n",
       "      <td>60</td>\n",
       "      <td>37</td>\n",
       "      <td>5</td>\n",
       "      <td>16</td>\n",
       "      <td>8</td>\n",
       "      <td>15</td>\n",
       "      <td>16</td>\n",
       "      <td>8</td>\n",
       "      <td>13</td>\n",
       "    </tr>\n",
       "    <tr>\n",
       "      <th>9</th>\n",
       "      <td>especie1</td>\n",
       "      <td>8</td>\n",
       "      <td>129</td>\n",
       "      <td>109</td>\n",
       "      <td>32</td>\n",
       "      <td>8</td>\n",
       "      <td>11</td>\n",
       "      <td>14</td>\n",
       "      <td>14</td>\n",
       "      <td>19</td>\n",
       "      <td>...</td>\n",
       "      <td>60</td>\n",
       "      <td>73</td>\n",
       "      <td>48</td>\n",
       "      <td>3</td>\n",
       "      <td>18</td>\n",
       "      <td>9</td>\n",
       "      <td>17</td>\n",
       "      <td>20</td>\n",
       "      <td>5</td>\n",
       "      <td>17</td>\n",
       "    </tr>\n",
       "    <tr>\n",
       "      <th>10</th>\n",
       "      <td>especie1</td>\n",
       "      <td>9</td>\n",
       "      <td>118</td>\n",
       "      <td>98</td>\n",
       "      <td>28</td>\n",
       "      <td>7</td>\n",
       "      <td>9</td>\n",
       "      <td>13</td>\n",
       "      <td>12</td>\n",
       "      <td>19</td>\n",
       "      <td>...</td>\n",
       "      <td>55</td>\n",
       "      <td>67</td>\n",
       "      <td>42</td>\n",
       "      <td>3</td>\n",
       "      <td>17</td>\n",
       "      <td>8</td>\n",
       "      <td>17</td>\n",
       "      <td>18</td>\n",
       "      <td>8</td>\n",
       "      <td>12</td>\n",
       "    </tr>\n",
       "    <tr>\n",
       "      <th>11</th>\n",
       "      <td>especie1</td>\n",
       "      <td>10</td>\n",
       "      <td>113</td>\n",
       "      <td>100</td>\n",
       "      <td>26</td>\n",
       "      <td>7</td>\n",
       "      <td>8</td>\n",
       "      <td>15</td>\n",
       "      <td>11</td>\n",
       "      <td>22</td>\n",
       "      <td>...</td>\n",
       "      <td>54</td>\n",
       "      <td>67</td>\n",
       "      <td>42</td>\n",
       "      <td>3</td>\n",
       "      <td>19</td>\n",
       "      <td>7</td>\n",
       "      <td>14</td>\n",
       "      <td>19</td>\n",
       "      <td>8</td>\n",
       "      <td>13</td>\n",
       "    </tr>\n",
       "    <tr>\n",
       "      <th>12</th>\n",
       "      <td>especie1</td>\n",
       "      <td>11</td>\n",
       "      <td>96</td>\n",
       "      <td>81</td>\n",
       "      <td>21</td>\n",
       "      <td>6</td>\n",
       "      <td>8</td>\n",
       "      <td>10</td>\n",
       "      <td>10</td>\n",
       "      <td>17</td>\n",
       "      <td>...</td>\n",
       "      <td>43</td>\n",
       "      <td>53</td>\n",
       "      <td>34</td>\n",
       "      <td>4</td>\n",
       "      <td>18</td>\n",
       "      <td>8</td>\n",
       "      <td>14</td>\n",
       "      <td>16</td>\n",
       "      <td>8</td>\n",
       "      <td>13</td>\n",
       "    </tr>\n",
       "    <tr>\n",
       "      <th>13</th>\n",
       "      <td>especie1</td>\n",
       "      <td>14</td>\n",
       "      <td>98</td>\n",
       "      <td>80</td>\n",
       "      <td>24</td>\n",
       "      <td>6</td>\n",
       "      <td>9</td>\n",
       "      <td>11</td>\n",
       "      <td>10</td>\n",
       "      <td>15</td>\n",
       "      <td>...</td>\n",
       "      <td>46</td>\n",
       "      <td>55</td>\n",
       "      <td>38</td>\n",
       "      <td>4</td>\n",
       "      <td>15</td>\n",
       "      <td>8</td>\n",
       "      <td>15</td>\n",
       "      <td>16</td>\n",
       "      <td>7</td>\n",
       "      <td>14</td>\n",
       "    </tr>\n",
       "    <tr>\n",
       "      <th>14</th>\n",
       "      <td>especie1</td>\n",
       "      <td>15</td>\n",
       "      <td>92</td>\n",
       "      <td>76</td>\n",
       "      <td>22</td>\n",
       "      <td>7</td>\n",
       "      <td>8</td>\n",
       "      <td>10</td>\n",
       "      <td>10</td>\n",
       "      <td>15</td>\n",
       "      <td>...</td>\n",
       "      <td>42</td>\n",
       "      <td>52</td>\n",
       "      <td>35</td>\n",
       "      <td>5</td>\n",
       "      <td>16</td>\n",
       "      <td>9</td>\n",
       "      <td>14</td>\n",
       "      <td>15</td>\n",
       "      <td>8</td>\n",
       "      <td>13</td>\n",
       "    </tr>\n",
       "    <tr>\n",
       "      <th>15</th>\n",
       "      <td>especie1</td>\n",
       "      <td>16</td>\n",
       "      <td>99</td>\n",
       "      <td>82</td>\n",
       "      <td>23</td>\n",
       "      <td>6</td>\n",
       "      <td>8</td>\n",
       "      <td>10</td>\n",
       "      <td>10</td>\n",
       "      <td>17</td>\n",
       "      <td>...</td>\n",
       "      <td>44</td>\n",
       "      <td>55</td>\n",
       "      <td>35</td>\n",
       "      <td>5</td>\n",
       "      <td>16</td>\n",
       "      <td>9</td>\n",
       "      <td>15</td>\n",
       "      <td>16</td>\n",
       "      <td>8</td>\n",
       "      <td>13</td>\n",
       "    </tr>\n",
       "    <tr>\n",
       "      <th>16</th>\n",
       "      <td>especie1</td>\n",
       "      <td>17</td>\n",
       "      <td>88</td>\n",
       "      <td>75</td>\n",
       "      <td>18</td>\n",
       "      <td>6</td>\n",
       "      <td>6</td>\n",
       "      <td>9</td>\n",
       "      <td>10</td>\n",
       "      <td>16</td>\n",
       "      <td>...</td>\n",
       "      <td>40</td>\n",
       "      <td>50</td>\n",
       "      <td>32</td>\n",
       "      <td>5</td>\n",
       "      <td>15</td>\n",
       "      <td>8</td>\n",
       "      <td>14</td>\n",
       "      <td>15</td>\n",
       "      <td>7</td>\n",
       "      <td>12</td>\n",
       "    </tr>\n",
       "    <tr>\n",
       "      <th>17</th>\n",
       "      <td>especie1</td>\n",
       "      <td>18</td>\n",
       "      <td>99</td>\n",
       "      <td>88</td>\n",
       "      <td>23</td>\n",
       "      <td>6</td>\n",
       "      <td>7</td>\n",
       "      <td>10</td>\n",
       "      <td>10</td>\n",
       "      <td>19</td>\n",
       "      <td>...</td>\n",
       "      <td>47</td>\n",
       "      <td>58</td>\n",
       "      <td>38</td>\n",
       "      <td>5</td>\n",
       "      <td>18</td>\n",
       "      <td>8</td>\n",
       "      <td>13</td>\n",
       "      <td>16</td>\n",
       "      <td>8</td>\n",
       "      <td>13</td>\n",
       "    </tr>\n",
       "    <tr>\n",
       "      <th>18</th>\n",
       "      <td>especie1</td>\n",
       "      <td>19</td>\n",
       "      <td>129</td>\n",
       "      <td>112</td>\n",
       "      <td>28</td>\n",
       "      <td>8</td>\n",
       "      <td>9</td>\n",
       "      <td>12</td>\n",
       "      <td>12</td>\n",
       "      <td>25</td>\n",
       "      <td>...</td>\n",
       "      <td>56</td>\n",
       "      <td>70</td>\n",
       "      <td>46</td>\n",
       "      <td>5</td>\n",
       "      <td>19</td>\n",
       "      <td>10</td>\n",
       "      <td>16</td>\n",
       "      <td>22</td>\n",
       "      <td>10</td>\n",
       "      <td>22</td>\n",
       "    </tr>\n",
       "    <tr>\n",
       "      <th>19</th>\n",
       "      <td>especie1</td>\n",
       "      <td>20</td>\n",
       "      <td>132</td>\n",
       "      <td>112</td>\n",
       "      <td>30</td>\n",
       "      <td>8</td>\n",
       "      <td>10</td>\n",
       "      <td>13</td>\n",
       "      <td>13</td>\n",
       "      <td>20</td>\n",
       "      <td>...</td>\n",
       "      <td>59</td>\n",
       "      <td>72</td>\n",
       "      <td>49</td>\n",
       "      <td>5</td>\n",
       "      <td>20</td>\n",
       "      <td>10</td>\n",
       "      <td>18</td>\n",
       "      <td>21</td>\n",
       "      <td>11</td>\n",
       "      <td>16</td>\n",
       "    </tr>\n",
       "    <tr>\n",
       "      <th>20</th>\n",
       "      <td>especie1</td>\n",
       "      <td>21</td>\n",
       "      <td>114</td>\n",
       "      <td>95</td>\n",
       "      <td>24</td>\n",
       "      <td>7</td>\n",
       "      <td>8</td>\n",
       "      <td>10</td>\n",
       "      <td>10</td>\n",
       "      <td>20</td>\n",
       "      <td>...</td>\n",
       "      <td>50</td>\n",
       "      <td>62</td>\n",
       "      <td>40</td>\n",
       "      <td>5</td>\n",
       "      <td>19</td>\n",
       "      <td>9</td>\n",
       "      <td>16</td>\n",
       "      <td>19</td>\n",
       "      <td>10</td>\n",
       "      <td>15</td>\n",
       "    </tr>\n",
       "    <tr>\n",
       "      <th>21</th>\n",
       "      <td>especie1</td>\n",
       "      <td>22</td>\n",
       "      <td>128</td>\n",
       "      <td>112</td>\n",
       "      <td>28</td>\n",
       "      <td>8</td>\n",
       "      <td>8</td>\n",
       "      <td>11</td>\n",
       "      <td>11</td>\n",
       "      <td>20</td>\n",
       "      <td>...</td>\n",
       "      <td>57</td>\n",
       "      <td>72</td>\n",
       "      <td>48</td>\n",
       "      <td>5</td>\n",
       "      <td>20</td>\n",
       "      <td>10</td>\n",
       "      <td>17</td>\n",
       "      <td>22</td>\n",
       "      <td>11</td>\n",
       "      <td>16</td>\n",
       "    </tr>\n",
       "    <tr>\n",
       "      <th>22</th>\n",
       "      <td>especie1</td>\n",
       "      <td>23</td>\n",
       "      <td>105</td>\n",
       "      <td>88</td>\n",
       "      <td>24</td>\n",
       "      <td>6</td>\n",
       "      <td>7</td>\n",
       "      <td>8</td>\n",
       "      <td>10</td>\n",
       "      <td>18</td>\n",
       "      <td>...</td>\n",
       "      <td>49</td>\n",
       "      <td>58</td>\n",
       "      <td>38</td>\n",
       "      <td>5</td>\n",
       "      <td>16</td>\n",
       "      <td>8</td>\n",
       "      <td>15</td>\n",
       "      <td>18</td>\n",
       "      <td>6</td>\n",
       "      <td>15</td>\n",
       "    </tr>\n",
       "    <tr>\n",
       "      <th>23</th>\n",
       "      <td>especie1</td>\n",
       "      <td>25</td>\n",
       "      <td>98</td>\n",
       "      <td>81</td>\n",
       "      <td>19</td>\n",
       "      <td>5</td>\n",
       "      <td>6</td>\n",
       "      <td>7</td>\n",
       "      <td>8</td>\n",
       "      <td>20</td>\n",
       "      <td>...</td>\n",
       "      <td>42</td>\n",
       "      <td>53</td>\n",
       "      <td>36</td>\n",
       "      <td>4</td>\n",
       "      <td>17</td>\n",
       "      <td>6</td>\n",
       "      <td>13</td>\n",
       "      <td>15</td>\n",
       "      <td>7</td>\n",
       "      <td>12</td>\n",
       "    </tr>\n",
       "    <tr>\n",
       "      <th>24</th>\n",
       "      <td>especie1</td>\n",
       "      <td>26</td>\n",
       "      <td>111</td>\n",
       "      <td>91</td>\n",
       "      <td>22</td>\n",
       "      <td>6</td>\n",
       "      <td>8</td>\n",
       "      <td>10</td>\n",
       "      <td>11</td>\n",
       "      <td>20</td>\n",
       "      <td>...</td>\n",
       "      <td>49</td>\n",
       "      <td>60</td>\n",
       "      <td>39</td>\n",
       "      <td>5</td>\n",
       "      <td>15</td>\n",
       "      <td>8</td>\n",
       "      <td>15</td>\n",
       "      <td>15</td>\n",
       "      <td>8</td>\n",
       "      <td>13</td>\n",
       "    </tr>\n",
       "    <tr>\n",
       "      <th>25</th>\n",
       "      <td>especie1</td>\n",
       "      <td>27</td>\n",
       "      <td>98</td>\n",
       "      <td>82</td>\n",
       "      <td>22</td>\n",
       "      <td>6</td>\n",
       "      <td>7</td>\n",
       "      <td>10</td>\n",
       "      <td>10</td>\n",
       "      <td>17</td>\n",
       "      <td>...</td>\n",
       "      <td>41</td>\n",
       "      <td>51</td>\n",
       "      <td>39</td>\n",
       "      <td>4</td>\n",
       "      <td>18</td>\n",
       "      <td>7</td>\n",
       "      <td>14</td>\n",
       "      <td>15</td>\n",
       "      <td>8</td>\n",
       "      <td>13</td>\n",
       "    </tr>\n",
       "    <tr>\n",
       "      <th>26</th>\n",
       "      <td>especie1</td>\n",
       "      <td>28</td>\n",
       "      <td>96</td>\n",
       "      <td>84</td>\n",
       "      <td>18</td>\n",
       "      <td>5</td>\n",
       "      <td>6</td>\n",
       "      <td>8</td>\n",
       "      <td>8</td>\n",
       "      <td>21</td>\n",
       "      <td>...</td>\n",
       "      <td>40</td>\n",
       "      <td>50</td>\n",
       "      <td>40</td>\n",
       "      <td>4</td>\n",
       "      <td>12</td>\n",
       "      <td>6</td>\n",
       "      <td>10</td>\n",
       "      <td>11</td>\n",
       "      <td>7</td>\n",
       "      <td>12</td>\n",
       "    </tr>\n",
       "    <tr>\n",
       "      <th>27</th>\n",
       "      <td>especie1</td>\n",
       "      <td>29</td>\n",
       "      <td>125</td>\n",
       "      <td>105</td>\n",
       "      <td>28</td>\n",
       "      <td>8</td>\n",
       "      <td>10</td>\n",
       "      <td>14</td>\n",
       "      <td>14</td>\n",
       "      <td>22</td>\n",
       "      <td>...</td>\n",
       "      <td>57</td>\n",
       "      <td>73</td>\n",
       "      <td>45</td>\n",
       "      <td>5</td>\n",
       "      <td>19</td>\n",
       "      <td>10</td>\n",
       "      <td>19</td>\n",
       "      <td>19</td>\n",
       "      <td>10</td>\n",
       "      <td>16</td>\n",
       "    </tr>\n",
       "    <tr>\n",
       "      <th>28</th>\n",
       "      <td>especie1</td>\n",
       "      <td>30</td>\n",
       "      <td>107</td>\n",
       "      <td>89</td>\n",
       "      <td>23</td>\n",
       "      <td>6</td>\n",
       "      <td>8</td>\n",
       "      <td>10</td>\n",
       "      <td>11</td>\n",
       "      <td>18</td>\n",
       "      <td>...</td>\n",
       "      <td>42</td>\n",
       "      <td>53</td>\n",
       "      <td>39</td>\n",
       "      <td>5</td>\n",
       "      <td>16</td>\n",
       "      <td>8</td>\n",
       "      <td>12</td>\n",
       "      <td>16</td>\n",
       "      <td>7</td>\n",
       "      <td>13</td>\n",
       "    </tr>\n",
       "    <tr>\n",
       "      <th>29</th>\n",
       "      <td>especie1</td>\n",
       "      <td>31</td>\n",
       "      <td>112</td>\n",
       "      <td>95</td>\n",
       "      <td>24</td>\n",
       "      <td>6</td>\n",
       "      <td>8</td>\n",
       "      <td>10</td>\n",
       "      <td>10</td>\n",
       "      <td>20</td>\n",
       "      <td>...</td>\n",
       "      <td>48</td>\n",
       "      <td>62</td>\n",
       "      <td>40</td>\n",
       "      <td>5</td>\n",
       "      <td>18</td>\n",
       "      <td>9</td>\n",
       "      <td>14</td>\n",
       "      <td>18</td>\n",
       "      <td>8</td>\n",
       "      <td>14</td>\n",
       "    </tr>\n",
       "    <tr>\n",
       "      <th>...</th>\n",
       "      <td>...</td>\n",
       "      <td>...</td>\n",
       "      <td>...</td>\n",
       "      <td>...</td>\n",
       "      <td>...</td>\n",
       "      <td>...</td>\n",
       "      <td>...</td>\n",
       "      <td>...</td>\n",
       "      <td>...</td>\n",
       "      <td>...</td>\n",
       "      <td>...</td>\n",
       "      <td>...</td>\n",
       "      <td>...</td>\n",
       "      <td>...</td>\n",
       "      <td>...</td>\n",
       "      <td>...</td>\n",
       "      <td>...</td>\n",
       "      <td>...</td>\n",
       "      <td>...</td>\n",
       "      <td>...</td>\n",
       "      <td>...</td>\n",
       "    </tr>\n",
       "    <tr>\n",
       "      <th>337</th>\n",
       "      <td>especie7</td>\n",
       "      <td>71</td>\n",
       "      <td>82</td>\n",
       "      <td>69</td>\n",
       "      <td>17</td>\n",
       "      <td>5</td>\n",
       "      <td>6</td>\n",
       "      <td>7</td>\n",
       "      <td>7</td>\n",
       "      <td>17</td>\n",
       "      <td>...</td>\n",
       "      <td>36</td>\n",
       "      <td>45</td>\n",
       "      <td>27</td>\n",
       "      <td>4</td>\n",
       "      <td>11</td>\n",
       "      <td>6</td>\n",
       "      <td>14</td>\n",
       "      <td>12</td>\n",
       "      <td>6</td>\n",
       "      <td>10</td>\n",
       "    </tr>\n",
       "    <tr>\n",
       "      <th>338</th>\n",
       "      <td>especie7</td>\n",
       "      <td>72</td>\n",
       "      <td>78</td>\n",
       "      <td>64</td>\n",
       "      <td>17</td>\n",
       "      <td>5</td>\n",
       "      <td>5</td>\n",
       "      <td>7</td>\n",
       "      <td>7</td>\n",
       "      <td>14</td>\n",
       "      <td>...</td>\n",
       "      <td>33</td>\n",
       "      <td>42</td>\n",
       "      <td>27</td>\n",
       "      <td>4</td>\n",
       "      <td>12</td>\n",
       "      <td>6</td>\n",
       "      <td>12</td>\n",
       "      <td>10</td>\n",
       "      <td>6</td>\n",
       "      <td>12</td>\n",
       "    </tr>\n",
       "    <tr>\n",
       "      <th>339</th>\n",
       "      <td>especie7</td>\n",
       "      <td>73</td>\n",
       "      <td>88</td>\n",
       "      <td>75</td>\n",
       "      <td>18</td>\n",
       "      <td>5</td>\n",
       "      <td>5</td>\n",
       "      <td>7</td>\n",
       "      <td>7</td>\n",
       "      <td>14</td>\n",
       "      <td>...</td>\n",
       "      <td>36</td>\n",
       "      <td>49</td>\n",
       "      <td>32</td>\n",
       "      <td>4</td>\n",
       "      <td>13</td>\n",
       "      <td>6</td>\n",
       "      <td>15</td>\n",
       "      <td>12</td>\n",
       "      <td>6</td>\n",
       "      <td>10</td>\n",
       "    </tr>\n",
       "    <tr>\n",
       "      <th>340</th>\n",
       "      <td>especie7</td>\n",
       "      <td>74</td>\n",
       "      <td>86</td>\n",
       "      <td>75</td>\n",
       "      <td>19</td>\n",
       "      <td>5</td>\n",
       "      <td>6</td>\n",
       "      <td>7</td>\n",
       "      <td>8</td>\n",
       "      <td>15</td>\n",
       "      <td>...</td>\n",
       "      <td>39</td>\n",
       "      <td>52</td>\n",
       "      <td>30</td>\n",
       "      <td>4</td>\n",
       "      <td>14</td>\n",
       "      <td>7</td>\n",
       "      <td>12</td>\n",
       "      <td>14</td>\n",
       "      <td>6</td>\n",
       "      <td>12</td>\n",
       "    </tr>\n",
       "    <tr>\n",
       "      <th>341</th>\n",
       "      <td>especie7</td>\n",
       "      <td>75</td>\n",
       "      <td>82</td>\n",
       "      <td>70</td>\n",
       "      <td>18</td>\n",
       "      <td>5</td>\n",
       "      <td>7</td>\n",
       "      <td>7</td>\n",
       "      <td>8</td>\n",
       "      <td>15</td>\n",
       "      <td>...</td>\n",
       "      <td>35</td>\n",
       "      <td>43</td>\n",
       "      <td>28</td>\n",
       "      <td>4</td>\n",
       "      <td>12</td>\n",
       "      <td>6</td>\n",
       "      <td>12</td>\n",
       "      <td>11</td>\n",
       "      <td>6</td>\n",
       "      <td>11</td>\n",
       "    </tr>\n",
       "    <tr>\n",
       "      <th>342</th>\n",
       "      <td>especie7</td>\n",
       "      <td>76</td>\n",
       "      <td>88</td>\n",
       "      <td>72</td>\n",
       "      <td>18</td>\n",
       "      <td>5</td>\n",
       "      <td>6</td>\n",
       "      <td>8</td>\n",
       "      <td>8</td>\n",
       "      <td>17</td>\n",
       "      <td>...</td>\n",
       "      <td>40</td>\n",
       "      <td>48</td>\n",
       "      <td>31</td>\n",
       "      <td>4</td>\n",
       "      <td>13</td>\n",
       "      <td>5</td>\n",
       "      <td>12</td>\n",
       "      <td>14</td>\n",
       "      <td>7</td>\n",
       "      <td>10</td>\n",
       "    </tr>\n",
       "    <tr>\n",
       "      <th>343</th>\n",
       "      <td>especie7</td>\n",
       "      <td>77</td>\n",
       "      <td>85</td>\n",
       "      <td>74</td>\n",
       "      <td>18</td>\n",
       "      <td>5</td>\n",
       "      <td>6</td>\n",
       "      <td>7</td>\n",
       "      <td>7</td>\n",
       "      <td>16</td>\n",
       "      <td>...</td>\n",
       "      <td>40</td>\n",
       "      <td>48</td>\n",
       "      <td>30</td>\n",
       "      <td>4</td>\n",
       "      <td>13</td>\n",
       "      <td>5</td>\n",
       "      <td>13</td>\n",
       "      <td>14</td>\n",
       "      <td>7</td>\n",
       "      <td>11</td>\n",
       "    </tr>\n",
       "    <tr>\n",
       "      <th>344</th>\n",
       "      <td>especie7</td>\n",
       "      <td>78</td>\n",
       "      <td>85</td>\n",
       "      <td>70</td>\n",
       "      <td>17</td>\n",
       "      <td>6</td>\n",
       "      <td>5</td>\n",
       "      <td>8</td>\n",
       "      <td>8</td>\n",
       "      <td>13</td>\n",
       "      <td>...</td>\n",
       "      <td>35</td>\n",
       "      <td>47</td>\n",
       "      <td>30</td>\n",
       "      <td>4</td>\n",
       "      <td>13</td>\n",
       "      <td>5</td>\n",
       "      <td>13</td>\n",
       "      <td>12</td>\n",
       "      <td>7</td>\n",
       "      <td>10</td>\n",
       "    </tr>\n",
       "    <tr>\n",
       "      <th>345</th>\n",
       "      <td>especie7</td>\n",
       "      <td>79</td>\n",
       "      <td>91</td>\n",
       "      <td>78</td>\n",
       "      <td>19</td>\n",
       "      <td>5</td>\n",
       "      <td>6</td>\n",
       "      <td>9</td>\n",
       "      <td>9</td>\n",
       "      <td>17</td>\n",
       "      <td>...</td>\n",
       "      <td>39</td>\n",
       "      <td>50</td>\n",
       "      <td>31</td>\n",
       "      <td>4</td>\n",
       "      <td>12</td>\n",
       "      <td>6</td>\n",
       "      <td>12</td>\n",
       "      <td>12</td>\n",
       "      <td>6</td>\n",
       "      <td>9</td>\n",
       "    </tr>\n",
       "    <tr>\n",
       "      <th>346</th>\n",
       "      <td>especie7</td>\n",
       "      <td>80</td>\n",
       "      <td>87</td>\n",
       "      <td>74</td>\n",
       "      <td>19</td>\n",
       "      <td>5</td>\n",
       "      <td>6</td>\n",
       "      <td>8</td>\n",
       "      <td>8</td>\n",
       "      <td>13</td>\n",
       "      <td>...</td>\n",
       "      <td>37</td>\n",
       "      <td>49</td>\n",
       "      <td>32</td>\n",
       "      <td>4</td>\n",
       "      <td>14</td>\n",
       "      <td>6</td>\n",
       "      <td>11</td>\n",
       "      <td>12</td>\n",
       "      <td>7</td>\n",
       "      <td>12</td>\n",
       "    </tr>\n",
       "    <tr>\n",
       "      <th>347</th>\n",
       "      <td>especie7</td>\n",
       "      <td>81</td>\n",
       "      <td>88</td>\n",
       "      <td>73</td>\n",
       "      <td>19</td>\n",
       "      <td>5</td>\n",
       "      <td>6</td>\n",
       "      <td>7</td>\n",
       "      <td>8</td>\n",
       "      <td>16</td>\n",
       "      <td>...</td>\n",
       "      <td>37</td>\n",
       "      <td>48</td>\n",
       "      <td>32</td>\n",
       "      <td>4</td>\n",
       "      <td>12</td>\n",
       "      <td>6</td>\n",
       "      <td>12</td>\n",
       "      <td>13</td>\n",
       "      <td>6</td>\n",
       "      <td>13</td>\n",
       "    </tr>\n",
       "    <tr>\n",
       "      <th>348</th>\n",
       "      <td>especie7</td>\n",
       "      <td>82</td>\n",
       "      <td>102</td>\n",
       "      <td>87</td>\n",
       "      <td>21</td>\n",
       "      <td>6</td>\n",
       "      <td>7</td>\n",
       "      <td>10</td>\n",
       "      <td>9</td>\n",
       "      <td>18</td>\n",
       "      <td>...</td>\n",
       "      <td>45</td>\n",
       "      <td>56</td>\n",
       "      <td>37</td>\n",
       "      <td>4</td>\n",
       "      <td>15</td>\n",
       "      <td>8</td>\n",
       "      <td>14</td>\n",
       "      <td>15</td>\n",
       "      <td>7</td>\n",
       "      <td>13</td>\n",
       "    </tr>\n",
       "    <tr>\n",
       "      <th>349</th>\n",
       "      <td>especie7</td>\n",
       "      <td>83</td>\n",
       "      <td>90</td>\n",
       "      <td>75</td>\n",
       "      <td>19</td>\n",
       "      <td>5</td>\n",
       "      <td>6</td>\n",
       "      <td>8</td>\n",
       "      <td>8</td>\n",
       "      <td>17</td>\n",
       "      <td>...</td>\n",
       "      <td>37</td>\n",
       "      <td>45</td>\n",
       "      <td>32</td>\n",
       "      <td>4</td>\n",
       "      <td>12</td>\n",
       "      <td>6</td>\n",
       "      <td>12</td>\n",
       "      <td>14</td>\n",
       "      <td>7</td>\n",
       "      <td>13</td>\n",
       "    </tr>\n",
       "    <tr>\n",
       "      <th>350</th>\n",
       "      <td>especie7</td>\n",
       "      <td>84</td>\n",
       "      <td>90</td>\n",
       "      <td>76</td>\n",
       "      <td>19</td>\n",
       "      <td>5</td>\n",
       "      <td>5</td>\n",
       "      <td>8</td>\n",
       "      <td>8</td>\n",
       "      <td>15</td>\n",
       "      <td>...</td>\n",
       "      <td>37</td>\n",
       "      <td>48</td>\n",
       "      <td>32</td>\n",
       "      <td>4</td>\n",
       "      <td>13</td>\n",
       "      <td>7</td>\n",
       "      <td>12</td>\n",
       "      <td>13</td>\n",
       "      <td>7</td>\n",
       "      <td>12</td>\n",
       "    </tr>\n",
       "    <tr>\n",
       "      <th>351</th>\n",
       "      <td>especie7</td>\n",
       "      <td>85</td>\n",
       "      <td>85</td>\n",
       "      <td>77</td>\n",
       "      <td>19</td>\n",
       "      <td>6</td>\n",
       "      <td>6</td>\n",
       "      <td>8</td>\n",
       "      <td>8</td>\n",
       "      <td>17</td>\n",
       "      <td>...</td>\n",
       "      <td>38</td>\n",
       "      <td>50</td>\n",
       "      <td>33</td>\n",
       "      <td>4</td>\n",
       "      <td>14</td>\n",
       "      <td>6</td>\n",
       "      <td>14</td>\n",
       "      <td>14</td>\n",
       "      <td>8</td>\n",
       "      <td>12</td>\n",
       "    </tr>\n",
       "    <tr>\n",
       "      <th>352</th>\n",
       "      <td>especie7</td>\n",
       "      <td>86</td>\n",
       "      <td>90</td>\n",
       "      <td>75</td>\n",
       "      <td>19</td>\n",
       "      <td>5</td>\n",
       "      <td>6</td>\n",
       "      <td>7</td>\n",
       "      <td>8</td>\n",
       "      <td>16</td>\n",
       "      <td>...</td>\n",
       "      <td>38</td>\n",
       "      <td>48</td>\n",
       "      <td>34</td>\n",
       "      <td>4</td>\n",
       "      <td>12</td>\n",
       "      <td>6</td>\n",
       "      <td>14</td>\n",
       "      <td>14</td>\n",
       "      <td>7</td>\n",
       "      <td>12</td>\n",
       "    </tr>\n",
       "    <tr>\n",
       "      <th>353</th>\n",
       "      <td>especie7</td>\n",
       "      <td>87</td>\n",
       "      <td>76</td>\n",
       "      <td>66</td>\n",
       "      <td>17</td>\n",
       "      <td>6</td>\n",
       "      <td>5</td>\n",
       "      <td>7</td>\n",
       "      <td>7</td>\n",
       "      <td>15</td>\n",
       "      <td>...</td>\n",
       "      <td>34</td>\n",
       "      <td>44</td>\n",
       "      <td>30</td>\n",
       "      <td>4</td>\n",
       "      <td>13</td>\n",
       "      <td>6</td>\n",
       "      <td>11</td>\n",
       "      <td>12</td>\n",
       "      <td>6</td>\n",
       "      <td>10</td>\n",
       "    </tr>\n",
       "    <tr>\n",
       "      <th>354</th>\n",
       "      <td>especie7</td>\n",
       "      <td>88</td>\n",
       "      <td>87</td>\n",
       "      <td>72</td>\n",
       "      <td>19</td>\n",
       "      <td>5</td>\n",
       "      <td>6</td>\n",
       "      <td>7</td>\n",
       "      <td>7</td>\n",
       "      <td>16</td>\n",
       "      <td>...</td>\n",
       "      <td>35</td>\n",
       "      <td>48</td>\n",
       "      <td>31</td>\n",
       "      <td>4</td>\n",
       "      <td>13</td>\n",
       "      <td>5</td>\n",
       "      <td>12</td>\n",
       "      <td>13</td>\n",
       "      <td>6</td>\n",
       "      <td>11</td>\n",
       "    </tr>\n",
       "    <tr>\n",
       "      <th>355</th>\n",
       "      <td>especie7</td>\n",
       "      <td>89</td>\n",
       "      <td>86</td>\n",
       "      <td>72</td>\n",
       "      <td>17</td>\n",
       "      <td>5</td>\n",
       "      <td>6</td>\n",
       "      <td>7</td>\n",
       "      <td>9</td>\n",
       "      <td>16</td>\n",
       "      <td>...</td>\n",
       "      <td>36</td>\n",
       "      <td>47</td>\n",
       "      <td>30</td>\n",
       "      <td>4</td>\n",
       "      <td>12</td>\n",
       "      <td>7</td>\n",
       "      <td>12</td>\n",
       "      <td>12</td>\n",
       "      <td>7</td>\n",
       "      <td>10</td>\n",
       "    </tr>\n",
       "    <tr>\n",
       "      <th>356</th>\n",
       "      <td>especie7</td>\n",
       "      <td>90</td>\n",
       "      <td>83</td>\n",
       "      <td>70</td>\n",
       "      <td>17</td>\n",
       "      <td>5</td>\n",
       "      <td>6</td>\n",
       "      <td>8</td>\n",
       "      <td>7</td>\n",
       "      <td>15</td>\n",
       "      <td>...</td>\n",
       "      <td>36</td>\n",
       "      <td>44</td>\n",
       "      <td>28</td>\n",
       "      <td>4</td>\n",
       "      <td>12</td>\n",
       "      <td>6</td>\n",
       "      <td>12</td>\n",
       "      <td>13</td>\n",
       "      <td>6</td>\n",
       "      <td>11</td>\n",
       "    </tr>\n",
       "    <tr>\n",
       "      <th>357</th>\n",
       "      <td>especie7</td>\n",
       "      <td>91</td>\n",
       "      <td>80</td>\n",
       "      <td>66</td>\n",
       "      <td>17</td>\n",
       "      <td>5</td>\n",
       "      <td>5</td>\n",
       "      <td>7</td>\n",
       "      <td>7</td>\n",
       "      <td>14</td>\n",
       "      <td>...</td>\n",
       "      <td>33</td>\n",
       "      <td>42</td>\n",
       "      <td>28</td>\n",
       "      <td>4</td>\n",
       "      <td>12</td>\n",
       "      <td>5</td>\n",
       "      <td>12</td>\n",
       "      <td>13</td>\n",
       "      <td>6</td>\n",
       "      <td>12</td>\n",
       "    </tr>\n",
       "    <tr>\n",
       "      <th>358</th>\n",
       "      <td>especie7</td>\n",
       "      <td>92</td>\n",
       "      <td>97</td>\n",
       "      <td>82</td>\n",
       "      <td>21</td>\n",
       "      <td>6</td>\n",
       "      <td>6</td>\n",
       "      <td>9</td>\n",
       "      <td>9</td>\n",
       "      <td>18</td>\n",
       "      <td>...</td>\n",
       "      <td>42</td>\n",
       "      <td>51</td>\n",
       "      <td>35</td>\n",
       "      <td>4</td>\n",
       "      <td>13</td>\n",
       "      <td>6</td>\n",
       "      <td>14</td>\n",
       "      <td>15</td>\n",
       "      <td>7</td>\n",
       "      <td>12</td>\n",
       "    </tr>\n",
       "    <tr>\n",
       "      <th>359</th>\n",
       "      <td>especie7</td>\n",
       "      <td>93</td>\n",
       "      <td>83</td>\n",
       "      <td>69</td>\n",
       "      <td>17</td>\n",
       "      <td>5</td>\n",
       "      <td>5</td>\n",
       "      <td>7</td>\n",
       "      <td>7</td>\n",
       "      <td>14</td>\n",
       "      <td>...</td>\n",
       "      <td>36</td>\n",
       "      <td>44</td>\n",
       "      <td>30</td>\n",
       "      <td>4</td>\n",
       "      <td>12</td>\n",
       "      <td>6</td>\n",
       "      <td>12</td>\n",
       "      <td>13</td>\n",
       "      <td>7</td>\n",
       "      <td>10</td>\n",
       "    </tr>\n",
       "    <tr>\n",
       "      <th>360</th>\n",
       "      <td>especie7</td>\n",
       "      <td>94</td>\n",
       "      <td>90</td>\n",
       "      <td>74</td>\n",
       "      <td>18</td>\n",
       "      <td>5</td>\n",
       "      <td>5</td>\n",
       "      <td>8</td>\n",
       "      <td>7</td>\n",
       "      <td>16</td>\n",
       "      <td>...</td>\n",
       "      <td>40</td>\n",
       "      <td>50</td>\n",
       "      <td>33</td>\n",
       "      <td>4</td>\n",
       "      <td>14</td>\n",
       "      <td>6</td>\n",
       "      <td>13</td>\n",
       "      <td>13</td>\n",
       "      <td>7</td>\n",
       "      <td>11</td>\n",
       "    </tr>\n",
       "    <tr>\n",
       "      <th>361</th>\n",
       "      <td>especie7</td>\n",
       "      <td>95</td>\n",
       "      <td>98</td>\n",
       "      <td>82</td>\n",
       "      <td>20</td>\n",
       "      <td>6</td>\n",
       "      <td>6</td>\n",
       "      <td>9</td>\n",
       "      <td>9</td>\n",
       "      <td>17</td>\n",
       "      <td>...</td>\n",
       "      <td>41</td>\n",
       "      <td>53</td>\n",
       "      <td>36</td>\n",
       "      <td>4</td>\n",
       "      <td>14</td>\n",
       "      <td>7</td>\n",
       "      <td>12</td>\n",
       "      <td>12</td>\n",
       "      <td>7</td>\n",
       "      <td>12</td>\n",
       "    </tr>\n",
       "    <tr>\n",
       "      <th>362</th>\n",
       "      <td>especie7</td>\n",
       "      <td>96</td>\n",
       "      <td>86</td>\n",
       "      <td>72</td>\n",
       "      <td>18</td>\n",
       "      <td>6</td>\n",
       "      <td>5</td>\n",
       "      <td>8</td>\n",
       "      <td>7</td>\n",
       "      <td>15</td>\n",
       "      <td>...</td>\n",
       "      <td>35</td>\n",
       "      <td>46</td>\n",
       "      <td>31</td>\n",
       "      <td>4</td>\n",
       "      <td>13</td>\n",
       "      <td>6</td>\n",
       "      <td>13</td>\n",
       "      <td>13</td>\n",
       "      <td>7</td>\n",
       "      <td>12</td>\n",
       "    </tr>\n",
       "    <tr>\n",
       "      <th>363</th>\n",
       "      <td>especie7</td>\n",
       "      <td>97</td>\n",
       "      <td>90</td>\n",
       "      <td>75</td>\n",
       "      <td>18</td>\n",
       "      <td>5</td>\n",
       "      <td>6</td>\n",
       "      <td>8</td>\n",
       "      <td>7</td>\n",
       "      <td>17</td>\n",
       "      <td>...</td>\n",
       "      <td>37</td>\n",
       "      <td>50</td>\n",
       "      <td>32</td>\n",
       "      <td>4</td>\n",
       "      <td>13</td>\n",
       "      <td>6</td>\n",
       "      <td>12</td>\n",
       "      <td>13</td>\n",
       "      <td>7</td>\n",
       "      <td>12</td>\n",
       "    </tr>\n",
       "    <tr>\n",
       "      <th>364</th>\n",
       "      <td>especie7</td>\n",
       "      <td>98</td>\n",
       "      <td>84</td>\n",
       "      <td>70</td>\n",
       "      <td>16</td>\n",
       "      <td>5</td>\n",
       "      <td>5</td>\n",
       "      <td>6</td>\n",
       "      <td>7</td>\n",
       "      <td>16</td>\n",
       "      <td>...</td>\n",
       "      <td>39</td>\n",
       "      <td>45</td>\n",
       "      <td>30</td>\n",
       "      <td>4</td>\n",
       "      <td>12</td>\n",
       "      <td>5</td>\n",
       "      <td>11</td>\n",
       "      <td>11</td>\n",
       "      <td>6</td>\n",
       "      <td>11</td>\n",
       "    </tr>\n",
       "    <tr>\n",
       "      <th>365</th>\n",
       "      <td>especie7</td>\n",
       "      <td>99</td>\n",
       "      <td>84</td>\n",
       "      <td>70</td>\n",
       "      <td>18</td>\n",
       "      <td>5</td>\n",
       "      <td>5</td>\n",
       "      <td>7</td>\n",
       "      <td>7</td>\n",
       "      <td>15</td>\n",
       "      <td>...</td>\n",
       "      <td>39</td>\n",
       "      <td>45</td>\n",
       "      <td>29</td>\n",
       "      <td>4</td>\n",
       "      <td>9</td>\n",
       "      <td>6</td>\n",
       "      <td>11</td>\n",
       "      <td>14</td>\n",
       "      <td>7</td>\n",
       "      <td>11</td>\n",
       "    </tr>\n",
       "    <tr>\n",
       "      <th>366</th>\n",
       "      <td>especie7</td>\n",
       "      <td>100</td>\n",
       "      <td>95</td>\n",
       "      <td>80</td>\n",
       "      <td>19</td>\n",
       "      <td>6</td>\n",
       "      <td>6</td>\n",
       "      <td>9</td>\n",
       "      <td>9</td>\n",
       "      <td>18</td>\n",
       "      <td>...</td>\n",
       "      <td>39</td>\n",
       "      <td>50</td>\n",
       "      <td>35</td>\n",
       "      <td>4</td>\n",
       "      <td>13</td>\n",
       "      <td>7</td>\n",
       "      <td>13</td>\n",
       "      <td>14</td>\n",
       "      <td>7</td>\n",
       "      <td>12</td>\n",
       "    </tr>\n",
       "  </tbody>\n",
       "</table>\n",
       "<p>367 rows × 21 columns</p>\n",
       "</div>"
      ],
      "text/plain": [
       "      especie  org  long_total  long_estandar  long_cefalica  diam_ojo  \\\n",
       "0    especie1    1         100             86             22         6   \n",
       "1    especie1    2          89             74             19         6   \n",
       "2    especie1    3         114             95             24         7   \n",
       "3    especie1    4          88             74             19         5   \n",
       "4    especie1    5         124            103             30         8   \n",
       "5    especie1   12         101             84             23         6   \n",
       "6    especie1   13         100             86             23         6   \n",
       "7    especie1    6         113             93             26         7   \n",
       "8    especie1    7         109             93             25         7   \n",
       "9    especie1    8         129            109             32         8   \n",
       "10   especie1    9         118             98             28         7   \n",
       "11   especie1   10         113            100             26         7   \n",
       "12   especie1   11          96             81             21         6   \n",
       "13   especie1   14          98             80             24         6   \n",
       "14   especie1   15          92             76             22         7   \n",
       "15   especie1   16          99             82             23         6   \n",
       "16   especie1   17          88             75             18         6   \n",
       "17   especie1   18          99             88             23         6   \n",
       "18   especie1   19         129            112             28         8   \n",
       "19   especie1   20         132            112             30         8   \n",
       "20   especie1   21         114             95             24         7   \n",
       "21   especie1   22         128            112             28         8   \n",
       "22   especie1   23         105             88             24         6   \n",
       "23   especie1   25          98             81             19         5   \n",
       "24   especie1   26         111             91             22         6   \n",
       "25   especie1   27          98             82             22         6   \n",
       "26   especie1   28          96             84             18         5   \n",
       "27   especie1   29         125            105             28         8   \n",
       "28   especie1   30         107             89             23         6   \n",
       "29   especie1   31         112             95             24         6   \n",
       "..        ...  ...         ...            ...            ...       ...   \n",
       "337  especie7   71          82             69             17         5   \n",
       "338  especie7   72          78             64             17         5   \n",
       "339  especie7   73          88             75             18         5   \n",
       "340  especie7   74          86             75             19         5   \n",
       "341  especie7   75          82             70             18         5   \n",
       "342  especie7   76          88             72             18         5   \n",
       "343  especie7   77          85             74             18         5   \n",
       "344  especie7   78          85             70             17         6   \n",
       "345  especie7   79          91             78             19         5   \n",
       "346  especie7   80          87             74             19         5   \n",
       "347  especie7   81          88             73             19         5   \n",
       "348  especie7   82         102             87             21         6   \n",
       "349  especie7   83          90             75             19         5   \n",
       "350  especie7   84          90             76             19         5   \n",
       "351  especie7   85          85             77             19         6   \n",
       "352  especie7   86          90             75             19         5   \n",
       "353  especie7   87          76             66             17         6   \n",
       "354  especie7   88          87             72             19         5   \n",
       "355  especie7   89          86             72             17         5   \n",
       "356  especie7   90          83             70             17         5   \n",
       "357  especie7   91          80             66             17         5   \n",
       "358  especie7   92          97             82             21         6   \n",
       "359  especie7   93          83             69             17         5   \n",
       "360  especie7   94          90             74             18         5   \n",
       "361  especie7   95          98             82             20         6   \n",
       "362  especie7   96          86             72             18         6   \n",
       "363  especie7   97          90             75             18         5   \n",
       "364  especie7   98          84             70             16         5   \n",
       "365  especie7   99          84             70             18         5   \n",
       "366  especie7  100          95             80             19         6   \n",
       "\n",
       "     long_hocico  long_mandibular  long_postorbital  long_pedunculo_caudal  \\\n",
       "0              8                9                 9                     19   \n",
       "1              6                8                 8                     18   \n",
       "2              9               11                11                     20   \n",
       "3              6                8                 8                     17   \n",
       "4             11               14                14                     22   \n",
       "5              8               10                10                     17   \n",
       "6              8               10                 9                     19   \n",
       "7              9               12                12                     19   \n",
       "8              8               10                10                     20   \n",
       "9             11               14                14                     19   \n",
       "10             9               13                12                     19   \n",
       "11             8               15                11                     22   \n",
       "12             8               10                10                     17   \n",
       "13             9               11                10                     15   \n",
       "14             8               10                10                     15   \n",
       "15             8               10                10                     17   \n",
       "16             6                9                10                     16   \n",
       "17             7               10                10                     19   \n",
       "18             9               12                12                     25   \n",
       "19            10               13                13                     20   \n",
       "20             8               10                10                     20   \n",
       "21             8               11                11                     20   \n",
       "22             7                8                10                     18   \n",
       "23             6                7                 8                     20   \n",
       "24             8               10                11                     20   \n",
       "25             7               10                10                     17   \n",
       "26             6                8                 8                     21   \n",
       "27            10               14                14                     22   \n",
       "28             8               10                11                     18   \n",
       "29             8               10                10                     20   \n",
       "..           ...              ...               ...                    ...   \n",
       "337            6                7                 7                     17   \n",
       "338            5                7                 7                     14   \n",
       "339            5                7                 7                     14   \n",
       "340            6                7                 8                     15   \n",
       "341            7                7                 8                     15   \n",
       "342            6                8                 8                     17   \n",
       "343            6                7                 7                     16   \n",
       "344            5                8                 8                     13   \n",
       "345            6                9                 9                     17   \n",
       "346            6                8                 8                     13   \n",
       "347            6                7                 8                     16   \n",
       "348            7               10                 9                     18   \n",
       "349            6                8                 8                     17   \n",
       "350            5                8                 8                     15   \n",
       "351            6                8                 8                     17   \n",
       "352            6                7                 8                     16   \n",
       "353            5                7                 7                     15   \n",
       "354            6                7                 7                     16   \n",
       "355            6                7                 9                     16   \n",
       "356            6                8                 7                     15   \n",
       "357            5                7                 7                     14   \n",
       "358            6                9                 9                     18   \n",
       "359            5                7                 7                     14   \n",
       "360            5                8                 7                     16   \n",
       "361            6                9                 9                     17   \n",
       "362            5                8                 7                     15   \n",
       "363            6                8                 7                     17   \n",
       "364            5                6                 7                     16   \n",
       "365            5                7                 7                     15   \n",
       "366            6                9                 9                     18   \n",
       "\n",
       "            ...           dist_hocico_1a_aleta_dorsal  \\\n",
       "0           ...                                    44   \n",
       "1           ...                                    39   \n",
       "2           ...                                    49   \n",
       "3           ...                                    39   \n",
       "4           ...                                    57   \n",
       "5           ...                                    46   \n",
       "6           ...                                    47   \n",
       "7           ...                                    52   \n",
       "8           ...                                    48   \n",
       "9           ...                                    60   \n",
       "10          ...                                    55   \n",
       "11          ...                                    54   \n",
       "12          ...                                    43   \n",
       "13          ...                                    46   \n",
       "14          ...                                    42   \n",
       "15          ...                                    44   \n",
       "16          ...                                    40   \n",
       "17          ...                                    47   \n",
       "18          ...                                    56   \n",
       "19          ...                                    59   \n",
       "20          ...                                    50   \n",
       "21          ...                                    57   \n",
       "22          ...                                    49   \n",
       "23          ...                                    42   \n",
       "24          ...                                    49   \n",
       "25          ...                                    41   \n",
       "26          ...                                    40   \n",
       "27          ...                                    57   \n",
       "28          ...                                    42   \n",
       "29          ...                                    48   \n",
       "..          ...                                   ...   \n",
       "337         ...                                    36   \n",
       "338         ...                                    33   \n",
       "339         ...                                    36   \n",
       "340         ...                                    39   \n",
       "341         ...                                    35   \n",
       "342         ...                                    40   \n",
       "343         ...                                    40   \n",
       "344         ...                                    35   \n",
       "345         ...                                    39   \n",
       "346         ...                                    37   \n",
       "347         ...                                    37   \n",
       "348         ...                                    45   \n",
       "349         ...                                    37   \n",
       "350         ...                                    37   \n",
       "351         ...                                    38   \n",
       "352         ...                                    38   \n",
       "353         ...                                    34   \n",
       "354         ...                                    35   \n",
       "355         ...                                    36   \n",
       "356         ...                                    36   \n",
       "357         ...                                    33   \n",
       "358         ...                                    42   \n",
       "359         ...                                    36   \n",
       "360         ...                                    40   \n",
       "361         ...                                    41   \n",
       "362         ...                                    35   \n",
       "363         ...                                    37   \n",
       "364         ...                                    39   \n",
       "365         ...                                    39   \n",
       "366         ...                                    39   \n",
       "\n",
       "     dist_hocico_2a_aleta_dorsal  dist_hocico_aleta_pelvica  \\\n",
       "0                             56                         36   \n",
       "1                             48                         31   \n",
       "2                             61                         40   \n",
       "3                             48                         31   \n",
       "4                             73                         45   \n",
       "5                             57                         39   \n",
       "6                             57                         38   \n",
       "7                             60                         42   \n",
       "8                             60                         37   \n",
       "9                             73                         48   \n",
       "10                            67                         42   \n",
       "11                            67                         42   \n",
       "12                            53                         34   \n",
       "13                            55                         38   \n",
       "14                            52                         35   \n",
       "15                            55                         35   \n",
       "16                            50                         32   \n",
       "17                            58                         38   \n",
       "18                            70                         46   \n",
       "19                            72                         49   \n",
       "20                            62                         40   \n",
       "21                            72                         48   \n",
       "22                            58                         38   \n",
       "23                            53                         36   \n",
       "24                            60                         39   \n",
       "25                            51                         39   \n",
       "26                            50                         40   \n",
       "27                            73                         45   \n",
       "28                            53                         39   \n",
       "29                            62                         40   \n",
       "..                           ...                        ...   \n",
       "337                           45                         27   \n",
       "338                           42                         27   \n",
       "339                           49                         32   \n",
       "340                           52                         30   \n",
       "341                           43                         28   \n",
       "342                           48                         31   \n",
       "343                           48                         30   \n",
       "344                           47                         30   \n",
       "345                           50                         31   \n",
       "346                           49                         32   \n",
       "347                           48                         32   \n",
       "348                           56                         37   \n",
       "349                           45                         32   \n",
       "350                           48                         32   \n",
       "351                           50                         33   \n",
       "352                           48                         34   \n",
       "353                           44                         30   \n",
       "354                           48                         31   \n",
       "355                           47                         30   \n",
       "356                           44                         28   \n",
       "357                           42                         28   \n",
       "358                           51                         35   \n",
       "359                           44                         30   \n",
       "360                           50                         33   \n",
       "361                           53                         36   \n",
       "362                           46                         31   \n",
       "363                           50                         32   \n",
       "364                           45                         30   \n",
       "365                           45                         29   \n",
       "366                           50                         35   \n",
       "\n",
       "     long_base_aleta_pelvica  alt_máxima_cuerpo  alt_min_pedunculo_caudal  \\\n",
       "0                          3                 17                         7   \n",
       "1                          2                 13                         6   \n",
       "2                          6                 20                         8   \n",
       "3                          2                 14                         6   \n",
       "4                          3                 19                        10   \n",
       "5                          5                 17                         8   \n",
       "6                          5                 18                         9   \n",
       "7                          3                 18                        10   \n",
       "8                          5                 16                         8   \n",
       "9                          3                 18                         9   \n",
       "10                         3                 17                         8   \n",
       "11                         3                 19                         7   \n",
       "12                         4                 18                         8   \n",
       "13                         4                 15                         8   \n",
       "14                         5                 16                         9   \n",
       "15                         5                 16                         9   \n",
       "16                         5                 15                         8   \n",
       "17                         5                 18                         8   \n",
       "18                         5                 19                        10   \n",
       "19                         5                 20                        10   \n",
       "20                         5                 19                         9   \n",
       "21                         5                 20                        10   \n",
       "22                         5                 16                         8   \n",
       "23                         4                 17                         6   \n",
       "24                         5                 15                         8   \n",
       "25                         4                 18                         7   \n",
       "26                         4                 12                         6   \n",
       "27                         5                 19                        10   \n",
       "28                         5                 16                         8   \n",
       "29                         5                 18                         9   \n",
       "..                       ...                ...                       ...   \n",
       "337                        4                 11                         6   \n",
       "338                        4                 12                         6   \n",
       "339                        4                 13                         6   \n",
       "340                        4                 14                         7   \n",
       "341                        4                 12                         6   \n",
       "342                        4                 13                         5   \n",
       "343                        4                 13                         5   \n",
       "344                        4                 13                         5   \n",
       "345                        4                 12                         6   \n",
       "346                        4                 14                         6   \n",
       "347                        4                 12                         6   \n",
       "348                        4                 15                         8   \n",
       "349                        4                 12                         6   \n",
       "350                        4                 13                         7   \n",
       "351                        4                 14                         6   \n",
       "352                        4                 12                         6   \n",
       "353                        4                 13                         6   \n",
       "354                        4                 13                         5   \n",
       "355                        4                 12                         7   \n",
       "356                        4                 12                         6   \n",
       "357                        4                 12                         5   \n",
       "358                        4                 13                         6   \n",
       "359                        4                 12                         6   \n",
       "360                        4                 14                         6   \n",
       "361                        4                 14                         7   \n",
       "362                        4                 13                         6   \n",
       "363                        4                 13                         6   \n",
       "364                        4                 12                         5   \n",
       "365                        4                  9                         6   \n",
       "366                        4                 13                         7   \n",
       "\n",
       "     alt_aleta_anal  alt_aleta_pectoral  alt_1a_aleta_dorsal  \\\n",
       "0                14                  16                    8   \n",
       "1                12                  14                    7   \n",
       "2                15                  18                    7   \n",
       "3                12                  14                    7   \n",
       "4                19                  19                   10   \n",
       "5                15                  17                    8   \n",
       "6                16                  20                    8   \n",
       "7                17                  18                    8   \n",
       "8                15                  16                    8   \n",
       "9                17                  20                    5   \n",
       "10               17                  18                    8   \n",
       "11               14                  19                    8   \n",
       "12               14                  16                    8   \n",
       "13               15                  16                    7   \n",
       "14               14                  15                    8   \n",
       "15               15                  16                    8   \n",
       "16               14                  15                    7   \n",
       "17               13                  16                    8   \n",
       "18               16                  22                   10   \n",
       "19               18                  21                   11   \n",
       "20               16                  19                   10   \n",
       "21               17                  22                   11   \n",
       "22               15                  18                    6   \n",
       "23               13                  15                    7   \n",
       "24               15                  15                    8   \n",
       "25               14                  15                    8   \n",
       "26               10                  11                    7   \n",
       "27               19                  19                   10   \n",
       "28               12                  16                    7   \n",
       "29               14                  18                    8   \n",
       "..              ...                 ...                  ...   \n",
       "337              14                  12                    6   \n",
       "338              12                  10                    6   \n",
       "339              15                  12                    6   \n",
       "340              12                  14                    6   \n",
       "341              12                  11                    6   \n",
       "342              12                  14                    7   \n",
       "343              13                  14                    7   \n",
       "344              13                  12                    7   \n",
       "345              12                  12                    6   \n",
       "346              11                  12                    7   \n",
       "347              12                  13                    6   \n",
       "348              14                  15                    7   \n",
       "349              12                  14                    7   \n",
       "350              12                  13                    7   \n",
       "351              14                  14                    8   \n",
       "352              14                  14                    7   \n",
       "353              11                  12                    6   \n",
       "354              12                  13                    6   \n",
       "355              12                  12                    7   \n",
       "356              12                  13                    6   \n",
       "357              12                  13                    6   \n",
       "358              14                  15                    7   \n",
       "359              12                  13                    7   \n",
       "360              13                  13                    7   \n",
       "361              12                  12                    7   \n",
       "362              13                  13                    7   \n",
       "363              12                  13                    7   \n",
       "364              11                  11                    6   \n",
       "365              11                  14                    7   \n",
       "366              13                  14                    7   \n",
       "\n",
       "     alt_2a_aleta_dorsal  \n",
       "0                     13  \n",
       "1                     11  \n",
       "2                     16  \n",
       "3                     11  \n",
       "4                     16  \n",
       "5                     13  \n",
       "6                     13  \n",
       "7                     16  \n",
       "8                     13  \n",
       "9                     17  \n",
       "10                    12  \n",
       "11                    13  \n",
       "12                    13  \n",
       "13                    14  \n",
       "14                    13  \n",
       "15                    13  \n",
       "16                    12  \n",
       "17                    13  \n",
       "18                    22  \n",
       "19                    16  \n",
       "20                    15  \n",
       "21                    16  \n",
       "22                    15  \n",
       "23                    12  \n",
       "24                    13  \n",
       "25                    13  \n",
       "26                    12  \n",
       "27                    16  \n",
       "28                    13  \n",
       "29                    14  \n",
       "..                   ...  \n",
       "337                   10  \n",
       "338                   12  \n",
       "339                   10  \n",
       "340                   12  \n",
       "341                   11  \n",
       "342                   10  \n",
       "343                   11  \n",
       "344                   10  \n",
       "345                    9  \n",
       "346                   12  \n",
       "347                   13  \n",
       "348                   13  \n",
       "349                   13  \n",
       "350                   12  \n",
       "351                   12  \n",
       "352                   12  \n",
       "353                   10  \n",
       "354                   11  \n",
       "355                   10  \n",
       "356                   11  \n",
       "357                   12  \n",
       "358                   12  \n",
       "359                   10  \n",
       "360                   11  \n",
       "361                   12  \n",
       "362                   12  \n",
       "363                   12  \n",
       "364                   11  \n",
       "365                   11  \n",
       "366                   12  \n",
       "\n",
       "[367 rows x 21 columns]"
      ]
     },
     "execution_count": 105,
     "metadata": {},
     "output_type": "execute_result"
    }
   ],
   "source": [
    "f = pd.read_csv(\"7sppMorfo.csv\")\n",
    "f"
   ]
  },
  {
   "cell_type": "markdown",
   "metadata": {},
   "source": [
    "# Describa el contenido del archivo que acaba de abrir."
   ]
  },
  {
   "cell_type": "code",
   "execution_count": null,
   "metadata": {},
   "outputs": [],
   "source": []
  }
 ],
 "metadata": {
  "kernelspec": {
   "display_name": "Python 3",
   "language": "python",
   "name": "python3"
  },
  "language_info": {
   "codemirror_mode": {
    "name": "ipython",
    "version": 3
   },
   "file_extension": ".py",
   "mimetype": "text/x-python",
   "name": "python",
   "nbconvert_exporter": "python",
   "pygments_lexer": "ipython3",
   "version": "3.7.1"
  }
 },
 "nbformat": 4,
 "nbformat_minor": 2
}
