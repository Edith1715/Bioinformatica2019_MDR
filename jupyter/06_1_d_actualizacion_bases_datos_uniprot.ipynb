{
 "cells": [
  {
   "cell_type": "markdown",
   "metadata": {},
   "source": [
    "# Descarga de las bases de datos del Uniprot"
   ]
  },
  {
   "cell_type": "markdown",
   "metadata": {},
   "source": [
    "## En el NCBI hay una base de datos `swissprot`, pero esta base tiene algunas diferentes con respecto a la de Uniprot, por lo que será necesario descargar la base de datos original (Uniprot)\n",
    "https://www.uniprot.org/\n",
    "En el recuadro azul del lado izquierdo donde dice *Manually annotated and reviewed*"
   ]
  },
  {
   "cell_type": "markdown",
   "metadata": {},
   "source": [
    "<img src=\"img/uniprot_1.png\">"
   ]
  },
  {
   "cell_type": "markdown",
   "metadata": {},
   "source": [
    "# Mover el cursor a *Download* y dar clic"
   ]
  },
  {
   "cell_type": "markdown",
   "metadata": {},
   "source": [
    "<img src=\"img/uniprot_2.png\">"
   ]
  },
  {
   "cell_type": "markdown",
   "metadata": {},
   "source": [
    "# Descargar el archivo Fasta sin comprimir, si se tiene una conexión con cable, si es por inalámbrico, descargarlo comprimido"
   ]
  },
  {
   "cell_type": "markdown",
   "metadata": {},
   "source": [
    "<img src=\"img/uniprot_3.png\">"
   ]
  },
  {
   "cell_type": "markdown",
   "metadata": {},
   "source": [
    "## Una vez que se ha descargado el archivo, se necesita dar un formato para que blastx lo pueda interpretar adecuadamente"
   ]
  },
  {
   "cell_type": "markdown",
   "metadata": {},
   "source": [
    "# Para la creación de una base de datos a partir de un archivo fasta para la búsqueda con blast, se utiliza el comando\n",
    "`makeblastdb –in mydb.fsa –dbtype nucl –parse_seqids`\n",
    "\n",
    "donde `makeblastdb` es el comando para la creación de la base de datos, `–in` el archivo de entrada, en este caso `mydb.fsa`, `–dbtype` indica el tipo de base de datos, en este caso nucleótidos `nucl` y `–parse_seqids` es el indicador para que utilice los identificadores.\n"
   ]
  },
  {
   "cell_type": "code",
   "execution_count": 2,
   "metadata": {},
   "outputs": [
    {
     "name": "stdout",
     "output_type": "stream",
     "text": [
      "/Users/migueldelrio/Desktop/bigdata/uniprot\n"
     ]
    }
   ],
   "source": [
    "cd ~/Desktop/bigdata/uniprot/"
   ]
  },
  {
   "cell_type": "code",
   "execution_count": 8,
   "metadata": {},
   "outputs": [
    {
     "name": "stdout",
     "output_type": "stream",
     "text": [
      "/Volumes/Respaldo_completo/Escritorio/bigdata/uniprot\n"
     ]
    }
   ],
   "source": [
    "cd /Volumes/Respaldo_completo/Escritorio/bigdata/uniprot/"
   ]
  },
  {
   "cell_type": "code",
   "execution_count": 9,
   "metadata": {},
   "outputs": [
    {
     "name": "stdout",
     "output_type": "stream",
     "text": [
      "uniprot.fasta\r\n"
     ]
    }
   ],
   "source": [
    "ls"
   ]
  },
  {
   "cell_type": "code",
   "execution_count": 10,
   "metadata": {},
   "outputs": [
    {
     "name": "stdout",
     "output_type": "stream",
     "text": [
      ">sp|P85552|PVK2_BLAGE Periviscerokinin-2 OS=Blattella germanica OX=6973 PE=1 SV=1\r\n",
      "GSSGLISMPRV\r\n",
      ">sp|Q8A9S3|PYRB_BACTN Aspartate carbamoyltransferase OS=Bacteroides thetaiotaomicron (strain ATCC 29148 / DSM 2079 / NCTC 10582 / E50 / VPI-5482) OX=226186 GN=pyrB PE=3 SV=1\r\n",
      "MENRSLVTIAEHSKEKILYMLEMAKQFEMNPNRRLLQGKVVATLFFEPSTRTRLSFETAA\r\n",
      "NRLGARVIGFTDPKATSSSKGETLKDTIMMVSSYADIIVMRHYLEGAARYASEVAPVPIV\r\n",
      "NAGDGANQHPSQTMLDLYSIYKTQGTLENLNIFLVGDLKYGRTVHSLLMAMRHFNPTFHF\r\n",
      "IAPDELKMPEEYKLYCKEHQIKYIEHTEFTEEIIADADILYMTRVQRERFTDLMEYERVK\r\n",
      "NVYILRNKMLENTRPNLRILHPLPRVNEIAYDVDNNPKAYYFQQAQNGLYAREAILCDVL\r\n",
      "GITLEDVKNDILL\r\n",
      ">sp|Q9FJ50|PYL11_ARATH Abscisic acid receptor PYL11 OS=Arabidopsis thaliana OX=3702 GN=PYL11 PE=1 SV=1\r\n"
     ]
    }
   ],
   "source": [
    "!head uniprot.fasta"
   ]
  },
  {
   "cell_type": "markdown",
   "metadata": {},
   "source": [
    "# Qué tipo de secuencias contiene el archivo uniprot.fasta?"
   ]
  },
  {
   "cell_type": "markdown",
   "metadata": {},
   "source": [
    "# Corrija el siguiente comando de acuerdo a su respuesta"
   ]
  },
  {
   "cell_type": "code",
   "execution_count": null,
   "metadata": {},
   "outputs": [],
   "source": [
    "%%bash\n",
    "makeblastdb –in uniprot.fasta –dbtype nucl –parse_seqids"
   ]
  },
  {
   "cell_type": "code",
   "execution_count": null,
   "metadata": {},
   "outputs": [],
   "source": []
  },
  {
   "cell_type": "code",
   "execution_count": null,
   "metadata": {},
   "outputs": [],
   "source": []
  },
  {
   "cell_type": "markdown",
   "metadata": {},
   "source": [
    "# Si hay unos errores, verifique su comandos y explique qué pasó"
   ]
  },
  {
   "cell_type": "code",
   "execution_count": 12,
   "metadata": {},
   "outputs": [
    {
     "name": "stdout",
     "output_type": "stream",
     "text": [
      "\n",
      "\n",
      "Building a new DB, current time: 01/16/2019 21:37:42\n",
      "New DB name:   /Volumes/Respaldo_completo/Escritorio/bigdata/uniprot/uniprot.fasta\n",
      "New DB title:  uniprot.fasta\n",
      "Sequence type: Protein\n",
      "Keep MBits: T\n",
      "Maximum file size: 1000000000B\n",
      "Adding sequences from FASTA; added 558681 sequences in 23.3689 seconds.\n"
     ]
    }
   ],
   "source": [
    "%%bash\n",
    "makeblastdb -in uniprot.fasta -dbtype prot -parse_seqids"
   ]
  },
  {
   "cell_type": "code",
   "execution_count": 14,
   "metadata": {},
   "outputs": [
    {
     "name": "stdout",
     "output_type": "stream",
     "text": [
      "total 1180768\r\n",
      "-rw-r--r--@ 1 migueldelrio  staff   263M Nov 15 17:16 uniprot.fasta\r\n",
      "-rw-r--r--@ 1 migueldelrio  staff    98M Jan 16 21:38 uniprot.fasta.phr\r\n",
      "-rw-r--r--@ 1 migueldelrio  staff   4.3M Jan 16 21:38 uniprot.fasta.pin\r\n",
      "-rw-r--r--@ 1 migueldelrio  staff   2.1M Jan 16 21:38 uniprot.fasta.pog\r\n",
      "-rw-r--r--@ 1 migueldelrio  staff    17M Jan 16 21:38 uniprot.fasta.psd\r\n",
      "-rw-r--r--@ 1 migueldelrio  staff   406K Jan 16 21:38 uniprot.fasta.psi\r\n",
      "-rw-r--r--@ 1 migueldelrio  staff   192M Jan 16 21:38 uniprot.fasta.psq\r\n"
     ]
    }
   ],
   "source": [
    "ls -lh"
   ]
  },
  {
   "cell_type": "code",
   "execution_count": null,
   "metadata": {},
   "outputs": [],
   "source": []
  }
 ],
 "metadata": {
  "kernelspec": {
   "display_name": "Python 3",
   "language": "python",
   "name": "python3"
  },
  "language_info": {
   "codemirror_mode": {
    "name": "ipython",
    "version": 3
   },
   "file_extension": ".py",
   "mimetype": "text/x-python",
   "name": "python",
   "nbconvert_exporter": "python",
   "pygments_lexer": "ipython3",
   "version": "3.6.6"
  }
 },
 "nbformat": 4,
 "nbformat_minor": 2
}
